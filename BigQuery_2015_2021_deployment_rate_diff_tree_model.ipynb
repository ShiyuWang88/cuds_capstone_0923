{
  "cells": [
    {
      "cell_type": "code",
      "execution_count": null,
      "metadata": {
        "id": "w6MmeBUBJ-9E"
      },
      "outputs": [],
      "source": [
        "# @title Setup\n",
        "from google.colab import auth\n",
        "from google.cloud import bigquery\n",
        "from google.colab import data_table\n",
        "\n",
        "project = 'broadband-data' # Project ID inserted based on the query results selected to explore\n",
        "location = 'US' # Location inserted based on the query results selected to explore\n",
        "client = bigquery.Client(project=project, location=location)\n",
        "data_table.enable_dataframe_formatter()\n",
        "auth.authenticate_user()"
      ]
    },
    {
      "cell_type": "markdown",
      "metadata": {
        "id": "pj42soltXW_H"
      },
      "source": [
        "## Reference SQL syntax from the original job\n",
        "Use the ```jobs.query```\n",
        "[method](https://cloud.google.com/bigquery/docs/reference/rest/v2/jobs/query) to\n",
        "return the SQL syntax from the job. This can be copied from the output cell\n",
        "below to edit the query now or in the future. Alternatively, you can use\n",
        "[this link](https://console.cloud.google.com/bigquery?j=broadband-data:US:bquxjob_6fae48ed_184ca653121)\n",
        "back to BigQuery to edit the query within the BigQuery user interface."
      ]
    },
    {
      "cell_type": "code",
      "execution_count": null,
      "metadata": {
        "id": "KxSqPfAeXW_K",
        "colab": {
          "base_uri": "https://localhost:8080/"
        },
        "outputId": "59a5c1f6-a69d-4da3-efd4-972bdbe64527"
      },
      "outputs": [
        {
          "output_type": "stream",
          "name": "stdout",
          "text": [
            "SELECT BlockGroupCode,\n",
            "       deploymentRate21 - deploymentRate15 AS deploymentRateDiff,\n",
            "       pop / NULLIF(landArea, 0) AS popDensity,\n",
            "       houseRoadDensity,\n",
            "       unemploymentRate,\n",
            "       houseOwnerRate,\n",
            "       maleRate,\n",
            "       ageUnder17Rate,\n",
            "       ageBetween18and24Rate,\n",
            "       ageAbove65Rate,\n",
            "       income AS medianIncome,\n",
            "       aboveHighSchoolRate,\n",
            "       aboveBachelorRate,\n",
            "       whiteRate,\n",
            "       MovedIn1yearRate,\n",
            "       newlyMovedRate,\n",
            "       repRatio,\n",
            "       demRatio,\n",
            "       IFNULL(HadFund, 0) AS hadFund,\n",
            "       avgAnnualTemp,\n",
            "       snowResideTime,\n",
            "       Latitute,\n",
            "       Longitude\n",
            "FROM `broadband-data.capstone.blockgroup_2020_normal`\n",
            "LEFT JOIN `broadband-data.usac_high_cost.Block_Group_Code_2015_2021` ON BlockGroupCode = Census_Block_Group_Code\n",
            "WHERE SUBSTR(BlockGroupCode, 1, 2) != \"02\" and SUBSTR(BlockGroupCode, 1, 2) != \"15\"\n"
          ]
        }
      ],
      "source": [
        "# Running this code will display the query used to generate your previous job\n",
        "\n",
        "job = client.get_job('bquxjob_6fae48ed_184ca653121') # Job ID inserted based on the query results selected to explore\n",
        "print(job.query)"
      ]
    },
    {
      "cell_type": "markdown",
      "metadata": {
        "id": "eY-wNOGO11ON"
      },
      "source": [
        "# Result set loaded from BigQuery job as a DataFrame\n",
        "Query results are referenced from the Job ID ran from BigQuery and the query\n",
        "does not need to be re-run to explore results. The ```to_dataframe```\n",
        "[method](https://googleapis.dev/python/bigquery/latest/generated/google.cloud.bigquery.job.QueryJob.html#google.cloud.bigquery.job.QueryJob.to_dataframe)\n",
        "downloads the results to a Pandas DataFrame by using the BigQuery Storage API.\n",
        "\n",
        "To edit query syntax, you can do so from the BigQuery SQL editor or in the\n",
        "```Optional:``` sections below."
      ]
    },
    {
      "cell_type": "code",
      "execution_count": null,
      "metadata": {
        "id": "bIw82qhuHWy0",
        "outputId": "af040f5e-3c01-423e-bd47-861b160f6516",
        "colab": {
          "base_uri": "https://localhost:8080/",
          "height": 505
        }
      },
      "outputs": [
        {
          "output_type": "stream",
          "name": "stdout",
          "text": [
            "Warning: total number of rows (208950) exceeds max_rows (20000). Falling back to pandas display.\n"
          ]
        },
        {
          "output_type": "execute_result",
          "data": {
            "text/plain": [
              "       BlockGroupCode  deploymentRateDiff   popDensity  houseRoadDensity  \\\n",
              "0        240037401023            0.010740   530.631480          0.018007   \n",
              "1        060530106061            0.265783    23.596070          0.001107   \n",
              "2        310539644001            0.111845   315.650173          0.008037   \n",
              "3        040130405181            0.903442    13.435978          0.001997   \n",
              "4        010770115023            0.053843   115.973072          0.003960   \n",
              "...               ...                 ...          ...               ...   \n",
              "208945   371330006002           -0.017606   159.600998          0.000319   \n",
              "208946   291019800001            0.000000  1326.258843          0.011089   \n",
              "208947   480990105031            0.000000  1956.284153          0.000000   \n",
              "208948   360450606004            0.000000   297.437182          0.015636   \n",
              "208949   480270225023            0.000000  3729.000000          0.104592   \n",
              "\n",
              "        unemploymentRate  houseOwnerRate  maleRate  ageUnder17Rate  \\\n",
              "0               0.000000        0.512433  0.519538        0.130551   \n",
              "1               0.025130        0.465909  0.564291        0.196747   \n",
              "2               0.090837        0.710682  0.519869        0.326650   \n",
              "3               0.078335        0.847551  0.376414        0.145396   \n",
              "4               0.023769        0.970097  0.503078        0.239226   \n",
              "...                  ...             ...       ...             ...   \n",
              "208945          1.000000        0.000000  0.928125        0.000000   \n",
              "208946          0.044643        0.033881  0.641983        0.221525   \n",
              "208947          0.000000             NaN  0.856145        0.000000   \n",
              "208948          0.026882        0.219498  0.564693        0.230704   \n",
              "208949          0.068225        0.216144  0.471976        0.241888   \n",
              "\n",
              "        ageBetween18and24Rate  ageAbove65Rate  ...  whiteRate  \\\n",
              "0                    0.163410        0.175844  ...   0.833037   \n",
              "1                    0.161890        0.168087  ...   0.453524   \n",
              "2                    0.079475        0.123952  ...   0.935108   \n",
              "3                    0.011309        0.305331  ...   0.949919   \n",
              "4                    0.076517        0.188215  ...   0.963940   \n",
              "...                       ...             ...  ...        ...   \n",
              "208945               0.915625        0.000000  ...   0.748437   \n",
              "208946               0.443364        0.000000  ...   0.842485   \n",
              "208947               0.791899        0.000000  ...   0.636173   \n",
              "208948               0.193938        0.021050  ...   0.603424   \n",
              "208949               0.133816        0.075623  ...   0.374095   \n",
              "\n",
              "        MovedIn1yearRate  newlyMovedRate  repRatio  demRatio  hadFund  \\\n",
              "0               0.095915        0.034636  0.258985  0.715198        0   \n",
              "1               0.117670        0.027734  0.359434  0.624460        1   \n",
              "2               0.144349        0.079075  0.666501  0.312402        1   \n",
              "3               0.090860        0.055165  0.729319  0.257031        1   \n",
              "4               0.080252        0.023445  0.804947  0.181746        1   \n",
              "...                  ...             ...       ...       ...      ...   \n",
              "208945          0.526563        0.312500  0.573910  0.375092        0   \n",
              "208946          0.522291        0.390823  0.681456  0.289344        0   \n",
              "208947          0.356844        0.312849  0.440845  0.522078        0   \n",
              "208948          0.505539        0.304082  0.579183  0.390278        0   \n",
              "208949          0.475459        0.110502  0.340737  0.630387        0   \n",
              "\n",
              "        avgAnnualTemp  snowResideTime   Latitute   Longitude  \n",
              "0           13.405048       12.033084  39.149755  -76.750802  \n",
              "1           14.361947        0.000000  36.685279 -121.567656  \n",
              "2           10.682625       47.569304  41.428751  -96.542480  \n",
              "3           20.335284        0.000000  33.896291 -112.511262  \n",
              "4           15.998424        0.000000  34.929505  -87.635450  \n",
              "...               ...             ...        ...         ...  \n",
              "208945      17.579434        0.000000  34.664168  -77.342056  \n",
              "208946      13.099399       25.035203  38.733116  -93.553158  \n",
              "208947      19.340355        0.000000  31.142005  -97.787875  \n",
              "208948       7.677019       79.634860  44.118662  -75.787445  \n",
              "208949      19.402830        0.000000  31.055542  -97.721966  \n",
              "\n",
              "[208950 rows x 23 columns]"
            ],
            "text/html": [
              "\n",
              "  <div id=\"df-fce4a1d0-63b0-41e0-96fb-67513a367938\">\n",
              "    <div class=\"colab-df-container\">\n",
              "      <div>\n",
              "<style scoped>\n",
              "    .dataframe tbody tr th:only-of-type {\n",
              "        vertical-align: middle;\n",
              "    }\n",
              "\n",
              "    .dataframe tbody tr th {\n",
              "        vertical-align: top;\n",
              "    }\n",
              "\n",
              "    .dataframe thead th {\n",
              "        text-align: right;\n",
              "    }\n",
              "</style>\n",
              "<table border=\"1\" class=\"dataframe\">\n",
              "  <thead>\n",
              "    <tr style=\"text-align: right;\">\n",
              "      <th></th>\n",
              "      <th>BlockGroupCode</th>\n",
              "      <th>deploymentRateDiff</th>\n",
              "      <th>popDensity</th>\n",
              "      <th>houseRoadDensity</th>\n",
              "      <th>unemploymentRate</th>\n",
              "      <th>houseOwnerRate</th>\n",
              "      <th>maleRate</th>\n",
              "      <th>ageUnder17Rate</th>\n",
              "      <th>ageBetween18and24Rate</th>\n",
              "      <th>ageAbove65Rate</th>\n",
              "      <th>...</th>\n",
              "      <th>whiteRate</th>\n",
              "      <th>MovedIn1yearRate</th>\n",
              "      <th>newlyMovedRate</th>\n",
              "      <th>repRatio</th>\n",
              "      <th>demRatio</th>\n",
              "      <th>hadFund</th>\n",
              "      <th>avgAnnualTemp</th>\n",
              "      <th>snowResideTime</th>\n",
              "      <th>Latitute</th>\n",
              "      <th>Longitude</th>\n",
              "    </tr>\n",
              "  </thead>\n",
              "  <tbody>\n",
              "    <tr>\n",
              "      <th>0</th>\n",
              "      <td>240037401023</td>\n",
              "      <td>0.010740</td>\n",
              "      <td>530.631480</td>\n",
              "      <td>0.018007</td>\n",
              "      <td>0.000000</td>\n",
              "      <td>0.512433</td>\n",
              "      <td>0.519538</td>\n",
              "      <td>0.130551</td>\n",
              "      <td>0.163410</td>\n",
              "      <td>0.175844</td>\n",
              "      <td>...</td>\n",
              "      <td>0.833037</td>\n",
              "      <td>0.095915</td>\n",
              "      <td>0.034636</td>\n",
              "      <td>0.258985</td>\n",
              "      <td>0.715198</td>\n",
              "      <td>0</td>\n",
              "      <td>13.405048</td>\n",
              "      <td>12.033084</td>\n",
              "      <td>39.149755</td>\n",
              "      <td>-76.750802</td>\n",
              "    </tr>\n",
              "    <tr>\n",
              "      <th>1</th>\n",
              "      <td>060530106061</td>\n",
              "      <td>0.265783</td>\n",
              "      <td>23.596070</td>\n",
              "      <td>0.001107</td>\n",
              "      <td>0.025130</td>\n",
              "      <td>0.465909</td>\n",
              "      <td>0.564291</td>\n",
              "      <td>0.196747</td>\n",
              "      <td>0.161890</td>\n",
              "      <td>0.168087</td>\n",
              "      <td>...</td>\n",
              "      <td>0.453524</td>\n",
              "      <td>0.117670</td>\n",
              "      <td>0.027734</td>\n",
              "      <td>0.359434</td>\n",
              "      <td>0.624460</td>\n",
              "      <td>1</td>\n",
              "      <td>14.361947</td>\n",
              "      <td>0.000000</td>\n",
              "      <td>36.685279</td>\n",
              "      <td>-121.567656</td>\n",
              "    </tr>\n",
              "    <tr>\n",
              "      <th>2</th>\n",
              "      <td>310539644001</td>\n",
              "      <td>0.111845</td>\n",
              "      <td>315.650173</td>\n",
              "      <td>0.008037</td>\n",
              "      <td>0.090837</td>\n",
              "      <td>0.710682</td>\n",
              "      <td>0.519869</td>\n",
              "      <td>0.326650</td>\n",
              "      <td>0.079475</td>\n",
              "      <td>0.123952</td>\n",
              "      <td>...</td>\n",
              "      <td>0.935108</td>\n",
              "      <td>0.144349</td>\n",
              "      <td>0.079075</td>\n",
              "      <td>0.666501</td>\n",
              "      <td>0.312402</td>\n",
              "      <td>1</td>\n",
              "      <td>10.682625</td>\n",
              "      <td>47.569304</td>\n",
              "      <td>41.428751</td>\n",
              "      <td>-96.542480</td>\n",
              "    </tr>\n",
              "    <tr>\n",
              "      <th>3</th>\n",
              "      <td>040130405181</td>\n",
              "      <td>0.903442</td>\n",
              "      <td>13.435978</td>\n",
              "      <td>0.001997</td>\n",
              "      <td>0.078335</td>\n",
              "      <td>0.847551</td>\n",
              "      <td>0.376414</td>\n",
              "      <td>0.145396</td>\n",
              "      <td>0.011309</td>\n",
              "      <td>0.305331</td>\n",
              "      <td>...</td>\n",
              "      <td>0.949919</td>\n",
              "      <td>0.090860</td>\n",
              "      <td>0.055165</td>\n",
              "      <td>0.729319</td>\n",
              "      <td>0.257031</td>\n",
              "      <td>1</td>\n",
              "      <td>20.335284</td>\n",
              "      <td>0.000000</td>\n",
              "      <td>33.896291</td>\n",
              "      <td>-112.511262</td>\n",
              "    </tr>\n",
              "    <tr>\n",
              "      <th>4</th>\n",
              "      <td>010770115023</td>\n",
              "      <td>0.053843</td>\n",
              "      <td>115.973072</td>\n",
              "      <td>0.003960</td>\n",
              "      <td>0.023769</td>\n",
              "      <td>0.970097</td>\n",
              "      <td>0.503078</td>\n",
              "      <td>0.239226</td>\n",
              "      <td>0.076517</td>\n",
              "      <td>0.188215</td>\n",
              "      <td>...</td>\n",
              "      <td>0.963940</td>\n",
              "      <td>0.080252</td>\n",
              "      <td>0.023445</td>\n",
              "      <td>0.804947</td>\n",
              "      <td>0.181746</td>\n",
              "      <td>1</td>\n",
              "      <td>15.998424</td>\n",
              "      <td>0.000000</td>\n",
              "      <td>34.929505</td>\n",
              "      <td>-87.635450</td>\n",
              "    </tr>\n",
              "    <tr>\n",
              "      <th>...</th>\n",
              "      <td>...</td>\n",
              "      <td>...</td>\n",
              "      <td>...</td>\n",
              "      <td>...</td>\n",
              "      <td>...</td>\n",
              "      <td>...</td>\n",
              "      <td>...</td>\n",
              "      <td>...</td>\n",
              "      <td>...</td>\n",
              "      <td>...</td>\n",
              "      <td>...</td>\n",
              "      <td>...</td>\n",
              "      <td>...</td>\n",
              "      <td>...</td>\n",
              "      <td>...</td>\n",
              "      <td>...</td>\n",
              "      <td>...</td>\n",
              "      <td>...</td>\n",
              "      <td>...</td>\n",
              "      <td>...</td>\n",
              "      <td>...</td>\n",
              "    </tr>\n",
              "    <tr>\n",
              "      <th>208945</th>\n",
              "      <td>371330006002</td>\n",
              "      <td>-0.017606</td>\n",
              "      <td>159.600998</td>\n",
              "      <td>0.000319</td>\n",
              "      <td>1.000000</td>\n",
              "      <td>0.000000</td>\n",
              "      <td>0.928125</td>\n",
              "      <td>0.000000</td>\n",
              "      <td>0.915625</td>\n",
              "      <td>0.000000</td>\n",
              "      <td>...</td>\n",
              "      <td>0.748437</td>\n",
              "      <td>0.526563</td>\n",
              "      <td>0.312500</td>\n",
              "      <td>0.573910</td>\n",
              "      <td>0.375092</td>\n",
              "      <td>0</td>\n",
              "      <td>17.579434</td>\n",
              "      <td>0.000000</td>\n",
              "      <td>34.664168</td>\n",
              "      <td>-77.342056</td>\n",
              "    </tr>\n",
              "    <tr>\n",
              "      <th>208946</th>\n",
              "      <td>291019800001</td>\n",
              "      <td>0.000000</td>\n",
              "      <td>1326.258843</td>\n",
              "      <td>0.011089</td>\n",
              "      <td>0.044643</td>\n",
              "      <td>0.033881</td>\n",
              "      <td>0.641983</td>\n",
              "      <td>0.221525</td>\n",
              "      <td>0.443364</td>\n",
              "      <td>0.000000</td>\n",
              "      <td>...</td>\n",
              "      <td>0.842485</td>\n",
              "      <td>0.522291</td>\n",
              "      <td>0.390823</td>\n",
              "      <td>0.681456</td>\n",
              "      <td>0.289344</td>\n",
              "      <td>0</td>\n",
              "      <td>13.099399</td>\n",
              "      <td>25.035203</td>\n",
              "      <td>38.733116</td>\n",
              "      <td>-93.553158</td>\n",
              "    </tr>\n",
              "    <tr>\n",
              "      <th>208947</th>\n",
              "      <td>480990105031</td>\n",
              "      <td>0.000000</td>\n",
              "      <td>1956.284153</td>\n",
              "      <td>0.000000</td>\n",
              "      <td>0.000000</td>\n",
              "      <td>NaN</td>\n",
              "      <td>0.856145</td>\n",
              "      <td>0.000000</td>\n",
              "      <td>0.791899</td>\n",
              "      <td>0.000000</td>\n",
              "      <td>...</td>\n",
              "      <td>0.636173</td>\n",
              "      <td>0.356844</td>\n",
              "      <td>0.312849</td>\n",
              "      <td>0.440845</td>\n",
              "      <td>0.522078</td>\n",
              "      <td>0</td>\n",
              "      <td>19.340355</td>\n",
              "      <td>0.000000</td>\n",
              "      <td>31.142005</td>\n",
              "      <td>-97.787875</td>\n",
              "    </tr>\n",
              "    <tr>\n",
              "      <th>208948</th>\n",
              "      <td>360450606004</td>\n",
              "      <td>0.000000</td>\n",
              "      <td>297.437182</td>\n",
              "      <td>0.015636</td>\n",
              "      <td>0.026882</td>\n",
              "      <td>0.219498</td>\n",
              "      <td>0.564693</td>\n",
              "      <td>0.230704</td>\n",
              "      <td>0.193938</td>\n",
              "      <td>0.021050</td>\n",
              "      <td>...</td>\n",
              "      <td>0.603424</td>\n",
              "      <td>0.505539</td>\n",
              "      <td>0.304082</td>\n",
              "      <td>0.579183</td>\n",
              "      <td>0.390278</td>\n",
              "      <td>0</td>\n",
              "      <td>7.677019</td>\n",
              "      <td>79.634860</td>\n",
              "      <td>44.118662</td>\n",
              "      <td>-75.787445</td>\n",
              "    </tr>\n",
              "    <tr>\n",
              "      <th>208949</th>\n",
              "      <td>480270225023</td>\n",
              "      <td>0.000000</td>\n",
              "      <td>3729.000000</td>\n",
              "      <td>0.104592</td>\n",
              "      <td>0.068225</td>\n",
              "      <td>0.216144</td>\n",
              "      <td>0.471976</td>\n",
              "      <td>0.241888</td>\n",
              "      <td>0.133816</td>\n",
              "      <td>0.075623</td>\n",
              "      <td>...</td>\n",
              "      <td>0.374095</td>\n",
              "      <td>0.475459</td>\n",
              "      <td>0.110502</td>\n",
              "      <td>0.340737</td>\n",
              "      <td>0.630387</td>\n",
              "      <td>0</td>\n",
              "      <td>19.402830</td>\n",
              "      <td>0.000000</td>\n",
              "      <td>31.055542</td>\n",
              "      <td>-97.721966</td>\n",
              "    </tr>\n",
              "  </tbody>\n",
              "</table>\n",
              "<p>208950 rows × 23 columns</p>\n",
              "</div>\n",
              "      <button class=\"colab-df-convert\" onclick=\"convertToInteractive('df-fce4a1d0-63b0-41e0-96fb-67513a367938')\"\n",
              "              title=\"Convert this dataframe to an interactive table.\"\n",
              "              style=\"display:none;\">\n",
              "        \n",
              "  <svg xmlns=\"http://www.w3.org/2000/svg\" height=\"24px\"viewBox=\"0 0 24 24\"\n",
              "       width=\"24px\">\n",
              "    <path d=\"M0 0h24v24H0V0z\" fill=\"none\"/>\n",
              "    <path d=\"M18.56 5.44l.94 2.06.94-2.06 2.06-.94-2.06-.94-.94-2.06-.94 2.06-2.06.94zm-11 1L8.5 8.5l.94-2.06 2.06-.94-2.06-.94L8.5 2.5l-.94 2.06-2.06.94zm10 10l.94 2.06.94-2.06 2.06-.94-2.06-.94-.94-2.06-.94 2.06-2.06.94z\"/><path d=\"M17.41 7.96l-1.37-1.37c-.4-.4-.92-.59-1.43-.59-.52 0-1.04.2-1.43.59L10.3 9.45l-7.72 7.72c-.78.78-.78 2.05 0 2.83L4 21.41c.39.39.9.59 1.41.59.51 0 1.02-.2 1.41-.59l7.78-7.78 2.81-2.81c.8-.78.8-2.07 0-2.86zM5.41 20L4 18.59l7.72-7.72 1.47 1.35L5.41 20z\"/>\n",
              "  </svg>\n",
              "      </button>\n",
              "      \n",
              "  <style>\n",
              "    .colab-df-container {\n",
              "      display:flex;\n",
              "      flex-wrap:wrap;\n",
              "      gap: 12px;\n",
              "    }\n",
              "\n",
              "    .colab-df-convert {\n",
              "      background-color: #E8F0FE;\n",
              "      border: none;\n",
              "      border-radius: 50%;\n",
              "      cursor: pointer;\n",
              "      display: none;\n",
              "      fill: #1967D2;\n",
              "      height: 32px;\n",
              "      padding: 0 0 0 0;\n",
              "      width: 32px;\n",
              "    }\n",
              "\n",
              "    .colab-df-convert:hover {\n",
              "      background-color: #E2EBFA;\n",
              "      box-shadow: 0px 1px 2px rgba(60, 64, 67, 0.3), 0px 1px 3px 1px rgba(60, 64, 67, 0.15);\n",
              "      fill: #174EA6;\n",
              "    }\n",
              "\n",
              "    [theme=dark] .colab-df-convert {\n",
              "      background-color: #3B4455;\n",
              "      fill: #D2E3FC;\n",
              "    }\n",
              "\n",
              "    [theme=dark] .colab-df-convert:hover {\n",
              "      background-color: #434B5C;\n",
              "      box-shadow: 0px 1px 3px 1px rgba(0, 0, 0, 0.15);\n",
              "      filter: drop-shadow(0px 1px 2px rgba(0, 0, 0, 0.3));\n",
              "      fill: #FFFFFF;\n",
              "    }\n",
              "  </style>\n",
              "\n",
              "      <script>\n",
              "        const buttonEl =\n",
              "          document.querySelector('#df-fce4a1d0-63b0-41e0-96fb-67513a367938 button.colab-df-convert');\n",
              "        buttonEl.style.display =\n",
              "          google.colab.kernel.accessAllowed ? 'block' : 'none';\n",
              "\n",
              "        async function convertToInteractive(key) {\n",
              "          const element = document.querySelector('#df-fce4a1d0-63b0-41e0-96fb-67513a367938');\n",
              "          const dataTable =\n",
              "            await google.colab.kernel.invokeFunction('convertToInteractive',\n",
              "                                                     [key], {});\n",
              "          if (!dataTable) return;\n",
              "\n",
              "          const docLinkHtml = 'Like what you see? Visit the ' +\n",
              "            '<a target=\"_blank\" href=https://colab.research.google.com/notebooks/data_table.ipynb>data table notebook</a>'\n",
              "            + ' to learn more about interactive tables.';\n",
              "          element.innerHTML = '';\n",
              "          dataTable['output_type'] = 'display_data';\n",
              "          await google.colab.output.renderOutput(dataTable, element);\n",
              "          const docLink = document.createElement('div');\n",
              "          docLink.innerHTML = docLinkHtml;\n",
              "          element.appendChild(docLink);\n",
              "        }\n",
              "      </script>\n",
              "    </div>\n",
              "  </div>\n",
              "  "
            ]
          },
          "metadata": {},
          "execution_count": 6
        }
      ],
      "source": [
        "# Running this code will read results from your previous job\n",
        "\n",
        "job = client.get_job('bquxjob_6fae48ed_184ca653121') # Job ID inserted based on the query results selected to explore\n",
        "data = job.to_dataframe()\n",
        "data"
      ]
    },
    {
      "cell_type": "code",
      "source": [
        "data = data.dropna() \n",
        "len(data)"
      ],
      "metadata": {
        "colab": {
          "base_uri": "https://localhost:8080/"
        },
        "id": "QWGqtdoFbzRp",
        "outputId": "c0eb3a68-cb1a-40a3-ff28-07fbc43b13c1"
      },
      "execution_count": null,
      "outputs": [
        {
          "output_type": "execute_result",
          "data": {
            "text/plain": [
              "201559"
            ]
          },
          "metadata": {},
          "execution_count": 7
        }
      ]
    },
    {
      "cell_type": "code",
      "source": [
        "data = data.drop(['BlockGroupCode','Latitute','Longitude','repRatio'],axis=1)"
      ],
      "metadata": {
        "id": "s_0xKyxfbzba"
      },
      "execution_count": null,
      "outputs": []
    },
    {
      "cell_type": "code",
      "source": [
        "y = data[\"deploymentRateDiff\"]\n",
        "X = data.drop([\"deploymentRateDiff\"],axis=1)"
      ],
      "metadata": {
        "id": "xgDCguo_bzdh"
      },
      "execution_count": null,
      "outputs": []
    },
    {
      "cell_type": "code",
      "source": [
        "X.columns"
      ],
      "metadata": {
        "colab": {
          "base_uri": "https://localhost:8080/"
        },
        "id": "_nwTesvhbzgJ",
        "outputId": "b76940c6-63ea-41d6-c3a8-9f97cbe775df"
      },
      "execution_count": null,
      "outputs": [
        {
          "output_type": "execute_result",
          "data": {
            "text/plain": [
              "Index(['popDensity', 'houseRoadDensity', 'unemploymentRate', 'houseOwnerRate',\n",
              "       'maleRate', 'ageUnder17Rate', 'ageBetween18and24Rate', 'ageAbove65Rate',\n",
              "       'medianIncome', 'aboveHighSchoolRate', 'aboveBachelorRate', 'whiteRate',\n",
              "       'MovedIn1yearRate', 'newlyMovedRate', 'demRatio', 'hadFund',\n",
              "       'avgAnnualTemp', 'snowResideTime'],\n",
              "      dtype='object')"
            ]
          },
          "metadata": {},
          "execution_count": 10
        }
      ]
    },
    {
      "cell_type": "code",
      "source": [
        "cols_to_norm = X.columns\n",
        "data[cols_to_norm] = data[cols_to_norm].apply(lambda x: (x - x.mean()) / (x.std()))"
      ],
      "metadata": {
        "id": "lJjwXTz3bziy"
      },
      "execution_count": null,
      "outputs": []
    },
    {
      "cell_type": "code",
      "source": [
        "X.shape,y.shape"
      ],
      "metadata": {
        "colab": {
          "base_uri": "https://localhost:8080/"
        },
        "id": "kuVx__V2b03Y",
        "outputId": "5e1d2d71-1d9f-4332-de79-6940c5724b4d"
      },
      "execution_count": null,
      "outputs": [
        {
          "output_type": "execute_result",
          "data": {
            "text/plain": [
              "((201559, 18), (201559,))"
            ]
          },
          "metadata": {},
          "execution_count": 12
        }
      ]
    },
    {
      "cell_type": "code",
      "source": [
        "from sklearn.model_selection import train_test_split\n",
        "X_dev, X_test, y_dev, y_test = train_test_split(X, y, test_size=0.2, random_state=42)\n",
        "\n",
        "from sklearn.preprocessing import StandardScaler\n",
        "from sklearn.compose import make_column_transformer\n",
        "from sklearn.pipeline import make_pipeline\n",
        "from sklearn.tree import DecisionTreeRegressor\n",
        "\n",
        "from sklearn.ensemble import HistGradientBoostingRegressor\n",
        "from sklearn.ensemble import GradientBoostingRegressor"
      ],
      "metadata": {
        "id": "7AgeWGDnb1DD"
      },
      "execution_count": null,
      "outputs": []
    },
    {
      "cell_type": "code",
      "source": [
        "model = HistGradientBoostingRegressor() # No feature importance, min_samples_split=2000\n",
        "model.fit(X_dev,y_dev)\n",
        "\n",
        "y_dev_pred_prune = model.predict(X_dev)\n",
        "y_test_pred_prune = model.predict(X_test)\n",
        "\n",
        "print(\"performance on development data\")\n",
        "print(model.score(X_dev, y_dev))\n",
        "\n",
        "print(\"performance on test data\")\n",
        "print(model.score(X_test, y_test))"
      ],
      "metadata": {
        "colab": {
          "base_uri": "https://localhost:8080/"
        },
        "id": "6kqk2JWNb1Fa",
        "outputId": "29553de3-2068-4f20-c4fb-44c6aaae6ee4"
      },
      "execution_count": null,
      "outputs": [
        {
          "output_type": "stream",
          "name": "stdout",
          "text": [
            "performance on development data\n",
            "0.48597315748802083\n",
            "performance on test data\n",
            "0.4398661543375143\n"
          ]
        }
      ]
    },
    {
      "cell_type": "code",
      "source": [
        "model = GradientBoostingRegressor() # No feature importance, min_samples_split=2000\n",
        "model.fit(X_dev,y_dev)\n",
        "\n",
        "y_dev_pred_prune = model.predict(X_dev)\n",
        "y_test_pred_prune = model.predict(X_test)\n",
        "\n",
        "print(\"performance on development data\")\n",
        "print(model.score(X_dev, y_dev))\n",
        "\n",
        "print(\"performance on test data\")\n",
        "print(model.score(X_test, y_test))"
      ],
      "metadata": {
        "colab": {
          "base_uri": "https://localhost:8080/"
        },
        "id": "QN33FVO7b1IO",
        "outputId": "9f46739d-a8ec-400f-d520-56294e5518c8"
      },
      "execution_count": null,
      "outputs": [
        {
          "output_type": "stream",
          "name": "stdout",
          "text": [
            "performance on development data\n",
            "0.42863078309185165\n",
            "performance on test data\n",
            "0.41773914979502247\n"
          ]
        }
      ]
    },
    {
      "cell_type": "markdown",
      "source": [
        "Use the RandomForestRegressor to model"
      ],
      "metadata": {
        "id": "EqIH-1Lpmhsl"
      }
    },
    {
      "cell_type": "code",
      "source": [
        "from sklearn.ensemble import RandomForestRegressor\n",
        "\n",
        "model = RandomForestRegressor(min_samples_split=1000)\n",
        "model.fit(X_dev,y_dev)\n",
        "\n",
        "y_dev_pred_prune = model.predict(X_dev)\n",
        "y_test_pred_prune = model.predict(X_test)\n",
        "\n",
        "print(\"performance on development data\")\n",
        "print(model.score(X_dev,y_dev))\n",
        "\n",
        "print(\"performance on test data\")\n",
        "print(model.score(X_test, y_test))"
      ],
      "metadata": {
        "colab": {
          "base_uri": "https://localhost:8080/"
        },
        "id": "e6SlREfbb1L0",
        "outputId": "b580230f-82dd-4daa-9d70-356b7685e939"
      },
      "execution_count": null,
      "outputs": [
        {
          "output_type": "stream",
          "name": "stdout",
          "text": [
            "performance on development data\n",
            "0.44114126896279204\n",
            "performance on test data\n",
            "0.41970863741875064\n"
          ]
        }
      ]
    },
    {
      "cell_type": "code",
      "source": [
        "import pandas as pd\n",
        "\n",
        "rand_impor = pd.DataFrame(index=X.columns,data = model.feature_importances_,columns=['Random Forest Feature Importance'])\n",
        "rand_impor.sort_values(by=['Random Forest Feature Importance'], ascending = False)"
      ],
      "metadata": {
        "colab": {
          "base_uri": "https://localhost:8080/",
          "height": 476
        },
        "id": "pSSzIldDb1OG",
        "outputId": "32db057f-92d1-4a6c-c8c6-8d5ab2ea455f"
      },
      "execution_count": null,
      "outputs": [
        {
          "output_type": "execute_result",
          "data": {
            "text/plain": [
              "                       Random Forest Feature Importance\n",
              "popDensity                                     0.710070\n",
              "hadFund                                        0.104593\n",
              "houseRoadDensity                               0.088355\n",
              "demRatio                                       0.028859\n",
              "avgAnnualTemp                                  0.016868\n",
              "medianIncome                                   0.008935\n",
              "aboveBachelorRate                              0.006132\n",
              "aboveHighSchoolRate                            0.006052\n",
              "newlyMovedRate                                 0.005193\n",
              "whiteRate                                      0.005135\n",
              "snowResideTime                                 0.003991\n",
              "maleRate                                       0.003554\n",
              "houseOwnerRate                                 0.002799\n",
              "ageAbove65Rate                                 0.002566\n",
              "MovedIn1yearRate                               0.002280\n",
              "ageUnder17Rate                                 0.002120\n",
              "ageBetween18and24Rate                          0.001441\n",
              "unemploymentRate                               0.001058"
            ],
            "text/html": [
              "\n",
              "  <div id=\"df-e6a12bd3-4a97-45d6-8a19-7a9afc49e1ad\">\n",
              "    <div class=\"colab-df-container\">\n",
              "      <div>\n",
              "<style scoped>\n",
              "    .dataframe tbody tr th:only-of-type {\n",
              "        vertical-align: middle;\n",
              "    }\n",
              "\n",
              "    .dataframe tbody tr th {\n",
              "        vertical-align: top;\n",
              "    }\n",
              "\n",
              "    .dataframe thead th {\n",
              "        text-align: right;\n",
              "    }\n",
              "</style>\n",
              "<table border=\"1\" class=\"dataframe\">\n",
              "  <thead>\n",
              "    <tr style=\"text-align: right;\">\n",
              "      <th></th>\n",
              "      <th>Random Forest Feature Importance</th>\n",
              "    </tr>\n",
              "  </thead>\n",
              "  <tbody>\n",
              "    <tr>\n",
              "      <th>popDensity</th>\n",
              "      <td>0.710070</td>\n",
              "    </tr>\n",
              "    <tr>\n",
              "      <th>hadFund</th>\n",
              "      <td>0.104593</td>\n",
              "    </tr>\n",
              "    <tr>\n",
              "      <th>houseRoadDensity</th>\n",
              "      <td>0.088355</td>\n",
              "    </tr>\n",
              "    <tr>\n",
              "      <th>demRatio</th>\n",
              "      <td>0.028859</td>\n",
              "    </tr>\n",
              "    <tr>\n",
              "      <th>avgAnnualTemp</th>\n",
              "      <td>0.016868</td>\n",
              "    </tr>\n",
              "    <tr>\n",
              "      <th>medianIncome</th>\n",
              "      <td>0.008935</td>\n",
              "    </tr>\n",
              "    <tr>\n",
              "      <th>aboveBachelorRate</th>\n",
              "      <td>0.006132</td>\n",
              "    </tr>\n",
              "    <tr>\n",
              "      <th>aboveHighSchoolRate</th>\n",
              "      <td>0.006052</td>\n",
              "    </tr>\n",
              "    <tr>\n",
              "      <th>newlyMovedRate</th>\n",
              "      <td>0.005193</td>\n",
              "    </tr>\n",
              "    <tr>\n",
              "      <th>whiteRate</th>\n",
              "      <td>0.005135</td>\n",
              "    </tr>\n",
              "    <tr>\n",
              "      <th>snowResideTime</th>\n",
              "      <td>0.003991</td>\n",
              "    </tr>\n",
              "    <tr>\n",
              "      <th>maleRate</th>\n",
              "      <td>0.003554</td>\n",
              "    </tr>\n",
              "    <tr>\n",
              "      <th>houseOwnerRate</th>\n",
              "      <td>0.002799</td>\n",
              "    </tr>\n",
              "    <tr>\n",
              "      <th>ageAbove65Rate</th>\n",
              "      <td>0.002566</td>\n",
              "    </tr>\n",
              "    <tr>\n",
              "      <th>MovedIn1yearRate</th>\n",
              "      <td>0.002280</td>\n",
              "    </tr>\n",
              "    <tr>\n",
              "      <th>ageUnder17Rate</th>\n",
              "      <td>0.002120</td>\n",
              "    </tr>\n",
              "    <tr>\n",
              "      <th>ageBetween18and24Rate</th>\n",
              "      <td>0.001441</td>\n",
              "    </tr>\n",
              "    <tr>\n",
              "      <th>unemploymentRate</th>\n",
              "      <td>0.001058</td>\n",
              "    </tr>\n",
              "  </tbody>\n",
              "</table>\n",
              "</div>\n",
              "      <button class=\"colab-df-convert\" onclick=\"convertToInteractive('df-e6a12bd3-4a97-45d6-8a19-7a9afc49e1ad')\"\n",
              "              title=\"Convert this dataframe to an interactive table.\"\n",
              "              style=\"display:none;\">\n",
              "        \n",
              "  <svg xmlns=\"http://www.w3.org/2000/svg\" height=\"24px\"viewBox=\"0 0 24 24\"\n",
              "       width=\"24px\">\n",
              "    <path d=\"M0 0h24v24H0V0z\" fill=\"none\"/>\n",
              "    <path d=\"M18.56 5.44l.94 2.06.94-2.06 2.06-.94-2.06-.94-.94-2.06-.94 2.06-2.06.94zm-11 1L8.5 8.5l.94-2.06 2.06-.94-2.06-.94L8.5 2.5l-.94 2.06-2.06.94zm10 10l.94 2.06.94-2.06 2.06-.94-2.06-.94-.94-2.06-.94 2.06-2.06.94z\"/><path d=\"M17.41 7.96l-1.37-1.37c-.4-.4-.92-.59-1.43-.59-.52 0-1.04.2-1.43.59L10.3 9.45l-7.72 7.72c-.78.78-.78 2.05 0 2.83L4 21.41c.39.39.9.59 1.41.59.51 0 1.02-.2 1.41-.59l7.78-7.78 2.81-2.81c.8-.78.8-2.07 0-2.86zM5.41 20L4 18.59l7.72-7.72 1.47 1.35L5.41 20z\"/>\n",
              "  </svg>\n",
              "      </button>\n",
              "      \n",
              "  <style>\n",
              "    .colab-df-container {\n",
              "      display:flex;\n",
              "      flex-wrap:wrap;\n",
              "      gap: 12px;\n",
              "    }\n",
              "\n",
              "    .colab-df-convert {\n",
              "      background-color: #E8F0FE;\n",
              "      border: none;\n",
              "      border-radius: 50%;\n",
              "      cursor: pointer;\n",
              "      display: none;\n",
              "      fill: #1967D2;\n",
              "      height: 32px;\n",
              "      padding: 0 0 0 0;\n",
              "      width: 32px;\n",
              "    }\n",
              "\n",
              "    .colab-df-convert:hover {\n",
              "      background-color: #E2EBFA;\n",
              "      box-shadow: 0px 1px 2px rgba(60, 64, 67, 0.3), 0px 1px 3px 1px rgba(60, 64, 67, 0.15);\n",
              "      fill: #174EA6;\n",
              "    }\n",
              "\n",
              "    [theme=dark] .colab-df-convert {\n",
              "      background-color: #3B4455;\n",
              "      fill: #D2E3FC;\n",
              "    }\n",
              "\n",
              "    [theme=dark] .colab-df-convert:hover {\n",
              "      background-color: #434B5C;\n",
              "      box-shadow: 0px 1px 3px 1px rgba(0, 0, 0, 0.15);\n",
              "      filter: drop-shadow(0px 1px 2px rgba(0, 0, 0, 0.3));\n",
              "      fill: #FFFFFF;\n",
              "    }\n",
              "  </style>\n",
              "\n",
              "      <script>\n",
              "        const buttonEl =\n",
              "          document.querySelector('#df-e6a12bd3-4a97-45d6-8a19-7a9afc49e1ad button.colab-df-convert');\n",
              "        buttonEl.style.display =\n",
              "          google.colab.kernel.accessAllowed ? 'block' : 'none';\n",
              "\n",
              "        async function convertToInteractive(key) {\n",
              "          const element = document.querySelector('#df-e6a12bd3-4a97-45d6-8a19-7a9afc49e1ad');\n",
              "          const dataTable =\n",
              "            await google.colab.kernel.invokeFunction('convertToInteractive',\n",
              "                                                     [key], {});\n",
              "          if (!dataTable) return;\n",
              "\n",
              "          const docLinkHtml = 'Like what you see? Visit the ' +\n",
              "            '<a target=\"_blank\" href=https://colab.research.google.com/notebooks/data_table.ipynb>data table notebook</a>'\n",
              "            + ' to learn more about interactive tables.';\n",
              "          element.innerHTML = '';\n",
              "          dataTable['output_type'] = 'display_data';\n",
              "          await google.colab.output.renderOutput(dataTable, element);\n",
              "          const docLink = document.createElement('div');\n",
              "          docLink.innerHTML = docLinkHtml;\n",
              "          element.appendChild(docLink);\n",
              "        }\n",
              "      </script>\n",
              "    </div>\n",
              "  </div>\n",
              "  "
            ],
            "application/vnd.google.colaboratory.module+javascript": "\n      import \"https://ssl.gstatic.com/colaboratory/data_table/a8bd4d5e58f96183/data_table.js\";\n\n      window.createDataTable({\n        data: [[\"popDensity\",\n{\n            'v': 0.7100698893532014,\n            'f': \"0.7100698893532014\",\n        }],\n [\"hadFund\",\n{\n            'v': 0.10459265762433759,\n            'f': \"0.10459265762433759\",\n        }],\n [\"houseRoadDensity\",\n{\n            'v': 0.08835528980338421,\n            'f': \"0.08835528980338421\",\n        }],\n [\"demRatio\",\n{\n            'v': 0.02885850195377935,\n            'f': \"0.02885850195377935\",\n        }],\n [\"avgAnnualTemp\",\n{\n            'v': 0.01686820055210356,\n            'f': \"0.01686820055210356\",\n        }],\n [\"medianIncome\",\n{\n            'v': 0.008935112698620289,\n            'f': \"0.008935112698620289\",\n        }],\n [\"aboveBachelorRate\",\n{\n            'v': 0.006131757792578342,\n            'f': \"0.006131757792578342\",\n        }],\n [\"aboveHighSchoolRate\",\n{\n            'v': 0.006051613202510876,\n            'f': \"0.006051613202510876\",\n        }],\n [\"newlyMovedRate\",\n{\n            'v': 0.005193436652981074,\n            'f': \"0.005193436652981074\",\n        }],\n [\"whiteRate\",\n{\n            'v': 0.0051350771632945515,\n            'f': \"0.0051350771632945515\",\n        }],\n [\"snowResideTime\",\n{\n            'v': 0.00399065506545888,\n            'f': \"0.00399065506545888\",\n        }],\n [\"maleRate\",\n{\n            'v': 0.0035539244520461097,\n            'f': \"0.0035539244520461097\",\n        }],\n [\"houseOwnerRate\",\n{\n            'v': 0.002798519746853495,\n            'f': \"0.002798519746853495\",\n        }],\n [\"ageAbove65Rate\",\n{\n            'v': 0.0025658080896374586,\n            'f': \"0.0025658080896374586\",\n        }],\n [\"MovedIn1yearRate\",\n{\n            'v': 0.0022804387458084108,\n            'f': \"0.0022804387458084108\",\n        }],\n [\"ageUnder17Rate\",\n{\n            'v': 0.0021199880867123558,\n            'f': \"0.0021199880867123558\",\n        }],\n [\"ageBetween18and24Rate\",\n{\n            'v': 0.001440746003227371,\n            'f': \"0.001440746003227371\",\n        }],\n [\"unemploymentRate\",\n{\n            'v': 0.0010583830134647204,\n            'f': \"0.0010583830134647204\",\n        }]],\n        columns: [[\"string\", \"index\"], [\"number\", \"Random Forest Feature Importance\"]],\n        columnOptions: [{\"width\": \"1px\", \"className\": \"index_column\"}],\n        rowsPerPage: 25,\n        helpUrl: \"https://colab.research.google.com/notebooks/data_table.ipynb\",\n        suppressOutputScrolling: true,\n        minimumWidth: undefined,\n      });\n    "
          },
          "metadata": {},
          "execution_count": 16
        }
      ]
    },
    {
      "cell_type": "code",
      "source": [
        "import matplotlib.pyplot as plt\n",
        "import seaborn as sns\n",
        "\n",
        "plt.figure(figsize=(15,10))\n",
        "labels = X.columns.to_list()\n",
        "\n",
        "p = sns.barplot(x=labels, y= model.feature_importances_.flatten());  # flatten() returns a copy of an array collapsed into one dimension.\n",
        "p.set(xlabel = \"Features\", ylabel = \"Feature importance\");\n",
        "p.tick_params(axis='x',rotation =90)"
      ],
      "metadata": {
        "colab": {
          "base_uri": "https://localhost:8080/",
          "height": 725
        },
        "id": "81_37Gcxb1QO",
        "outputId": "bc2c80e4-3fc3-44a9-d916-adc79d9712a0"
      },
      "execution_count": null,
      "outputs": [
        {
          "output_type": "display_data",
          "data": {
            "text/plain": [
              "<Figure size 1080x720 with 1 Axes>"
            ],
            "image/png": "[encoded data removed]"
          },
          "metadata": {
            "needs_background": "light"
          }
        }
      ]
    },
    {
      "cell_type": "markdown",
      "source": [
        "Try a smaller model with fewer predictors which have the most importance "
      ],
      "metadata": {
        "id": "zsseujbbd7JH"
      }
    },
    {
      "cell_type": "code",
      "source": [
        "y_new = data[\"deploymentRateDiff\"]\n",
        "X_new = data[['popDensity','houseRoadDensity','avgAnnualTemp','demRatio','hadFund']]"
      ],
      "metadata": {
        "id": "BouJ4vPab1SE"
      },
      "execution_count": null,
      "outputs": []
    },
    {
      "cell_type": "code",
      "source": [
        "cols_to_norm = X_new.columns\n",
        "data[cols_to_norm] = data[cols_to_norm].apply(lambda x: (x - x.mean()) / (x.std()))\n",
        "\n",
        "X_dev_new, X_test_new, y_dev_new, y_test_new = train_test_split(X_new, y_new, test_size=0.2, random_state=42)"
      ],
      "metadata": {
        "id": "TyIU4faLdpo6"
      },
      "execution_count": null,
      "outputs": []
    },
    {
      "cell_type": "code",
      "source": [
        "from sklearn.ensemble import RandomForestRegressor\n",
        "\n",
        "model = RandomForestRegressor(min_samples_split=1000)\n",
        "model.fit(X_dev_new,y_dev_new)\n",
        "\n",
        "y_dev_pred_prune_new = model.predict(X_dev_new)\n",
        "y_test_pred_prune_new = model.predict(X_test_new)\n",
        "\n",
        "print(\"performance on development data\")\n",
        "print(model.score(X_dev_new,y_dev_new))\n",
        "\n",
        "print(\"performance on test data\")\n",
        "print(model.score(X_test_new, y_test_new))"
      ],
      "metadata": {
        "colab": {
          "base_uri": "https://localhost:8080/"
        },
        "id": "ce91k5uIdpl2",
        "outputId": "9ede4f01-6447-4a02-ac37-2d592963d030"
      },
      "execution_count": null,
      "outputs": [
        {
          "output_type": "stream",
          "name": "stdout",
          "text": [
            "performance on development data\n",
            "0.4275650281193797\n",
            "performance on test data\n",
            "0.41359645115287824\n"
          ]
        }
      ]
    },
    {
      "cell_type": "code",
      "source": [],
      "metadata": {
        "id": "uFp_i1vwdphp"
      },
      "execution_count": null,
      "outputs": []
    },
    {
      "cell_type": "code",
      "source": [],
      "metadata": {
        "id": "hj0EwmvBdpfJ"
      },
      "execution_count": null,
      "outputs": []
    },
    {
      "cell_type": "code",
      "source": [],
      "metadata": {
        "id": "J-n5bFmHdpch"
      },
      "execution_count": null,
      "outputs": []
    },
    {
      "cell_type": "code",
      "source": [],
      "metadata": {
        "id": "3uHi01fPdpZ1"
      },
      "execution_count": null,
      "outputs": []
    },
    {
      "cell_type": "code",
      "source": [],
      "metadata": {
        "id": "Hx4Qcda7dpPK"
      },
      "execution_count": null,
      "outputs": []
    }
  ],
  "metadata": {
    "colab": {
      "cell_execution_strategy": "setup",
      "provenance": []
    },
    "kernelspec": {
      "display_name": "Python 3",
      "name": "python3"
    },
    "language_info": {
      "name": "python"
    },
    "accelerator": "GPU",
    "gpuClass": "standard"
  },
  "nbformat": 4,
  "nbformat_minor": 0
}