{
 "cells": [
  {
   "cell_type": "code",
   "execution_count": 1,
   "id": "0fa15d85",
   "metadata": {},
   "outputs": [
    {
     "name": "stdout",
     "output_type": "stream",
     "text": [
      "Done!\n"
     ]
    }
   ],
   "source": [
    "import os\n",
    "from google.cloud import bigquery\n",
    "import pandas as pd\n",
    "\n",
    "\n",
    "# ***I commented the following imports out but you will likely need at least some of them at some point***\n",
    "#import matplotlib.pyplot as plt\n",
    "#import numpy as np\n",
    "#import scipy\n",
    "#from scipy.stats import norm\n",
    "\n",
    "\n",
    "# dont forget to replace <andreasfreund> with your local username\n",
    "#os.environ['GOOGLE_APPLICATION_CREDENTIALS'] = \"/Users/Rebecca/.config/gcloud/application_default_credentials.json\"\n",
    "os.environ['GOOGLE_APPLICATION_CREDENTIALS'] = \"/Users/Rebecca/.config/gcloud/application_default_credentials.json\"\n",
    "%load_ext google.cloud.bigquery\n",
    "client = bigquery.Client()\n",
    "\n",
    "print('Done!')"
   ]
  },
  {
   "cell_type": "code",
   "execution_count": 2,
   "id": "881688b6",
   "metadata": {},
   "outputs": [],
   "source": [
    "import matplotlib.pyplot as plt\n",
    "import numpy as np\n",
    "import scipy\n",
    "from scipy.stats import norm\n"
   ]
  },
  {
   "cell_type": "code",
   "execution_count": 3,
   "id": "48e103a1",
   "metadata": {},
   "outputs": [
    {
     "name": "stdout",
     "output_type": "stream",
     "text": [
      "Done!\n"
     ]
    }
   ],
   "source": [
    "testQuery = \"\"\"\n",
    "SELECT * \n",
    "FROM `broadband-data.mba_data.curr_httpgetmt` as httpmt\n",
    "INNER JOIN `broadband-data.mba_data.unit-profile-sept2020` as mt ON httpmt.unit_id=mt.Unit_ID\n",
    "Limit 5\n",
    "\"\"\"\n",
    "\n",
    "# Runs the query and converts it into a dataframe\n",
    "testQueryDF = client.query(testQuery).to_dataframe()\n",
    "print('Done!')"
   ]
  },
  {
   "cell_type": "code",
   "execution_count": 4,
   "id": "a04b29d8",
   "metadata": {},
   "outputs": [
    {
     "data": {
      "text/html": [
       "<div>\n",
       "<style scoped>\n",
       "    .dataframe tbody tr th:only-of-type {\n",
       "        vertical-align: middle;\n",
       "    }\n",
       "\n",
       "    .dataframe tbody tr th {\n",
       "        vertical-align: top;\n",
       "    }\n",
       "\n",
       "    .dataframe thead th {\n",
       "        text-align: right;\n",
       "    }\n",
       "</style>\n",
       "<table border=\"1\" class=\"dataframe\">\n",
       "  <thead>\n",
       "    <tr style=\"text-align: right;\">\n",
       "      <th></th>\n",
       "      <th>unit_id</th>\n",
       "      <th>dtime</th>\n",
       "      <th>ddate</th>\n",
       "      <th>target</th>\n",
       "      <th>address</th>\n",
       "      <th>fetch_time</th>\n",
       "      <th>bytes_total</th>\n",
       "      <th>bytes_sec</th>\n",
       "      <th>bytes_sec_interval</th>\n",
       "      <th>warmup_time</th>\n",
       "      <th>...</th>\n",
       "      <th>Unit_ID_1</th>\n",
       "      <th>ISP</th>\n",
       "      <th>Technology</th>\n",
       "      <th>State</th>\n",
       "      <th>Census</th>\n",
       "      <th>timezone_offset</th>\n",
       "      <th>timezone_offset_dst</th>\n",
       "      <th>Download</th>\n",
       "      <th>Upload</th>\n",
       "      <th>Whitebox_Model</th>\n",
       "    </tr>\n",
       "  </thead>\n",
       "  <tbody>\n",
       "    <tr>\n",
       "      <th>0</th>\n",
       "      <td>613972</td>\n",
       "      <td>2020-09-05 23:29:55+00:00</td>\n",
       "      <td>2020-09-05</td>\n",
       "      <td>samknows1.nyc2.level3.net</td>\n",
       "      <td>4.71.185.62</td>\n",
       "      <td>10000207</td>\n",
       "      <td>138606904</td>\n",
       "      <td>13860403</td>\n",
       "      <td>13860403</td>\n",
       "      <td>5000052</td>\n",
       "      <td>...</td>\n",
       "      <td>613972</td>\n",
       "      <td>Optimum</td>\n",
       "      <td>Cable</td>\n",
       "      <td>NY</td>\n",
       "      <td>Northeast</td>\n",
       "      <td>-5</td>\n",
       "      <td>-4</td>\n",
       "      <td>100.0</td>\n",
       "      <td>35.0</td>\n",
       "      <td>wdr3600</td>\n",
       "    </tr>\n",
       "    <tr>\n",
       "      <th>1</th>\n",
       "      <td>613972</td>\n",
       "      <td>2020-09-06 11:28:32+00:00</td>\n",
       "      <td>2020-09-06</td>\n",
       "      <td>samknows1.nyc2.level3.net</td>\n",
       "      <td>4.71.185.62</td>\n",
       "      <td>10000148</td>\n",
       "      <td>144443792</td>\n",
       "      <td>14444165</td>\n",
       "      <td>14444165</td>\n",
       "      <td>1500080</td>\n",
       "      <td>...</td>\n",
       "      <td>613972</td>\n",
       "      <td>Optimum</td>\n",
       "      <td>Cable</td>\n",
       "      <td>NY</td>\n",
       "      <td>Northeast</td>\n",
       "      <td>-5</td>\n",
       "      <td>-4</td>\n",
       "      <td>100.0</td>\n",
       "      <td>35.0</td>\n",
       "      <td>wdr3600</td>\n",
       "    </tr>\n",
       "    <tr>\n",
       "      <th>2</th>\n",
       "      <td>613972</td>\n",
       "      <td>2020-09-06 03:32:03+00:00</td>\n",
       "      <td>2020-09-06</td>\n",
       "      <td>samknows1.nyc2.level3.net</td>\n",
       "      <td>4.71.185.62</td>\n",
       "      <td>10000203</td>\n",
       "      <td>144375736</td>\n",
       "      <td>14437281</td>\n",
       "      <td>14437281</td>\n",
       "      <td>1500052</td>\n",
       "      <td>...</td>\n",
       "      <td>613972</td>\n",
       "      <td>Optimum</td>\n",
       "      <td>Cable</td>\n",
       "      <td>NY</td>\n",
       "      <td>Northeast</td>\n",
       "      <td>-5</td>\n",
       "      <td>-4</td>\n",
       "      <td>100.0</td>\n",
       "      <td>35.0</td>\n",
       "      <td>wdr3600</td>\n",
       "    </tr>\n",
       "    <tr>\n",
       "      <th>3</th>\n",
       "      <td>613972</td>\n",
       "      <td>2020-09-06 07:26:55+00:00</td>\n",
       "      <td>2020-09-06</td>\n",
       "      <td>samknows1.nyc2.level3.net</td>\n",
       "      <td>4.71.185.62</td>\n",
       "      <td>10000171</td>\n",
       "      <td>144466960</td>\n",
       "      <td>14446449</td>\n",
       "      <td>14446449</td>\n",
       "      <td>5000085</td>\n",
       "      <td>...</td>\n",
       "      <td>613972</td>\n",
       "      <td>Optimum</td>\n",
       "      <td>Cable</td>\n",
       "      <td>NY</td>\n",
       "      <td>Northeast</td>\n",
       "      <td>-5</td>\n",
       "      <td>-4</td>\n",
       "      <td>100.0</td>\n",
       "      <td>35.0</td>\n",
       "      <td>wdr3600</td>\n",
       "    </tr>\n",
       "    <tr>\n",
       "      <th>4</th>\n",
       "      <td>613972</td>\n",
       "      <td>2020-09-06 15:29:42+00:00</td>\n",
       "      <td>2020-09-06</td>\n",
       "      <td>samknows1.nyc2.level3.net</td>\n",
       "      <td>4.71.185.62</td>\n",
       "      <td>10000187</td>\n",
       "      <td>144449584</td>\n",
       "      <td>14444688</td>\n",
       "      <td>14444688</td>\n",
       "      <td>1500051</td>\n",
       "      <td>...</td>\n",
       "      <td>613972</td>\n",
       "      <td>Optimum</td>\n",
       "      <td>Cable</td>\n",
       "      <td>NY</td>\n",
       "      <td>Northeast</td>\n",
       "      <td>-5</td>\n",
       "      <td>-4</td>\n",
       "      <td>100.0</td>\n",
       "      <td>35.0</td>\n",
       "      <td>wdr3600</td>\n",
       "    </tr>\n",
       "  </tbody>\n",
       "</table>\n",
       "<p>5 rows × 25 columns</p>\n",
       "</div>"
      ],
      "text/plain": [
       "   unit_id                     dtime       ddate                     target  \\\n",
       "0   613972 2020-09-05 23:29:55+00:00  2020-09-05  samknows1.nyc2.level3.net   \n",
       "1   613972 2020-09-06 11:28:32+00:00  2020-09-06  samknows1.nyc2.level3.net   \n",
       "2   613972 2020-09-06 03:32:03+00:00  2020-09-06  samknows1.nyc2.level3.net   \n",
       "3   613972 2020-09-06 07:26:55+00:00  2020-09-06  samknows1.nyc2.level3.net   \n",
       "4   613972 2020-09-06 15:29:42+00:00  2020-09-06  samknows1.nyc2.level3.net   \n",
       "\n",
       "       address  fetch_time  bytes_total  bytes_sec  bytes_sec_interval  \\\n",
       "0  4.71.185.62    10000207    138606904   13860403            13860403   \n",
       "1  4.71.185.62    10000148    144443792   14444165            14444165   \n",
       "2  4.71.185.62    10000203    144375736   14437281            14437281   \n",
       "3  4.71.185.62    10000171    144466960   14446449            14446449   \n",
       "4  4.71.185.62    10000187    144449584   14444688            14444688   \n",
       "\n",
       "   warmup_time  ...  Unit_ID_1      ISP  Technology  State     Census  \\\n",
       "0      5000052  ...     613972  Optimum       Cable     NY  Northeast   \n",
       "1      1500080  ...     613972  Optimum       Cable     NY  Northeast   \n",
       "2      1500052  ...     613972  Optimum       Cable     NY  Northeast   \n",
       "3      5000085  ...     613972  Optimum       Cable     NY  Northeast   \n",
       "4      1500051  ...     613972  Optimum       Cable     NY  Northeast   \n",
       "\n",
       "   timezone_offset timezone_offset_dst Download Upload Whitebox_Model  \n",
       "0               -5                  -4    100.0   35.0        wdr3600  \n",
       "1               -5                  -4    100.0   35.0        wdr3600  \n",
       "2               -5                  -4    100.0   35.0        wdr3600  \n",
       "3               -5                  -4    100.0   35.0        wdr3600  \n",
       "4               -5                  -4    100.0   35.0        wdr3600  \n",
       "\n",
       "[5 rows x 25 columns]"
      ]
     },
     "execution_count": 4,
     "metadata": {},
     "output_type": "execute_result"
    }
   ],
   "source": [
    "testQueryDF.head()"
   ]
  },
  {
   "cell_type": "code",
   "execution_count": 5,
   "id": "0d2973c4",
   "metadata": {},
   "outputs": [
    {
     "name": "stderr",
     "output_type": "stream",
     "text": [
      "Query complete after 0.06s: 100%|█████████████| 1/1 [00:00<00:00, 343.88query/s]\n",
      "Downloading: 100%|██████████████████████████████| 5/5 [00:01<00:00,  3.19rows/s]\n"
     ]
    },
    {
     "data": {
      "text/html": [
       "<div>\n",
       "<style scoped>\n",
       "    .dataframe tbody tr th:only-of-type {\n",
       "        vertical-align: middle;\n",
       "    }\n",
       "\n",
       "    .dataframe tbody tr th {\n",
       "        vertical-align: top;\n",
       "    }\n",
       "\n",
       "    .dataframe thead th {\n",
       "        text-align: right;\n",
       "    }\n",
       "</style>\n",
       "<table border=\"1\" class=\"dataframe\">\n",
       "  <thead>\n",
       "    <tr style=\"text-align: right;\">\n",
       "      <th></th>\n",
       "      <th>unit_id</th>\n",
       "      <th>dtime</th>\n",
       "      <th>ddate</th>\n",
       "      <th>target</th>\n",
       "      <th>address</th>\n",
       "      <th>fetch_time</th>\n",
       "      <th>bytes_total</th>\n",
       "      <th>bytes_sec</th>\n",
       "      <th>bytes_sec_interval</th>\n",
       "      <th>warmup_time</th>\n",
       "      <th>...</th>\n",
       "      <th>Unit_ID_1</th>\n",
       "      <th>ISP</th>\n",
       "      <th>Technology</th>\n",
       "      <th>State</th>\n",
       "      <th>Census</th>\n",
       "      <th>timezone_offset</th>\n",
       "      <th>timezone_offset_dst</th>\n",
       "      <th>Download</th>\n",
       "      <th>Upload</th>\n",
       "      <th>Whitebox_Model</th>\n",
       "    </tr>\n",
       "  </thead>\n",
       "  <tbody>\n",
       "    <tr>\n",
       "      <th>0</th>\n",
       "      <td>613972</td>\n",
       "      <td>2020-09-05 23:29:55+00:00</td>\n",
       "      <td>2020-09-05</td>\n",
       "      <td>samknows1.nyc2.level3.net</td>\n",
       "      <td>4.71.185.62</td>\n",
       "      <td>10000207</td>\n",
       "      <td>138606904</td>\n",
       "      <td>13860403</td>\n",
       "      <td>13860403</td>\n",
       "      <td>5000052</td>\n",
       "      <td>...</td>\n",
       "      <td>613972</td>\n",
       "      <td>Optimum</td>\n",
       "      <td>Cable</td>\n",
       "      <td>NY</td>\n",
       "      <td>Northeast</td>\n",
       "      <td>-5</td>\n",
       "      <td>-4</td>\n",
       "      <td>100.0</td>\n",
       "      <td>35.0</td>\n",
       "      <td>wdr3600</td>\n",
       "    </tr>\n",
       "    <tr>\n",
       "      <th>1</th>\n",
       "      <td>613972</td>\n",
       "      <td>2020-09-06 11:28:32+00:00</td>\n",
       "      <td>2020-09-06</td>\n",
       "      <td>samknows1.nyc2.level3.net</td>\n",
       "      <td>4.71.185.62</td>\n",
       "      <td>10000148</td>\n",
       "      <td>144443792</td>\n",
       "      <td>14444165</td>\n",
       "      <td>14444165</td>\n",
       "      <td>1500080</td>\n",
       "      <td>...</td>\n",
       "      <td>613972</td>\n",
       "      <td>Optimum</td>\n",
       "      <td>Cable</td>\n",
       "      <td>NY</td>\n",
       "      <td>Northeast</td>\n",
       "      <td>-5</td>\n",
       "      <td>-4</td>\n",
       "      <td>100.0</td>\n",
       "      <td>35.0</td>\n",
       "      <td>wdr3600</td>\n",
       "    </tr>\n",
       "    <tr>\n",
       "      <th>2</th>\n",
       "      <td>613972</td>\n",
       "      <td>2020-09-06 03:32:03+00:00</td>\n",
       "      <td>2020-09-06</td>\n",
       "      <td>samknows1.nyc2.level3.net</td>\n",
       "      <td>4.71.185.62</td>\n",
       "      <td>10000203</td>\n",
       "      <td>144375736</td>\n",
       "      <td>14437281</td>\n",
       "      <td>14437281</td>\n",
       "      <td>1500052</td>\n",
       "      <td>...</td>\n",
       "      <td>613972</td>\n",
       "      <td>Optimum</td>\n",
       "      <td>Cable</td>\n",
       "      <td>NY</td>\n",
       "      <td>Northeast</td>\n",
       "      <td>-5</td>\n",
       "      <td>-4</td>\n",
       "      <td>100.0</td>\n",
       "      <td>35.0</td>\n",
       "      <td>wdr3600</td>\n",
       "    </tr>\n",
       "    <tr>\n",
       "      <th>3</th>\n",
       "      <td>613972</td>\n",
       "      <td>2020-09-06 07:26:55+00:00</td>\n",
       "      <td>2020-09-06</td>\n",
       "      <td>samknows1.nyc2.level3.net</td>\n",
       "      <td>4.71.185.62</td>\n",
       "      <td>10000171</td>\n",
       "      <td>144466960</td>\n",
       "      <td>14446449</td>\n",
       "      <td>14446449</td>\n",
       "      <td>5000085</td>\n",
       "      <td>...</td>\n",
       "      <td>613972</td>\n",
       "      <td>Optimum</td>\n",
       "      <td>Cable</td>\n",
       "      <td>NY</td>\n",
       "      <td>Northeast</td>\n",
       "      <td>-5</td>\n",
       "      <td>-4</td>\n",
       "      <td>100.0</td>\n",
       "      <td>35.0</td>\n",
       "      <td>wdr3600</td>\n",
       "    </tr>\n",
       "    <tr>\n",
       "      <th>4</th>\n",
       "      <td>613972</td>\n",
       "      <td>2020-09-06 15:29:42+00:00</td>\n",
       "      <td>2020-09-06</td>\n",
       "      <td>samknows1.nyc2.level3.net</td>\n",
       "      <td>4.71.185.62</td>\n",
       "      <td>10000187</td>\n",
       "      <td>144449584</td>\n",
       "      <td>14444688</td>\n",
       "      <td>14444688</td>\n",
       "      <td>1500051</td>\n",
       "      <td>...</td>\n",
       "      <td>613972</td>\n",
       "      <td>Optimum</td>\n",
       "      <td>Cable</td>\n",
       "      <td>NY</td>\n",
       "      <td>Northeast</td>\n",
       "      <td>-5</td>\n",
       "      <td>-4</td>\n",
       "      <td>100.0</td>\n",
       "      <td>35.0</td>\n",
       "      <td>wdr3600</td>\n",
       "    </tr>\n",
       "  </tbody>\n",
       "</table>\n",
       "<p>5 rows × 25 columns</p>\n",
       "</div>"
      ],
      "text/plain": [
       "   unit_id                     dtime       ddate                     target  \\\n",
       "0   613972 2020-09-05 23:29:55+00:00  2020-09-05  samknows1.nyc2.level3.net   \n",
       "1   613972 2020-09-06 11:28:32+00:00  2020-09-06  samknows1.nyc2.level3.net   \n",
       "2   613972 2020-09-06 03:32:03+00:00  2020-09-06  samknows1.nyc2.level3.net   \n",
       "3   613972 2020-09-06 07:26:55+00:00  2020-09-06  samknows1.nyc2.level3.net   \n",
       "4   613972 2020-09-06 15:29:42+00:00  2020-09-06  samknows1.nyc2.level3.net   \n",
       "\n",
       "       address  fetch_time  bytes_total  bytes_sec  bytes_sec_interval  \\\n",
       "0  4.71.185.62    10000207    138606904   13860403            13860403   \n",
       "1  4.71.185.62    10000148    144443792   14444165            14444165   \n",
       "2  4.71.185.62    10000203    144375736   14437281            14437281   \n",
       "3  4.71.185.62    10000171    144466960   14446449            14446449   \n",
       "4  4.71.185.62    10000187    144449584   14444688            14444688   \n",
       "\n",
       "   warmup_time  ...  Unit_ID_1      ISP  Technology  State     Census  \\\n",
       "0      5000052  ...     613972  Optimum       Cable     NY  Northeast   \n",
       "1      1500080  ...     613972  Optimum       Cable     NY  Northeast   \n",
       "2      1500052  ...     613972  Optimum       Cable     NY  Northeast   \n",
       "3      5000085  ...     613972  Optimum       Cable     NY  Northeast   \n",
       "4      1500051  ...     613972  Optimum       Cable     NY  Northeast   \n",
       "\n",
       "   timezone_offset timezone_offset_dst Download Upload Whitebox_Model  \n",
       "0               -5                  -4    100.0   35.0        wdr3600  \n",
       "1               -5                  -4    100.0   35.0        wdr3600  \n",
       "2               -5                  -4    100.0   35.0        wdr3600  \n",
       "3               -5                  -4    100.0   35.0        wdr3600  \n",
       "4               -5                  -4    100.0   35.0        wdr3600  \n",
       "\n",
       "[5 rows x 25 columns]"
      ]
     },
     "execution_count": 5,
     "metadata": {},
     "output_type": "execute_result"
    }
   ],
   "source": [
    "%%bigquery\n",
    "SELECT *\n",
    "FROM `broadband-data.mba_data.curr_httpgetmt` as httpmt\n",
    "INNER JOIN `broadband-data.mba_data.unit-profile-sept2020` as mt ON httpmt.unit_id=mt.Unit_ID\n",
    "Limit 5"
   ]
  },
  {
   "cell_type": "code",
   "execution_count": 6,
   "id": "8072202a",
   "metadata": {},
   "outputs": [
    {
     "name": "stderr",
     "output_type": "stream",
     "text": [
      "Query complete after 0.01s: 100%|█████████████| 1/1 [00:00<00:00, 270.41query/s]\n",
      "Downloading: 100%|██████████████████████████████| 5/5 [00:01<00:00,  3.19rows/s]\n"
     ]
    }
   ],
   "source": [
    "%%bigquery test\n",
    "SELECT * \n",
    "FROM `broadband-data.mba_data.curr_httpgetmt` as httpmt\n",
    "INNER JOIN `broadband-data.mba_data.unit-profile-sept2020` as mt ON httpmt.unit_id=mt.Unit_ID\n",
    "Limit 5"
   ]
  },
  {
   "cell_type": "code",
   "execution_count": 7,
   "id": "9ad2f672",
   "metadata": {},
   "outputs": [
    {
     "data": {
      "text/html": [
       "<div>\n",
       "<style scoped>\n",
       "    .dataframe tbody tr th:only-of-type {\n",
       "        vertical-align: middle;\n",
       "    }\n",
       "\n",
       "    .dataframe tbody tr th {\n",
       "        vertical-align: top;\n",
       "    }\n",
       "\n",
       "    .dataframe thead th {\n",
       "        text-align: right;\n",
       "    }\n",
       "</style>\n",
       "<table border=\"1\" class=\"dataframe\">\n",
       "  <thead>\n",
       "    <tr style=\"text-align: right;\">\n",
       "      <th></th>\n",
       "      <th>unit_id</th>\n",
       "      <th>dtime</th>\n",
       "      <th>ddate</th>\n",
       "      <th>target</th>\n",
       "      <th>address</th>\n",
       "      <th>fetch_time</th>\n",
       "      <th>bytes_total</th>\n",
       "      <th>bytes_sec</th>\n",
       "      <th>bytes_sec_interval</th>\n",
       "      <th>warmup_time</th>\n",
       "      <th>...</th>\n",
       "      <th>Unit_ID_1</th>\n",
       "      <th>ISP</th>\n",
       "      <th>Technology</th>\n",
       "      <th>State</th>\n",
       "      <th>Census</th>\n",
       "      <th>timezone_offset</th>\n",
       "      <th>timezone_offset_dst</th>\n",
       "      <th>Download</th>\n",
       "      <th>Upload</th>\n",
       "      <th>Whitebox_Model</th>\n",
       "    </tr>\n",
       "  </thead>\n",
       "  <tbody>\n",
       "    <tr>\n",
       "      <th>0</th>\n",
       "      <td>613972</td>\n",
       "      <td>2020-09-05 23:29:55+00:00</td>\n",
       "      <td>2020-09-05</td>\n",
       "      <td>samknows1.nyc2.level3.net</td>\n",
       "      <td>4.71.185.62</td>\n",
       "      <td>10000207</td>\n",
       "      <td>138606904</td>\n",
       "      <td>13860403</td>\n",
       "      <td>13860403</td>\n",
       "      <td>5000052</td>\n",
       "      <td>...</td>\n",
       "      <td>613972</td>\n",
       "      <td>Optimum</td>\n",
       "      <td>Cable</td>\n",
       "      <td>NY</td>\n",
       "      <td>Northeast</td>\n",
       "      <td>-5</td>\n",
       "      <td>-4</td>\n",
       "      <td>100.0</td>\n",
       "      <td>35.0</td>\n",
       "      <td>wdr3600</td>\n",
       "    </tr>\n",
       "    <tr>\n",
       "      <th>1</th>\n",
       "      <td>613972</td>\n",
       "      <td>2020-09-06 11:28:32+00:00</td>\n",
       "      <td>2020-09-06</td>\n",
       "      <td>samknows1.nyc2.level3.net</td>\n",
       "      <td>4.71.185.62</td>\n",
       "      <td>10000148</td>\n",
       "      <td>144443792</td>\n",
       "      <td>14444165</td>\n",
       "      <td>14444165</td>\n",
       "      <td>1500080</td>\n",
       "      <td>...</td>\n",
       "      <td>613972</td>\n",
       "      <td>Optimum</td>\n",
       "      <td>Cable</td>\n",
       "      <td>NY</td>\n",
       "      <td>Northeast</td>\n",
       "      <td>-5</td>\n",
       "      <td>-4</td>\n",
       "      <td>100.0</td>\n",
       "      <td>35.0</td>\n",
       "      <td>wdr3600</td>\n",
       "    </tr>\n",
       "    <tr>\n",
       "      <th>2</th>\n",
       "      <td>613972</td>\n",
       "      <td>2020-09-06 03:32:03+00:00</td>\n",
       "      <td>2020-09-06</td>\n",
       "      <td>samknows1.nyc2.level3.net</td>\n",
       "      <td>4.71.185.62</td>\n",
       "      <td>10000203</td>\n",
       "      <td>144375736</td>\n",
       "      <td>14437281</td>\n",
       "      <td>14437281</td>\n",
       "      <td>1500052</td>\n",
       "      <td>...</td>\n",
       "      <td>613972</td>\n",
       "      <td>Optimum</td>\n",
       "      <td>Cable</td>\n",
       "      <td>NY</td>\n",
       "      <td>Northeast</td>\n",
       "      <td>-5</td>\n",
       "      <td>-4</td>\n",
       "      <td>100.0</td>\n",
       "      <td>35.0</td>\n",
       "      <td>wdr3600</td>\n",
       "    </tr>\n",
       "    <tr>\n",
       "      <th>3</th>\n",
       "      <td>613972</td>\n",
       "      <td>2020-09-06 07:26:55+00:00</td>\n",
       "      <td>2020-09-06</td>\n",
       "      <td>samknows1.nyc2.level3.net</td>\n",
       "      <td>4.71.185.62</td>\n",
       "      <td>10000171</td>\n",
       "      <td>144466960</td>\n",
       "      <td>14446449</td>\n",
       "      <td>14446449</td>\n",
       "      <td>5000085</td>\n",
       "      <td>...</td>\n",
       "      <td>613972</td>\n",
       "      <td>Optimum</td>\n",
       "      <td>Cable</td>\n",
       "      <td>NY</td>\n",
       "      <td>Northeast</td>\n",
       "      <td>-5</td>\n",
       "      <td>-4</td>\n",
       "      <td>100.0</td>\n",
       "      <td>35.0</td>\n",
       "      <td>wdr3600</td>\n",
       "    </tr>\n",
       "    <tr>\n",
       "      <th>4</th>\n",
       "      <td>613972</td>\n",
       "      <td>2020-09-06 15:29:42+00:00</td>\n",
       "      <td>2020-09-06</td>\n",
       "      <td>samknows1.nyc2.level3.net</td>\n",
       "      <td>4.71.185.62</td>\n",
       "      <td>10000187</td>\n",
       "      <td>144449584</td>\n",
       "      <td>14444688</td>\n",
       "      <td>14444688</td>\n",
       "      <td>1500051</td>\n",
       "      <td>...</td>\n",
       "      <td>613972</td>\n",
       "      <td>Optimum</td>\n",
       "      <td>Cable</td>\n",
       "      <td>NY</td>\n",
       "      <td>Northeast</td>\n",
       "      <td>-5</td>\n",
       "      <td>-4</td>\n",
       "      <td>100.0</td>\n",
       "      <td>35.0</td>\n",
       "      <td>wdr3600</td>\n",
       "    </tr>\n",
       "  </tbody>\n",
       "</table>\n",
       "<p>5 rows × 25 columns</p>\n",
       "</div>"
      ],
      "text/plain": [
       "   unit_id                     dtime       ddate                     target  \\\n",
       "0   613972 2020-09-05 23:29:55+00:00  2020-09-05  samknows1.nyc2.level3.net   \n",
       "1   613972 2020-09-06 11:28:32+00:00  2020-09-06  samknows1.nyc2.level3.net   \n",
       "2   613972 2020-09-06 03:32:03+00:00  2020-09-06  samknows1.nyc2.level3.net   \n",
       "3   613972 2020-09-06 07:26:55+00:00  2020-09-06  samknows1.nyc2.level3.net   \n",
       "4   613972 2020-09-06 15:29:42+00:00  2020-09-06  samknows1.nyc2.level3.net   \n",
       "\n",
       "       address  fetch_time  bytes_total  bytes_sec  bytes_sec_interval  \\\n",
       "0  4.71.185.62    10000207    138606904   13860403            13860403   \n",
       "1  4.71.185.62    10000148    144443792   14444165            14444165   \n",
       "2  4.71.185.62    10000203    144375736   14437281            14437281   \n",
       "3  4.71.185.62    10000171    144466960   14446449            14446449   \n",
       "4  4.71.185.62    10000187    144449584   14444688            14444688   \n",
       "\n",
       "   warmup_time  ...  Unit_ID_1      ISP  Technology  State     Census  \\\n",
       "0      5000052  ...     613972  Optimum       Cable     NY  Northeast   \n",
       "1      1500080  ...     613972  Optimum       Cable     NY  Northeast   \n",
       "2      1500052  ...     613972  Optimum       Cable     NY  Northeast   \n",
       "3      5000085  ...     613972  Optimum       Cable     NY  Northeast   \n",
       "4      1500051  ...     613972  Optimum       Cable     NY  Northeast   \n",
       "\n",
       "   timezone_offset timezone_offset_dst Download Upload Whitebox_Model  \n",
       "0               -5                  -4    100.0   35.0        wdr3600  \n",
       "1               -5                  -4    100.0   35.0        wdr3600  \n",
       "2               -5                  -4    100.0   35.0        wdr3600  \n",
       "3               -5                  -4    100.0   35.0        wdr3600  \n",
       "4               -5                  -4    100.0   35.0        wdr3600  \n",
       "\n",
       "[5 rows x 25 columns]"
      ]
     },
     "execution_count": 7,
     "metadata": {},
     "output_type": "execute_result"
    }
   ],
   "source": [
    "# Note that I saved the above query to a variable named test. See what it does below by running this cell\n",
    "test.head()"
   ]
  },
  {
   "cell_type": "code",
   "execution_count": 8,
   "id": "6356d98a",
   "metadata": {},
   "outputs": [
    {
     "data": {
      "text/plain": [
       "<AxesSubplot:xlabel='ISP'>"
      ]
     },
     "execution_count": 8,
     "metadata": {},
     "output_type": "execute_result"
    },
    {
     "data": {
      "image/png": "[encoded data removed]",
      "text/plain": [
       "<Figure size 432x288 with 1 Axes>"
      ]
     },
     "metadata": {
      "needs_background": "light"
     },
     "output_type": "display_data"
    }
   ],
   "source": [
    "# Sample chart (this is not actually meaningful but shows how you can plot stuff)\n",
    "test.plot(x = 'ISP', y = 'bytes_sec')"
   ]
  },
  {
   "cell_type": "markdown",
   "id": "9b58ce57",
   "metadata": {},
   "source": [
    "## National deployment data: Num of blocks that have deployment "
   ]
  },
  {
   "cell_type": "code",
   "execution_count": 9,
   "id": "676f9e68",
   "metadata": {},
   "outputs": [
    {
     "name": "stderr",
     "output_type": "stream",
     "text": [
      "Query complete after 0.00s: 100%|█████████████| 1/1 [00:00<00:00, 216.87query/s]\n",
      "Downloading: 100%|██████████████████████████████| 1/1 [00:01<00:00,  1.65s/rows]\n"
     ]
    }
   ],
   "source": [
    "%%bigquery num_2015_nation_table\n",
    "SELECT count(distinct BlockCode) as num_2015_nation\n",
    "FROM `broadband-data.fcc_form_477.fbd_us_without_satellite_jun2015_v5`\n",
    "where consumer = 1 and StateAbbr !='AK' and StateAbbr !='HI' and MaxAdDown >= 25 and MaxAdUp >= 3"
   ]
  },
  {
   "cell_type": "code",
   "execution_count": 10,
   "id": "7c0f3908",
   "metadata": {},
   "outputs": [
    {
     "data": {
      "text/html": [
       "<div>\n",
       "<style scoped>\n",
       "    .dataframe tbody tr th:only-of-type {\n",
       "        vertical-align: middle;\n",
       "    }\n",
       "\n",
       "    .dataframe tbody tr th {\n",
       "        vertical-align: top;\n",
       "    }\n",
       "\n",
       "    .dataframe thead th {\n",
       "        text-align: right;\n",
       "    }\n",
       "</style>\n",
       "<table border=\"1\" class=\"dataframe\">\n",
       "  <thead>\n",
       "    <tr style=\"text-align: right;\">\n",
       "      <th></th>\n",
       "      <th>num_2015_nation</th>\n",
       "    </tr>\n",
       "  </thead>\n",
       "  <tbody>\n",
       "    <tr>\n",
       "      <th>0</th>\n",
       "      <td>5803476</td>\n",
       "    </tr>\n",
       "  </tbody>\n",
       "</table>\n",
       "</div>"
      ],
      "text/plain": [
       "   num_2015_nation\n",
       "0          5803476"
      ]
     },
     "execution_count": 10,
     "metadata": {},
     "output_type": "execute_result"
    }
   ],
   "source": [
    "num_2015_nation_table"
   ]
  },
  {
   "cell_type": "code",
   "execution_count": 11,
   "id": "9eb4ee4f",
   "metadata": {},
   "outputs": [
    {
     "name": "stderr",
     "output_type": "stream",
     "text": [
      "Query complete after 0.01s: 100%|█████████████| 1/1 [00:00<00:00, 201.46query/s]\n",
      "Downloading: 100%|██████████████████████████████| 1/1 [00:01<00:00,  1.48s/rows]\n"
     ]
    }
   ],
   "source": [
    "%%bigquery num_2016_nation_table\n",
    "SELECT count(distinct BlockCode) as num_2016_nation\n",
    "FROM `broadband-data.fcc_form_477.fbd_us_without_satellite_jun2016_v4`\n",
    "where consumer = 1 and StateAbbr !='AK' and StateAbbr !='HI' and MaxAdDown >= 25 and MaxAdUp >= 3"
   ]
  },
  {
   "cell_type": "code",
   "execution_count": 12,
   "id": "9848b8a6",
   "metadata": {},
   "outputs": [
    {
     "data": {
      "text/html": [
       "<div>\n",
       "<style scoped>\n",
       "    .dataframe tbody tr th:only-of-type {\n",
       "        vertical-align: middle;\n",
       "    }\n",
       "\n",
       "    .dataframe tbody tr th {\n",
       "        vertical-align: top;\n",
       "    }\n",
       "\n",
       "    .dataframe thead th {\n",
       "        text-align: right;\n",
       "    }\n",
       "</style>\n",
       "<table border=\"1\" class=\"dataframe\">\n",
       "  <thead>\n",
       "    <tr style=\"text-align: right;\">\n",
       "      <th></th>\n",
       "      <th>num_2016_nation</th>\n",
       "    </tr>\n",
       "  </thead>\n",
       "  <tbody>\n",
       "    <tr>\n",
       "      <th>0</th>\n",
       "      <td>6237057</td>\n",
       "    </tr>\n",
       "  </tbody>\n",
       "</table>\n",
       "</div>"
      ],
      "text/plain": [
       "   num_2016_nation\n",
       "0          6237057"
      ]
     },
     "execution_count": 12,
     "metadata": {},
     "output_type": "execute_result"
    }
   ],
   "source": [
    "num_2016_nation_table"
   ]
  },
  {
   "cell_type": "code",
   "execution_count": 13,
   "id": "3c666449",
   "metadata": {},
   "outputs": [
    {
     "name": "stderr",
     "output_type": "stream",
     "text": [
      "Query complete after 0.01s: 100%|█████████████| 1/1 [00:00<00:00, 393.68query/s]\n",
      "Downloading: 100%|██████████████████████████████| 1/1 [00:01<00:00,  1.60s/rows]\n"
     ]
    }
   ],
   "source": [
    "%%bigquery num_2017_nation_table\n",
    "SELECT count(distinct BlockCode) as num_2017_nation\n",
    "FROM `broadband-data.fcc_form_477.fbd_us_without_satellite_jun2017_v3`\n",
    "where consumer = 1 and StateAbbr !='AK' and StateAbbr !='HI' and MaxAdDown >= 25 and MaxAdUp >= 3"
   ]
  },
  {
   "cell_type": "code",
   "execution_count": 14,
   "id": "48bfa65a",
   "metadata": {},
   "outputs": [
    {
     "data": {
      "text/html": [
       "<div>\n",
       "<style scoped>\n",
       "    .dataframe tbody tr th:only-of-type {\n",
       "        vertical-align: middle;\n",
       "    }\n",
       "\n",
       "    .dataframe tbody tr th {\n",
       "        vertical-align: top;\n",
       "    }\n",
       "\n",
       "    .dataframe thead th {\n",
       "        text-align: right;\n",
       "    }\n",
       "</style>\n",
       "<table border=\"1\" class=\"dataframe\">\n",
       "  <thead>\n",
       "    <tr style=\"text-align: right;\">\n",
       "      <th></th>\n",
       "      <th>num_2017_nation</th>\n",
       "    </tr>\n",
       "  </thead>\n",
       "  <tbody>\n",
       "    <tr>\n",
       "      <th>0</th>\n",
       "      <td>6660284</td>\n",
       "    </tr>\n",
       "  </tbody>\n",
       "</table>\n",
       "</div>"
      ],
      "text/plain": [
       "   num_2017_nation\n",
       "0          6660284"
      ]
     },
     "execution_count": 14,
     "metadata": {},
     "output_type": "execute_result"
    }
   ],
   "source": [
    "num_2017_nation_table"
   ]
  },
  {
   "cell_type": "code",
   "execution_count": 15,
   "id": "dfc1c188",
   "metadata": {},
   "outputs": [
    {
     "data": {
      "text/plain": [
       "pandas.core.frame.DataFrame"
      ]
     },
     "execution_count": 15,
     "metadata": {},
     "output_type": "execute_result"
    }
   ],
   "source": [
    "type(num_2017_nation_table)"
   ]
  },
  {
   "cell_type": "code",
   "execution_count": 16,
   "id": "41b5f58e",
   "metadata": {},
   "outputs": [
    {
     "name": "stderr",
     "output_type": "stream",
     "text": [
      "Query complete after 0.01s: 100%|█████████████| 1/1 [00:00<00:00, 537.32query/s]\n",
      "Downloading: 100%|██████████████████████████████| 1/1 [00:01<00:00,  1.52s/rows]\n"
     ]
    }
   ],
   "source": [
    "%%bigquery num_2018_nation_table\n",
    "SELECT count(distinct BlockCode) as num_2018_nation\n",
    "FROM `broadband-data.fcc_form_477.fbd_us_without_satellite_jun2018_v1`\n",
    "where consumer = 1 and StateAbbr !='AK' and StateAbbr !='HI' and MaxAdDown >= 25 and MaxAdUp >= 3"
   ]
  },
  {
   "cell_type": "code",
   "execution_count": 17,
   "id": "7ffccf6d",
   "metadata": {},
   "outputs": [
    {
     "data": {
      "text/html": [
       "<div>\n",
       "<style scoped>\n",
       "    .dataframe tbody tr th:only-of-type {\n",
       "        vertical-align: middle;\n",
       "    }\n",
       "\n",
       "    .dataframe tbody tr th {\n",
       "        vertical-align: top;\n",
       "    }\n",
       "\n",
       "    .dataframe thead th {\n",
       "        text-align: right;\n",
       "    }\n",
       "</style>\n",
       "<table border=\"1\" class=\"dataframe\">\n",
       "  <thead>\n",
       "    <tr style=\"text-align: right;\">\n",
       "      <th></th>\n",
       "      <th>num_2018_nation</th>\n",
       "    </tr>\n",
       "  </thead>\n",
       "  <tbody>\n",
       "    <tr>\n",
       "      <th>0</th>\n",
       "      <td>7000076</td>\n",
       "    </tr>\n",
       "  </tbody>\n",
       "</table>\n",
       "</div>"
      ],
      "text/plain": [
       "   num_2018_nation\n",
       "0          7000076"
      ]
     },
     "execution_count": 17,
     "metadata": {},
     "output_type": "execute_result"
    }
   ],
   "source": [
    "num_2018_nation_table"
   ]
  },
  {
   "cell_type": "code",
   "execution_count": 18,
   "id": "49d86c15",
   "metadata": {},
   "outputs": [
    {
     "name": "stderr",
     "output_type": "stream",
     "text": [
      "Query complete after 0.00s: 100%|█████████████| 1/1 [00:00<00:00, 442.06query/s]\n",
      "Downloading: 100%|██████████████████████████████| 1/1 [00:01<00:00,  1.74s/rows]\n"
     ]
    }
   ],
   "source": [
    "%%bigquery num_2019_nation_table\n",
    "SELECT count(distinct BlockCode) as num_2019_nation\n",
    "FROM `broadband-data.fcc_form_477.fbd_us_without_satellite_jun2019_v2`\n",
    "where consumer = 1 and StateAbbr !='AK' and StateAbbr !='HI' and MaxAdDown >= 25 and MaxAdUp >= 3"
   ]
  },
  {
   "cell_type": "code",
   "execution_count": 19,
   "id": "f266e39b",
   "metadata": {},
   "outputs": [
    {
     "data": {
      "text/html": [
       "<div>\n",
       "<style scoped>\n",
       "    .dataframe tbody tr th:only-of-type {\n",
       "        vertical-align: middle;\n",
       "    }\n",
       "\n",
       "    .dataframe tbody tr th {\n",
       "        vertical-align: top;\n",
       "    }\n",
       "\n",
       "    .dataframe thead th {\n",
       "        text-align: right;\n",
       "    }\n",
       "</style>\n",
       "<table border=\"1\" class=\"dataframe\">\n",
       "  <thead>\n",
       "    <tr style=\"text-align: right;\">\n",
       "      <th></th>\n",
       "      <th>num_2019_nation</th>\n",
       "    </tr>\n",
       "  </thead>\n",
       "  <tbody>\n",
       "    <tr>\n",
       "      <th>0</th>\n",
       "      <td>7459404</td>\n",
       "    </tr>\n",
       "  </tbody>\n",
       "</table>\n",
       "</div>"
      ],
      "text/plain": [
       "   num_2019_nation\n",
       "0          7459404"
      ]
     },
     "execution_count": 19,
     "metadata": {},
     "output_type": "execute_result"
    }
   ],
   "source": [
    "num_2019_nation_table"
   ]
  },
  {
   "cell_type": "code",
   "execution_count": 20,
   "id": "3c592552",
   "metadata": {},
   "outputs": [
    {
     "name": "stderr",
     "output_type": "stream",
     "text": [
      "Query complete after 0.00s: 100%|█████████████| 1/1 [00:00<00:00, 494.38query/s]\n",
      "Downloading: 100%|██████████████████████████████| 1/1 [00:01<00:00,  1.37s/rows]\n"
     ]
    }
   ],
   "source": [
    "%%bigquery num_2020_nation_table\n",
    "SELECT count(distinct BlockCode) as num_2020_nation\n",
    "FROM `broadband-data.fcc_form_477.fbd_us_without_satellite_jun2020_v1`\n",
    "where consumer = 1 and StateAbbr !='AK' and StateAbbr !='HI' and MaxAdDown >= 25 and MaxAdUp >= 3"
   ]
  },
  {
   "cell_type": "code",
   "execution_count": 21,
   "id": "bab4dd6f",
   "metadata": {},
   "outputs": [
    {
     "data": {
      "text/html": [
       "<div>\n",
       "<style scoped>\n",
       "    .dataframe tbody tr th:only-of-type {\n",
       "        vertical-align: middle;\n",
       "    }\n",
       "\n",
       "    .dataframe tbody tr th {\n",
       "        vertical-align: top;\n",
       "    }\n",
       "\n",
       "    .dataframe thead th {\n",
       "        text-align: right;\n",
       "    }\n",
       "</style>\n",
       "<table border=\"1\" class=\"dataframe\">\n",
       "  <thead>\n",
       "    <tr style=\"text-align: right;\">\n",
       "      <th></th>\n",
       "      <th>num_2020_nation</th>\n",
       "    </tr>\n",
       "  </thead>\n",
       "  <tbody>\n",
       "    <tr>\n",
       "      <th>0</th>\n",
       "      <td>7942631</td>\n",
       "    </tr>\n",
       "  </tbody>\n",
       "</table>\n",
       "</div>"
      ],
      "text/plain": [
       "   num_2020_nation\n",
       "0          7942631"
      ]
     },
     "execution_count": 21,
     "metadata": {},
     "output_type": "execute_result"
    }
   ],
   "source": [
    "num_2020_nation_table"
   ]
  },
  {
   "cell_type": "code",
   "execution_count": 22,
   "id": "d3694348",
   "metadata": {},
   "outputs": [
    {
     "name": "stderr",
     "output_type": "stream",
     "text": [
      "Query complete after 0.01s: 100%|█████████████| 1/1 [00:00<00:00, 537.66query/s]\n",
      "Downloading: 100%|██████████████████████████████| 1/1 [00:01<00:00,  1.62s/rows]\n"
     ]
    }
   ],
   "source": [
    "%%bigquery num_2021_nation_table\n",
    "SELECT count(distinct BlockCode) as num_2021_nation\n",
    "FROM `broadband-data.fcc_form_477.fbd_us_without_satellite_jun2021_v1`\n",
    "where consumer = 1 and StateAbbr !='AK' and StateAbbr !='HI' and MaxAdDown >= 25 and MaxAdUp >= 3"
   ]
  },
  {
   "cell_type": "code",
   "execution_count": 23,
   "id": "c86bc10b",
   "metadata": {},
   "outputs": [
    {
     "data": {
      "text/html": [
       "<div>\n",
       "<style scoped>\n",
       "    .dataframe tbody tr th:only-of-type {\n",
       "        vertical-align: middle;\n",
       "    }\n",
       "\n",
       "    .dataframe tbody tr th {\n",
       "        vertical-align: top;\n",
       "    }\n",
       "\n",
       "    .dataframe thead th {\n",
       "        text-align: right;\n",
       "    }\n",
       "</style>\n",
       "<table border=\"1\" class=\"dataframe\">\n",
       "  <thead>\n",
       "    <tr style=\"text-align: right;\">\n",
       "      <th></th>\n",
       "      <th>num_2021_nation</th>\n",
       "    </tr>\n",
       "  </thead>\n",
       "  <tbody>\n",
       "    <tr>\n",
       "      <th>0</th>\n",
       "      <td>8530032</td>\n",
       "    </tr>\n",
       "  </tbody>\n",
       "</table>\n",
       "</div>"
      ],
      "text/plain": [
       "   num_2021_nation\n",
       "0          8530032"
      ]
     },
     "execution_count": 23,
     "metadata": {},
     "output_type": "execute_result"
    }
   ],
   "source": [
    "num_2021_nation_table"
   ]
  },
  {
   "cell_type": "code",
   "execution_count": 24,
   "id": "7b101a8f",
   "metadata": {},
   "outputs": [],
   "source": [
    "# Todo: Combine the above 7 years data and make a nation level plot of num of blocks that have deployment. "
   ]
  },
  {
   "cell_type": "code",
   "execution_count": 25,
   "id": "82424d98",
   "metadata": {},
   "outputs": [
    {
     "data": {
      "text/html": [
       "<div>\n",
       "<style scoped>\n",
       "    .dataframe tbody tr th:only-of-type {\n",
       "        vertical-align: middle;\n",
       "    }\n",
       "\n",
       "    .dataframe tbody tr th {\n",
       "        vertical-align: top;\n",
       "    }\n",
       "\n",
       "    .dataframe thead th {\n",
       "        text-align: right;\n",
       "    }\n",
       "</style>\n",
       "<table border=\"1\" class=\"dataframe\">\n",
       "  <thead>\n",
       "    <tr style=\"text-align: right;\">\n",
       "      <th></th>\n",
       "      <th>num</th>\n",
       "      <th>Year</th>\n",
       "    </tr>\n",
       "  </thead>\n",
       "  <tbody>\n",
       "    <tr>\n",
       "      <th>0</th>\n",
       "      <td>5803476</td>\n",
       "      <td>2015</td>\n",
       "    </tr>\n",
       "    <tr>\n",
       "      <th>0</th>\n",
       "      <td>6237057</td>\n",
       "      <td>2016</td>\n",
       "    </tr>\n",
       "    <tr>\n",
       "      <th>0</th>\n",
       "      <td>6660284</td>\n",
       "      <td>2017</td>\n",
       "    </tr>\n",
       "    <tr>\n",
       "      <th>0</th>\n",
       "      <td>7000076</td>\n",
       "      <td>2018</td>\n",
       "    </tr>\n",
       "    <tr>\n",
       "      <th>0</th>\n",
       "      <td>7459404</td>\n",
       "      <td>2019</td>\n",
       "    </tr>\n",
       "    <tr>\n",
       "      <th>0</th>\n",
       "      <td>7942631</td>\n",
       "      <td>2020</td>\n",
       "    </tr>\n",
       "    <tr>\n",
       "      <th>0</th>\n",
       "      <td>8530032</td>\n",
       "      <td>2021</td>\n",
       "    </tr>\n",
       "  </tbody>\n",
       "</table>\n",
       "</div>"
      ],
      "text/plain": [
       "       num  Year\n",
       "0  5803476  2015\n",
       "0  6237057  2016\n",
       "0  6660284  2017\n",
       "0  7000076  2018\n",
       "0  7459404  2019\n",
       "0  7942631  2020\n",
       "0  8530032  2021"
      ]
     },
     "execution_count": 25,
     "metadata": {},
     "output_type": "execute_result"
    }
   ],
   "source": [
    "num_2015_nation_table['num']=num_2015_nation_table['num_2015_nation']\n",
    "num_2016_nation_table['num']=num_2016_nation_table['num_2016_nation']\n",
    "num_2017_nation_table['num']=num_2017_nation_table['num_2017_nation']\n",
    "num_2018_nation_table['num']=num_2018_nation_table['num_2018_nation']\n",
    "num_2019_nation_table['num']=num_2019_nation_table['num_2019_nation']\n",
    "num_2020_nation_table['num']=num_2020_nation_table['num_2020_nation']\n",
    "num_2021_nation_table['num']=num_2021_nation_table['num_2021_nation']\n",
    "\n",
    "nation_df = pd.concat([num_2015_nation_table,num_2016_nation_table,num_2017_nation_table,num_2018_nation_table,num_2019_nation_table,num_2020_nation_table,num_2021_nation_table])\n",
    "nation_df['Year'] = [\"2015\",\"2016\",\"2017\",\"2018\",\"2019\",\"2020\",\"2021\"]\n",
    "nation_df = nation_df[['num',\"Year\"]]\n",
    "nation_df\n"
   ]
  },
  {
   "cell_type": "code",
   "execution_count": 26,
   "id": "0de5259e",
   "metadata": {},
   "outputs": [
    {
     "data": {
      "text/plain": [
       "Text(0.5, 0, 'Year')"
      ]
     },
     "execution_count": 26,
     "metadata": {},
     "output_type": "execute_result"
    },
    {
     "data": {
      "image/png": "[encoded data removed]",
      "text/plain": [
       "<Figure size 360x720 with 2 Axes>"
      ]
     },
     "metadata": {
      "needs_background": "light"
     },
     "output_type": "display_data"
    }
   ],
   "source": [
    "fig, axs = plt.subplots(2,figsize=(5,10))\n",
    "fig.suptitle('Nation Deployment: 2015-2021')\n",
    "axs[0].plot(nation_df['Year'], nation_df['num'])\n",
    "axs[0].set_ylabel(\"Num of Blocks\")\n",
    "axs[1].bar(nation_df['Year'], nation_df['num'])\n",
    "axs[1].set_ylabel(\"Num of Blocks\")\n",
    "axs[1].set_xlabel(\"Year\")"
   ]
  },
  {
   "cell_type": "markdown",
   "id": "a6a496fb",
   "metadata": {},
   "source": [
    "## State level data: deployment rate change "
   ]
  },
  {
   "cell_type": "code",
   "execution_count": 27,
   "id": "eba0c28b",
   "metadata": {},
   "outputs": [
    {
     "name": "stderr",
     "output_type": "stream",
     "text": [
      "Query complete after 0.01s: 100%|█████████████| 1/1 [00:00<00:00, 308.81query/s]\n",
      "Downloading: 100%|████████████████████████████| 49/49 [00:01<00:00, 28.59rows/s]\n"
     ]
    }
   ],
   "source": [
    "%%bigquery state_deployed_block_nums\n",
    "SELECT a.StateAbbr, num_2018_state, num_2019_state,num_2020_state,num_2021_state\n",
    "FROM\n",
    "\n",
    "(SELECT StateAbbr, count(distinct BlockCode) as num_2018_state\n",
    "FROM `broadband-data.fcc_form_477.fbd_us_without_satellite_jun2018_v1`\n",
    "where consumer = 1 and StateAbbr !='AK' and StateAbbr !='HI' and MaxAdDown >= 25 and MaxAdUp >= 3\n",
    "group by StateAbbr) as a\n",
    "join (\n",
    "SELECT StateAbbr, count(distinct BlockCode) as num_2019_state\n",
    "FROM `broadband-data.fcc_form_477.fbd_us_without_satellite_jun2019_v2`\n",
    "where consumer = 1 and StateAbbr !='AK' and StateAbbr !='HI' and MaxAdDown >= 25 and MaxAdUp >= 3\n",
    "group by StateAbbr\n",
    ") as b on a.StateAbbr = b.StateAbbr\n",
    "join (\n",
    "SELECT StateAbbr, count(distinct BlockCode) as num_2020_state\n",
    "FROM `broadband-data.fcc_form_477.fbd_us_without_satellite_jun2020_v1`\n",
    "where consumer = 1 and StateAbbr !='AK' and StateAbbr !='HI' and MaxAdDown >= 25 and MaxAdUp >= 3\n",
    "group by StateAbbr\n",
    ") as c on a.StateAbbr = c.StateAbbr\n",
    "join (\n",
    "SELECT StateAbbr, count(distinct BlockCode) as num_2021_state\n",
    "FROM `broadband-data.fcc_form_477.fbd_us_without_satellite_jun2021_v1`\n",
    "where consumer = 1 and StateAbbr !='AK' and StateAbbr !='HI' and MaxAdDown >= 25 and MaxAdUp >= 3\n",
    "group by StateAbbr\n",
    ") as d on a.StateAbbr = d.StateAbbr\n",
    "\n"
   ]
  },
  {
   "cell_type": "code",
   "execution_count": 53,
   "id": "a4803ffd",
   "metadata": {},
   "outputs": [
    {
     "data": {
      "text/html": [
       "<div>\n",
       "<style scoped>\n",
       "    .dataframe tbody tr th:only-of-type {\n",
       "        vertical-align: middle;\n",
       "    }\n",
       "\n",
       "    .dataframe tbody tr th {\n",
       "        vertical-align: top;\n",
       "    }\n",
       "\n",
       "    .dataframe thead th {\n",
       "        text-align: right;\n",
       "    }\n",
       "</style>\n",
       "<table border=\"1\" class=\"dataframe\">\n",
       "  <thead>\n",
       "    <tr style=\"text-align: right;\">\n",
       "      <th></th>\n",
       "      <th>StateAbbr</th>\n",
       "      <th>num_2018_state</th>\n",
       "      <th>num_2019_state</th>\n",
       "      <th>num_2020_state</th>\n",
       "      <th>num_2021_state</th>\n",
       "    </tr>\n",
       "  </thead>\n",
       "  <tbody>\n",
       "    <tr>\n",
       "      <th>0</th>\n",
       "      <td>FL</td>\n",
       "      <td>361602</td>\n",
       "      <td>359196</td>\n",
       "      <td>363689</td>\n",
       "      <td>365987</td>\n",
       "    </tr>\n",
       "    <tr>\n",
       "      <th>1</th>\n",
       "      <td>ME</td>\n",
       "      <td>43178</td>\n",
       "      <td>43871</td>\n",
       "      <td>44650</td>\n",
       "      <td>54995</td>\n",
       "    </tr>\n",
       "    <tr>\n",
       "      <th>2</th>\n",
       "      <td>MI</td>\n",
       "      <td>218731</td>\n",
       "      <td>238297</td>\n",
       "      <td>239500</td>\n",
       "      <td>254826</td>\n",
       "    </tr>\n",
       "    <tr>\n",
       "      <th>3</th>\n",
       "      <td>WI</td>\n",
       "      <td>175305</td>\n",
       "      <td>177929</td>\n",
       "      <td>183234</td>\n",
       "      <td>199157</td>\n",
       "    </tr>\n",
       "    <tr>\n",
       "      <th>4</th>\n",
       "      <td>OR</td>\n",
       "      <td>100959</td>\n",
       "      <td>104488</td>\n",
       "      <td>116025</td>\n",
       "      <td>123100</td>\n",
       "    </tr>\n",
       "  </tbody>\n",
       "</table>\n",
       "</div>"
      ],
      "text/plain": [
       "  StateAbbr  num_2018_state  num_2019_state  num_2020_state  num_2021_state\n",
       "0        FL          361602          359196          363689          365987\n",
       "1        ME           43178           43871           44650           54995\n",
       "2        MI          218731          238297          239500          254826\n",
       "3        WI          175305          177929          183234          199157\n",
       "4        OR          100959          104488          116025          123100"
      ]
     },
     "execution_count": 53,
     "metadata": {},
     "output_type": "execute_result"
    }
   ],
   "source": [
    "state_deployed_block_nums.head()"
   ]
  },
  {
   "cell_type": "code",
   "execution_count": 58,
   "id": "df3e1d10",
   "metadata": {},
   "outputs": [
    {
     "name": "stderr",
     "output_type": "stream",
     "text": [
      "Query complete after 0.01s: 100%|█████████████| 1/1 [00:00<00:00, 266.32query/s]\n",
      "Downloading: 100%|████████████████████████████| 51/51 [00:01<00:00, 30.67rows/s]\n"
     ]
    }
   ],
   "source": [
    "%%bigquery states_block_level_num\n",
    "SELECT State_Abbr,Number_of_2010_Census_Blocks\n",
    "FROM `broadband-data.fcc_form_477.State_Block_Counts_including_Abbr`"
   ]
  },
  {
   "cell_type": "code",
   "execution_count": 59,
   "id": "6d79cbce",
   "metadata": {},
   "outputs": [
    {
     "data": {
      "text/html": [
       "<div>\n",
       "<style scoped>\n",
       "    .dataframe tbody tr th:only-of-type {\n",
       "        vertical-align: middle;\n",
       "    }\n",
       "\n",
       "    .dataframe tbody tr th {\n",
       "        vertical-align: top;\n",
       "    }\n",
       "\n",
       "    .dataframe thead th {\n",
       "        text-align: right;\n",
       "    }\n",
       "</style>\n",
       "<table border=\"1\" class=\"dataframe\">\n",
       "  <thead>\n",
       "    <tr style=\"text-align: right;\">\n",
       "      <th></th>\n",
       "      <th>State_Abbr</th>\n",
       "      <th>Number_of_2010_Census_Blocks</th>\n",
       "    </tr>\n",
       "  </thead>\n",
       "  <tbody>\n",
       "    <tr>\n",
       "      <th>0</th>\n",
       "      <td>NY</td>\n",
       "      <td>350169</td>\n",
       "    </tr>\n",
       "    <tr>\n",
       "      <th>1</th>\n",
       "      <td>FL</td>\n",
       "      <td>484481</td>\n",
       "    </tr>\n",
       "    <tr>\n",
       "      <th>2</th>\n",
       "      <td>MN</td>\n",
       "      <td>259777</td>\n",
       "    </tr>\n",
       "    <tr>\n",
       "      <th>3</th>\n",
       "      <td>VT</td>\n",
       "      <td>32580</td>\n",
       "    </tr>\n",
       "    <tr>\n",
       "      <th>4</th>\n",
       "      <td>OR</td>\n",
       "      <td>196621</td>\n",
       "    </tr>\n",
       "    <tr>\n",
       "      <th>5</th>\n",
       "      <td>DE</td>\n",
       "      <td>24115</td>\n",
       "    </tr>\n",
       "    <tr>\n",
       "      <th>6</th>\n",
       "      <td>SD</td>\n",
       "      <td>88360</td>\n",
       "    </tr>\n",
       "    <tr>\n",
       "      <th>7</th>\n",
       "      <td>WA</td>\n",
       "      <td>195574</td>\n",
       "    </tr>\n",
       "    <tr>\n",
       "      <th>8</th>\n",
       "      <td>TN</td>\n",
       "      <td>240116</td>\n",
       "    </tr>\n",
       "    <tr>\n",
       "      <th>9</th>\n",
       "      <td>MO</td>\n",
       "      <td>343565</td>\n",
       "    </tr>\n",
       "    <tr>\n",
       "      <th>10</th>\n",
       "      <td>CO</td>\n",
       "      <td>201062</td>\n",
       "    </tr>\n",
       "    <tr>\n",
       "      <th>11</th>\n",
       "      <td>NM</td>\n",
       "      <td>168609</td>\n",
       "    </tr>\n",
       "    <tr>\n",
       "      <th>12</th>\n",
       "      <td>NE</td>\n",
       "      <td>193352</td>\n",
       "    </tr>\n",
       "    <tr>\n",
       "      <th>13</th>\n",
       "      <td>AK</td>\n",
       "      <td>45292</td>\n",
       "    </tr>\n",
       "    <tr>\n",
       "      <th>14</th>\n",
       "      <td>AR</td>\n",
       "      <td>186211</td>\n",
       "    </tr>\n",
       "    <tr>\n",
       "      <th>15</th>\n",
       "      <td>KS</td>\n",
       "      <td>238600</td>\n",
       "    </tr>\n",
       "    <tr>\n",
       "      <th>16</th>\n",
       "      <td>ID</td>\n",
       "      <td>149842</td>\n",
       "    </tr>\n",
       "    <tr>\n",
       "      <th>17</th>\n",
       "      <td>UT</td>\n",
       "      <td>115406</td>\n",
       "    </tr>\n",
       "    <tr>\n",
       "      <th>18</th>\n",
       "      <td>MD</td>\n",
       "      <td>145247</td>\n",
       "    </tr>\n",
       "    <tr>\n",
       "      <th>19</th>\n",
       "      <td>WV</td>\n",
       "      <td>135218</td>\n",
       "    </tr>\n",
       "    <tr>\n",
       "      <th>20</th>\n",
       "      <td>DC</td>\n",
       "      <td>6507</td>\n",
       "    </tr>\n",
       "    <tr>\n",
       "      <th>21</th>\n",
       "      <td>IN</td>\n",
       "      <td>267071</td>\n",
       "    </tr>\n",
       "    <tr>\n",
       "      <th>22</th>\n",
       "      <td>ND</td>\n",
       "      <td>133769</td>\n",
       "    </tr>\n",
       "    <tr>\n",
       "      <th>23</th>\n",
       "      <td>VA</td>\n",
       "      <td>285762</td>\n",
       "    </tr>\n",
       "    <tr>\n",
       "      <th>24</th>\n",
       "      <td>RI</td>\n",
       "      <td>25181</td>\n",
       "    </tr>\n",
       "    <tr>\n",
       "      <th>25</th>\n",
       "      <td>KY</td>\n",
       "      <td>161672</td>\n",
       "    </tr>\n",
       "    <tr>\n",
       "      <th>26</th>\n",
       "      <td>IA</td>\n",
       "      <td>216007</td>\n",
       "    </tr>\n",
       "    <tr>\n",
       "      <th>27</th>\n",
       "      <td>TX</td>\n",
       "      <td>914231</td>\n",
       "    </tr>\n",
       "    <tr>\n",
       "      <th>28</th>\n",
       "      <td>MA</td>\n",
       "      <td>157508</td>\n",
       "    </tr>\n",
       "    <tr>\n",
       "      <th>29</th>\n",
       "      <td>IL</td>\n",
       "      <td>451554</td>\n",
       "    </tr>\n",
       "    <tr>\n",
       "      <th>30</th>\n",
       "      <td>NC</td>\n",
       "      <td>288987</td>\n",
       "    </tr>\n",
       "    <tr>\n",
       "      <th>31</th>\n",
       "      <td>GA</td>\n",
       "      <td>291086</td>\n",
       "    </tr>\n",
       "    <tr>\n",
       "      <th>32</th>\n",
       "      <td>PA</td>\n",
       "      <td>421545</td>\n",
       "    </tr>\n",
       "    <tr>\n",
       "      <th>33</th>\n",
       "      <td>CT</td>\n",
       "      <td>67578</td>\n",
       "    </tr>\n",
       "    <tr>\n",
       "      <th>34</th>\n",
       "      <td>LA</td>\n",
       "      <td>204447</td>\n",
       "    </tr>\n",
       "    <tr>\n",
       "      <th>35</th>\n",
       "      <td>ME</td>\n",
       "      <td>69518</td>\n",
       "    </tr>\n",
       "    <tr>\n",
       "      <th>36</th>\n",
       "      <td>MS</td>\n",
       "      <td>171778</td>\n",
       "    </tr>\n",
       "    <tr>\n",
       "      <th>37</th>\n",
       "      <td>NJ</td>\n",
       "      <td>169588</td>\n",
       "    </tr>\n",
       "    <tr>\n",
       "      <th>38</th>\n",
       "      <td>MT</td>\n",
       "      <td>132288</td>\n",
       "    </tr>\n",
       "    <tr>\n",
       "      <th>39</th>\n",
       "      <td>AZ</td>\n",
       "      <td>241666</td>\n",
       "    </tr>\n",
       "    <tr>\n",
       "      <th>40</th>\n",
       "      <td>NV</td>\n",
       "      <td>84538</td>\n",
       "    </tr>\n",
       "    <tr>\n",
       "      <th>41</th>\n",
       "      <td>SC</td>\n",
       "      <td>181908</td>\n",
       "    </tr>\n",
       "    <tr>\n",
       "      <th>42</th>\n",
       "      <td>OH</td>\n",
       "      <td>365344</td>\n",
       "    </tr>\n",
       "    <tr>\n",
       "      <th>43</th>\n",
       "      <td>AL</td>\n",
       "      <td>252266</td>\n",
       "    </tr>\n",
       "    <tr>\n",
       "      <th>44</th>\n",
       "      <td>NH</td>\n",
       "      <td>48837</td>\n",
       "    </tr>\n",
       "    <tr>\n",
       "      <th>45</th>\n",
       "      <td>OK</td>\n",
       "      <td>269118</td>\n",
       "    </tr>\n",
       "    <tr>\n",
       "      <th>46</th>\n",
       "      <td>HI</td>\n",
       "      <td>25016</td>\n",
       "    </tr>\n",
       "    <tr>\n",
       "      <th>47</th>\n",
       "      <td>WI</td>\n",
       "      <td>253096</td>\n",
       "    </tr>\n",
       "    <tr>\n",
       "      <th>48</th>\n",
       "      <td>MI</td>\n",
       "      <td>329885</td>\n",
       "    </tr>\n",
       "    <tr>\n",
       "      <th>49</th>\n",
       "      <td>CA</td>\n",
       "      <td>710145</td>\n",
       "    </tr>\n",
       "    <tr>\n",
       "      <th>50</th>\n",
       "      <td>WY</td>\n",
       "      <td>86204</td>\n",
       "    </tr>\n",
       "  </tbody>\n",
       "</table>\n",
       "</div>"
      ],
      "text/plain": [
       "   State_Abbr  Number_of_2010_Census_Blocks\n",
       "0          NY                        350169\n",
       "1          FL                        484481\n",
       "2          MN                        259777\n",
       "3          VT                         32580\n",
       "4          OR                        196621\n",
       "5          DE                         24115\n",
       "6          SD                         88360\n",
       "7          WA                        195574\n",
       "8          TN                        240116\n",
       "9          MO                        343565\n",
       "10         CO                        201062\n",
       "11         NM                        168609\n",
       "12         NE                        193352\n",
       "13         AK                         45292\n",
       "14         AR                        186211\n",
       "15         KS                        238600\n",
       "16         ID                        149842\n",
       "17         UT                        115406\n",
       "18         MD                        145247\n",
       "19         WV                        135218\n",
       "20         DC                          6507\n",
       "21         IN                        267071\n",
       "22         ND                        133769\n",
       "23         VA                        285762\n",
       "24         RI                         25181\n",
       "25         KY                        161672\n",
       "26         IA                        216007\n",
       "27         TX                        914231\n",
       "28         MA                        157508\n",
       "29         IL                        451554\n",
       "30         NC                        288987\n",
       "31         GA                        291086\n",
       "32         PA                        421545\n",
       "33         CT                         67578\n",
       "34         LA                        204447\n",
       "35         ME                         69518\n",
       "36         MS                        171778\n",
       "37         NJ                        169588\n",
       "38         MT                        132288\n",
       "39         AZ                        241666\n",
       "40         NV                         84538\n",
       "41         SC                        181908\n",
       "42         OH                        365344\n",
       "43         AL                        252266\n",
       "44         NH                         48837\n",
       "45         OK                        269118\n",
       "46         HI                         25016\n",
       "47         WI                        253096\n",
       "48         MI                        329885\n",
       "49         CA                        710145\n",
       "50         WY                         86204"
      ]
     },
     "execution_count": 59,
     "metadata": {},
     "output_type": "execute_result"
    }
   ],
   "source": [
    "states_block_level_num"
   ]
  },
  {
   "cell_type": "code",
   "execution_count": 60,
   "id": "e0ffc2e6",
   "metadata": {},
   "outputs": [
    {
     "data": {
      "text/html": [
       "<div>\n",
       "<style scoped>\n",
       "    .dataframe tbody tr th:only-of-type {\n",
       "        vertical-align: middle;\n",
       "    }\n",
       "\n",
       "    .dataframe tbody tr th {\n",
       "        vertical-align: top;\n",
       "    }\n",
       "\n",
       "    .dataframe thead th {\n",
       "        text-align: right;\n",
       "    }\n",
       "</style>\n",
       "<table border=\"1\" class=\"dataframe\">\n",
       "  <thead>\n",
       "    <tr style=\"text-align: right;\">\n",
       "      <th></th>\n",
       "      <th>StateAbbr</th>\n",
       "      <th>num_2018_state</th>\n",
       "      <th>num_2019_state</th>\n",
       "      <th>num_2020_state</th>\n",
       "      <th>num_2021_state</th>\n",
       "    </tr>\n",
       "  </thead>\n",
       "  <tbody>\n",
       "    <tr>\n",
       "      <th>0</th>\n",
       "      <td>FL</td>\n",
       "      <td>361602</td>\n",
       "      <td>359196</td>\n",
       "      <td>363689</td>\n",
       "      <td>365987</td>\n",
       "    </tr>\n",
       "    <tr>\n",
       "      <th>1</th>\n",
       "      <td>ME</td>\n",
       "      <td>43178</td>\n",
       "      <td>43871</td>\n",
       "      <td>44650</td>\n",
       "      <td>54995</td>\n",
       "    </tr>\n",
       "    <tr>\n",
       "      <th>2</th>\n",
       "      <td>MI</td>\n",
       "      <td>218731</td>\n",
       "      <td>238297</td>\n",
       "      <td>239500</td>\n",
       "      <td>254826</td>\n",
       "    </tr>\n",
       "    <tr>\n",
       "      <th>3</th>\n",
       "      <td>WI</td>\n",
       "      <td>175305</td>\n",
       "      <td>177929</td>\n",
       "      <td>183234</td>\n",
       "      <td>199157</td>\n",
       "    </tr>\n",
       "    <tr>\n",
       "      <th>4</th>\n",
       "      <td>OR</td>\n",
       "      <td>100959</td>\n",
       "      <td>104488</td>\n",
       "      <td>116025</td>\n",
       "      <td>123100</td>\n",
       "    </tr>\n",
       "    <tr>\n",
       "      <th>5</th>\n",
       "      <td>NC</td>\n",
       "      <td>233379</td>\n",
       "      <td>236421</td>\n",
       "      <td>232925</td>\n",
       "      <td>243364</td>\n",
       "    </tr>\n",
       "    <tr>\n",
       "      <th>6</th>\n",
       "      <td>MO</td>\n",
       "      <td>210573</td>\n",
       "      <td>235538</td>\n",
       "      <td>254704</td>\n",
       "      <td>274331</td>\n",
       "    </tr>\n",
       "    <tr>\n",
       "      <th>7</th>\n",
       "      <td>TN</td>\n",
       "      <td>158393</td>\n",
       "      <td>159976</td>\n",
       "      <td>165656</td>\n",
       "      <td>182943</td>\n",
       "    </tr>\n",
       "    <tr>\n",
       "      <th>8</th>\n",
       "      <td>IN</td>\n",
       "      <td>199705</td>\n",
       "      <td>217318</td>\n",
       "      <td>229819</td>\n",
       "      <td>242586</td>\n",
       "    </tr>\n",
       "    <tr>\n",
       "      <th>9</th>\n",
       "      <td>OH</td>\n",
       "      <td>288168</td>\n",
       "      <td>308290</td>\n",
       "      <td>319410</td>\n",
       "      <td>333134</td>\n",
       "    </tr>\n",
       "    <tr>\n",
       "      <th>10</th>\n",
       "      <td>NY</td>\n",
       "      <td>291911</td>\n",
       "      <td>304160</td>\n",
       "      <td>294548</td>\n",
       "      <td>301518</td>\n",
       "    </tr>\n",
       "    <tr>\n",
       "      <th>11</th>\n",
       "      <td>KY</td>\n",
       "      <td>101971</td>\n",
       "      <td>113954</td>\n",
       "      <td>116066</td>\n",
       "      <td>122388</td>\n",
       "    </tr>\n",
       "    <tr>\n",
       "      <th>12</th>\n",
       "      <td>CA</td>\n",
       "      <td>513130</td>\n",
       "      <td>551158</td>\n",
       "      <td>566982</td>\n",
       "      <td>584850</td>\n",
       "    </tr>\n",
       "    <tr>\n",
       "      <th>13</th>\n",
       "      <td>TX</td>\n",
       "      <td>586530</td>\n",
       "      <td>632924</td>\n",
       "      <td>695505</td>\n",
       "      <td>731651</td>\n",
       "    </tr>\n",
       "    <tr>\n",
       "      <th>14</th>\n",
       "      <td>SC</td>\n",
       "      <td>121979</td>\n",
       "      <td>122425</td>\n",
       "      <td>125817</td>\n",
       "      <td>134658</td>\n",
       "    </tr>\n",
       "    <tr>\n",
       "      <th>15</th>\n",
       "      <td>CO</td>\n",
       "      <td>123853</td>\n",
       "      <td>126522</td>\n",
       "      <td>159874</td>\n",
       "      <td>163074</td>\n",
       "    </tr>\n",
       "    <tr>\n",
       "      <th>16</th>\n",
       "      <td>IL</td>\n",
       "      <td>301267</td>\n",
       "      <td>351687</td>\n",
       "      <td>380526</td>\n",
       "      <td>401264</td>\n",
       "    </tr>\n",
       "    <tr>\n",
       "      <th>17</th>\n",
       "      <td>NV</td>\n",
       "      <td>37695</td>\n",
       "      <td>35945</td>\n",
       "      <td>43217</td>\n",
       "      <td>49195</td>\n",
       "    </tr>\n",
       "    <tr>\n",
       "      <th>18</th>\n",
       "      <td>LA</td>\n",
       "      <td>103146</td>\n",
       "      <td>107140</td>\n",
       "      <td>112586</td>\n",
       "      <td>125717</td>\n",
       "    </tr>\n",
       "    <tr>\n",
       "      <th>19</th>\n",
       "      <td>MT</td>\n",
       "      <td>67230</td>\n",
       "      <td>72290</td>\n",
       "      <td>73558</td>\n",
       "      <td>79266</td>\n",
       "    </tr>\n",
       "    <tr>\n",
       "      <th>20</th>\n",
       "      <td>WA</td>\n",
       "      <td>139858</td>\n",
       "      <td>141313</td>\n",
       "      <td>141048</td>\n",
       "      <td>143482</td>\n",
       "    </tr>\n",
       "    <tr>\n",
       "      <th>21</th>\n",
       "      <td>MA</td>\n",
       "      <td>114994</td>\n",
       "      <td>112478</td>\n",
       "      <td>111651</td>\n",
       "      <td>115343</td>\n",
       "    </tr>\n",
       "    <tr>\n",
       "      <th>22</th>\n",
       "      <td>WY</td>\n",
       "      <td>34090</td>\n",
       "      <td>36479</td>\n",
       "      <td>41210</td>\n",
       "      <td>50699</td>\n",
       "    </tr>\n",
       "    <tr>\n",
       "      <th>23</th>\n",
       "      <td>MN</td>\n",
       "      <td>185845</td>\n",
       "      <td>195479</td>\n",
       "      <td>218032</td>\n",
       "      <td>230018</td>\n",
       "    </tr>\n",
       "    <tr>\n",
       "      <th>24</th>\n",
       "      <td>ID</td>\n",
       "      <td>49686</td>\n",
       "      <td>84408</td>\n",
       "      <td>97616</td>\n",
       "      <td>98792</td>\n",
       "    </tr>\n",
       "    <tr>\n",
       "      <th>25</th>\n",
       "      <td>AL</td>\n",
       "      <td>147293</td>\n",
       "      <td>148729</td>\n",
       "      <td>151018</td>\n",
       "      <td>160654</td>\n",
       "    </tr>\n",
       "    <tr>\n",
       "      <th>26</th>\n",
       "      <td>PA</td>\n",
       "      <td>289318</td>\n",
       "      <td>292665</td>\n",
       "      <td>313146</td>\n",
       "      <td>331605</td>\n",
       "    </tr>\n",
       "    <tr>\n",
       "      <th>27</th>\n",
       "      <td>NE</td>\n",
       "      <td>96478</td>\n",
       "      <td>108885</td>\n",
       "      <td>167103</td>\n",
       "      <td>171955</td>\n",
       "    </tr>\n",
       "    <tr>\n",
       "      <th>28</th>\n",
       "      <td>GA</td>\n",
       "      <td>174178</td>\n",
       "      <td>175300</td>\n",
       "      <td>176915</td>\n",
       "      <td>191130</td>\n",
       "    </tr>\n",
       "    <tr>\n",
       "      <th>29</th>\n",
       "      <td>KS</td>\n",
       "      <td>155604</td>\n",
       "      <td>179720</td>\n",
       "      <td>200922</td>\n",
       "      <td>224885</td>\n",
       "    </tr>\n",
       "    <tr>\n",
       "      <th>30</th>\n",
       "      <td>VA</td>\n",
       "      <td>141679</td>\n",
       "      <td>169031</td>\n",
       "      <td>176107</td>\n",
       "      <td>196342</td>\n",
       "    </tr>\n",
       "    <tr>\n",
       "      <th>31</th>\n",
       "      <td>AZ</td>\n",
       "      <td>90786</td>\n",
       "      <td>113454</td>\n",
       "      <td>136107</td>\n",
       "      <td>138969</td>\n",
       "    </tr>\n",
       "    <tr>\n",
       "      <th>32</th>\n",
       "      <td>NM</td>\n",
       "      <td>55609</td>\n",
       "      <td>56389</td>\n",
       "      <td>67790</td>\n",
       "      <td>82824</td>\n",
       "    </tr>\n",
       "    <tr>\n",
       "      <th>33</th>\n",
       "      <td>NJ</td>\n",
       "      <td>139762</td>\n",
       "      <td>140100</td>\n",
       "      <td>128396</td>\n",
       "      <td>130258</td>\n",
       "    </tr>\n",
       "    <tr>\n",
       "      <th>34</th>\n",
       "      <td>CT</td>\n",
       "      <td>57426</td>\n",
       "      <td>57451</td>\n",
       "      <td>54233</td>\n",
       "      <td>55979</td>\n",
       "    </tr>\n",
       "    <tr>\n",
       "      <th>35</th>\n",
       "      <td>NH</td>\n",
       "      <td>31702</td>\n",
       "      <td>31939</td>\n",
       "      <td>32139</td>\n",
       "      <td>35057</td>\n",
       "    </tr>\n",
       "    <tr>\n",
       "      <th>36</th>\n",
       "      <td>VT</td>\n",
       "      <td>16902</td>\n",
       "      <td>17257</td>\n",
       "      <td>17622</td>\n",
       "      <td>22788</td>\n",
       "    </tr>\n",
       "    <tr>\n",
       "      <th>37</th>\n",
       "      <td>WV</td>\n",
       "      <td>73277</td>\n",
       "      <td>70717</td>\n",
       "      <td>68601</td>\n",
       "      <td>73058</td>\n",
       "    </tr>\n",
       "    <tr>\n",
       "      <th>38</th>\n",
       "      <td>MS</td>\n",
       "      <td>63514</td>\n",
       "      <td>73319</td>\n",
       "      <td>73839</td>\n",
       "      <td>98642</td>\n",
       "    </tr>\n",
       "    <tr>\n",
       "      <th>39</th>\n",
       "      <td>MD</td>\n",
       "      <td>108346</td>\n",
       "      <td>100377</td>\n",
       "      <td>98278</td>\n",
       "      <td>102799</td>\n",
       "    </tr>\n",
       "    <tr>\n",
       "      <th>40</th>\n",
       "      <td>DC</td>\n",
       "      <td>5055</td>\n",
       "      <td>5187</td>\n",
       "      <td>5094</td>\n",
       "      <td>5225</td>\n",
       "    </tr>\n",
       "    <tr>\n",
       "      <th>41</th>\n",
       "      <td>DE</td>\n",
       "      <td>19010</td>\n",
       "      <td>18755</td>\n",
       "      <td>18477</td>\n",
       "      <td>19124</td>\n",
       "    </tr>\n",
       "    <tr>\n",
       "      <th>42</th>\n",
       "      <td>RI</td>\n",
       "      <td>19274</td>\n",
       "      <td>19658</td>\n",
       "      <td>19696</td>\n",
       "      <td>23984</td>\n",
       "    </tr>\n",
       "    <tr>\n",
       "      <th>43</th>\n",
       "      <td>IA</td>\n",
       "      <td>132455</td>\n",
       "      <td>148039</td>\n",
       "      <td>178810</td>\n",
       "      <td>187328</td>\n",
       "    </tr>\n",
       "    <tr>\n",
       "      <th>44</th>\n",
       "      <td>OK</td>\n",
       "      <td>121330</td>\n",
       "      <td>145173</td>\n",
       "      <td>173112</td>\n",
       "      <td>202285</td>\n",
       "    </tr>\n",
       "    <tr>\n",
       "      <th>45</th>\n",
       "      <td>SD</td>\n",
       "      <td>61525</td>\n",
       "      <td>70483</td>\n",
       "      <td>82148</td>\n",
       "      <td>83759</td>\n",
       "    </tr>\n",
       "    <tr>\n",
       "      <th>46</th>\n",
       "      <td>ND</td>\n",
       "      <td>106214</td>\n",
       "      <td>110715</td>\n",
       "      <td>114655</td>\n",
       "      <td>121003</td>\n",
       "    </tr>\n",
       "    <tr>\n",
       "      <th>47</th>\n",
       "      <td>AR</td>\n",
       "      <td>71977</td>\n",
       "      <td>75236</td>\n",
       "      <td>86681</td>\n",
       "      <td>101696</td>\n",
       "    </tr>\n",
       "    <tr>\n",
       "      <th>48</th>\n",
       "      <td>UT</td>\n",
       "      <td>58184</td>\n",
       "      <td>61139</td>\n",
       "      <td>73894</td>\n",
       "      <td>77924</td>\n",
       "    </tr>\n",
       "  </tbody>\n",
       "</table>\n",
       "</div>"
      ],
      "text/plain": [
       "   StateAbbr  num_2018_state  num_2019_state  num_2020_state  num_2021_state\n",
       "0         FL          361602          359196          363689          365987\n",
       "1         ME           43178           43871           44650           54995\n",
       "2         MI          218731          238297          239500          254826\n",
       "3         WI          175305          177929          183234          199157\n",
       "4         OR          100959          104488          116025          123100\n",
       "5         NC          233379          236421          232925          243364\n",
       "6         MO          210573          235538          254704          274331\n",
       "7         TN          158393          159976          165656          182943\n",
       "8         IN          199705          217318          229819          242586\n",
       "9         OH          288168          308290          319410          333134\n",
       "10        NY          291911          304160          294548          301518\n",
       "11        KY          101971          113954          116066          122388\n",
       "12        CA          513130          551158          566982          584850\n",
       "13        TX          586530          632924          695505          731651\n",
       "14        SC          121979          122425          125817          134658\n",
       "15        CO          123853          126522          159874          163074\n",
       "16        IL          301267          351687          380526          401264\n",
       "17        NV           37695           35945           43217           49195\n",
       "18        LA          103146          107140          112586          125717\n",
       "19        MT           67230           72290           73558           79266\n",
       "20        WA          139858          141313          141048          143482\n",
       "21        MA          114994          112478          111651          115343\n",
       "22        WY           34090           36479           41210           50699\n",
       "23        MN          185845          195479          218032          230018\n",
       "24        ID           49686           84408           97616           98792\n",
       "25        AL          147293          148729          151018          160654\n",
       "26        PA          289318          292665          313146          331605\n",
       "27        NE           96478          108885          167103          171955\n",
       "28        GA          174178          175300          176915          191130\n",
       "29        KS          155604          179720          200922          224885\n",
       "30        VA          141679          169031          176107          196342\n",
       "31        AZ           90786          113454          136107          138969\n",
       "32        NM           55609           56389           67790           82824\n",
       "33        NJ          139762          140100          128396          130258\n",
       "34        CT           57426           57451           54233           55979\n",
       "35        NH           31702           31939           32139           35057\n",
       "36        VT           16902           17257           17622           22788\n",
       "37        WV           73277           70717           68601           73058\n",
       "38        MS           63514           73319           73839           98642\n",
       "39        MD          108346          100377           98278          102799\n",
       "40        DC            5055            5187            5094            5225\n",
       "41        DE           19010           18755           18477           19124\n",
       "42        RI           19274           19658           19696           23984\n",
       "43        IA          132455          148039          178810          187328\n",
       "44        OK          121330          145173          173112          202285\n",
       "45        SD           61525           70483           82148           83759\n",
       "46        ND          106214          110715          114655          121003\n",
       "47        AR           71977           75236           86681          101696\n",
       "48        UT           58184           61139           73894           77924"
      ]
     },
     "execution_count": 60,
     "metadata": {},
     "output_type": "execute_result"
    }
   ],
   "source": [
    "state_deployed_block_nums"
   ]
  },
  {
   "cell_type": "code",
   "execution_count": 61,
   "id": "2d105231",
   "metadata": {},
   "outputs": [
    {
     "data": {
      "text/html": [
       "<div>\n",
       "<style scoped>\n",
       "    .dataframe tbody tr th:only-of-type {\n",
       "        vertical-align: middle;\n",
       "    }\n",
       "\n",
       "    .dataframe tbody tr th {\n",
       "        vertical-align: top;\n",
       "    }\n",
       "\n",
       "    .dataframe thead th {\n",
       "        text-align: right;\n",
       "    }\n",
       "</style>\n",
       "<table border=\"1\" class=\"dataframe\">\n",
       "  <thead>\n",
       "    <tr style=\"text-align: right;\">\n",
       "      <th></th>\n",
       "      <th>State_Abbr</th>\n",
       "      <th>Number_of_2010_Census_Blocks</th>\n",
       "      <th>StateAbbr</th>\n",
       "      <th>num_2018_state</th>\n",
       "      <th>num_2019_state</th>\n",
       "      <th>num_2020_state</th>\n",
       "      <th>num_2021_state</th>\n",
       "    </tr>\n",
       "  </thead>\n",
       "  <tbody>\n",
       "    <tr>\n",
       "      <th>0</th>\n",
       "      <td>NY</td>\n",
       "      <td>350169</td>\n",
       "      <td>NY</td>\n",
       "      <td>291911</td>\n",
       "      <td>304160</td>\n",
       "      <td>294548</td>\n",
       "      <td>301518</td>\n",
       "    </tr>\n",
       "    <tr>\n",
       "      <th>1</th>\n",
       "      <td>FL</td>\n",
       "      <td>484481</td>\n",
       "      <td>FL</td>\n",
       "      <td>361602</td>\n",
       "      <td>359196</td>\n",
       "      <td>363689</td>\n",
       "      <td>365987</td>\n",
       "    </tr>\n",
       "    <tr>\n",
       "      <th>2</th>\n",
       "      <td>MN</td>\n",
       "      <td>259777</td>\n",
       "      <td>MN</td>\n",
       "      <td>185845</td>\n",
       "      <td>195479</td>\n",
       "      <td>218032</td>\n",
       "      <td>230018</td>\n",
       "    </tr>\n",
       "    <tr>\n",
       "      <th>3</th>\n",
       "      <td>VT</td>\n",
       "      <td>32580</td>\n",
       "      <td>VT</td>\n",
       "      <td>16902</td>\n",
       "      <td>17257</td>\n",
       "      <td>17622</td>\n",
       "      <td>22788</td>\n",
       "    </tr>\n",
       "    <tr>\n",
       "      <th>4</th>\n",
       "      <td>OR</td>\n",
       "      <td>196621</td>\n",
       "      <td>OR</td>\n",
       "      <td>100959</td>\n",
       "      <td>104488</td>\n",
       "      <td>116025</td>\n",
       "      <td>123100</td>\n",
       "    </tr>\n",
       "  </tbody>\n",
       "</table>\n",
       "</div>"
      ],
      "text/plain": [
       "  State_Abbr  Number_of_2010_Census_Blocks StateAbbr  num_2018_state  \\\n",
       "0         NY                        350169        NY          291911   \n",
       "1         FL                        484481        FL          361602   \n",
       "2         MN                        259777        MN          185845   \n",
       "3         VT                         32580        VT           16902   \n",
       "4         OR                        196621        OR          100959   \n",
       "\n",
       "   num_2019_state  num_2020_state  num_2021_state  \n",
       "0          304160          294548          301518  \n",
       "1          359196          363689          365987  \n",
       "2          195479          218032          230018  \n",
       "3           17257           17622           22788  \n",
       "4          104488          116025          123100  "
      ]
     },
     "execution_count": 61,
     "metadata": {},
     "output_type": "execute_result"
    }
   ],
   "source": [
    "df = pd.merge(states_block_level_num, state_deployed_block_nums, how='inner', left_on = 'State_Abbr', right_on = 'StateAbbr')\n",
    "df.head()"
   ]
  },
  {
   "cell_type": "code",
   "execution_count": 62,
   "id": "fae6af37",
   "metadata": {},
   "outputs": [],
   "source": [
    "# State level deployment rate\n",
    "\n",
    "df['2018 deployement rate'] = df.num_2018_state/df.Number_of_2010_Census_Blocks\n",
    "df['2019 deployement rate'] = df.num_2019_state/df.Number_of_2010_Census_Blocks\n",
    "df['2020 deployement rate'] = df.num_2020_state/df.Number_of_2010_Census_Blocks\n",
    "df['2021 deployement rate'] = df.num_2021_state/df.Number_of_2010_Census_Blocks"
   ]
  },
  {
   "cell_type": "code",
   "execution_count": 63,
   "id": "d53400f2",
   "metadata": {},
   "outputs": [
    {
     "data": {
      "text/html": [
       "<div>\n",
       "<style scoped>\n",
       "    .dataframe tbody tr th:only-of-type {\n",
       "        vertical-align: middle;\n",
       "    }\n",
       "\n",
       "    .dataframe tbody tr th {\n",
       "        vertical-align: top;\n",
       "    }\n",
       "\n",
       "    .dataframe thead th {\n",
       "        text-align: right;\n",
       "    }\n",
       "</style>\n",
       "<table border=\"1\" class=\"dataframe\">\n",
       "  <thead>\n",
       "    <tr style=\"text-align: right;\">\n",
       "      <th></th>\n",
       "      <th>State_Abbr</th>\n",
       "      <th>Number_of_2010_Census_Blocks</th>\n",
       "      <th>StateAbbr</th>\n",
       "      <th>num_2018_state</th>\n",
       "      <th>num_2019_state</th>\n",
       "      <th>num_2020_state</th>\n",
       "      <th>num_2021_state</th>\n",
       "      <th>2018 deployement rate</th>\n",
       "      <th>2019 deployement rate</th>\n",
       "      <th>2020 deployement rate</th>\n",
       "      <th>2021 deployement rate</th>\n",
       "    </tr>\n",
       "  </thead>\n",
       "  <tbody>\n",
       "    <tr>\n",
       "      <th>0</th>\n",
       "      <td>NY</td>\n",
       "      <td>350169</td>\n",
       "      <td>NY</td>\n",
       "      <td>291911</td>\n",
       "      <td>304160</td>\n",
       "      <td>294548</td>\n",
       "      <td>301518</td>\n",
       "      <td>0.833629</td>\n",
       "      <td>0.868609</td>\n",
       "      <td>0.84116</td>\n",
       "      <td>0.861064</td>\n",
       "    </tr>\n",
       "    <tr>\n",
       "      <th>1</th>\n",
       "      <td>FL</td>\n",
       "      <td>484481</td>\n",
       "      <td>FL</td>\n",
       "      <td>361602</td>\n",
       "      <td>359196</td>\n",
       "      <td>363689</td>\n",
       "      <td>365987</td>\n",
       "      <td>0.74637</td>\n",
       "      <td>0.741404</td>\n",
       "      <td>0.750678</td>\n",
       "      <td>0.755421</td>\n",
       "    </tr>\n",
       "    <tr>\n",
       "      <th>2</th>\n",
       "      <td>MN</td>\n",
       "      <td>259777</td>\n",
       "      <td>MN</td>\n",
       "      <td>185845</td>\n",
       "      <td>195479</td>\n",
       "      <td>218032</td>\n",
       "      <td>230018</td>\n",
       "      <td>0.715402</td>\n",
       "      <td>0.752488</td>\n",
       "      <td>0.839304</td>\n",
       "      <td>0.885444</td>\n",
       "    </tr>\n",
       "    <tr>\n",
       "      <th>3</th>\n",
       "      <td>VT</td>\n",
       "      <td>32580</td>\n",
       "      <td>VT</td>\n",
       "      <td>16902</td>\n",
       "      <td>17257</td>\n",
       "      <td>17622</td>\n",
       "      <td>22788</td>\n",
       "      <td>0.518785</td>\n",
       "      <td>0.529681</td>\n",
       "      <td>0.540884</td>\n",
       "      <td>0.699448</td>\n",
       "    </tr>\n",
       "    <tr>\n",
       "      <th>4</th>\n",
       "      <td>OR</td>\n",
       "      <td>196621</td>\n",
       "      <td>OR</td>\n",
       "      <td>100959</td>\n",
       "      <td>104488</td>\n",
       "      <td>116025</td>\n",
       "      <td>123100</td>\n",
       "      <td>0.51347</td>\n",
       "      <td>0.531418</td>\n",
       "      <td>0.590095</td>\n",
       "      <td>0.626078</td>\n",
       "    </tr>\n",
       "    <tr>\n",
       "      <th>5</th>\n",
       "      <td>DE</td>\n",
       "      <td>24115</td>\n",
       "      <td>DE</td>\n",
       "      <td>19010</td>\n",
       "      <td>18755</td>\n",
       "      <td>18477</td>\n",
       "      <td>19124</td>\n",
       "      <td>0.788306</td>\n",
       "      <td>0.777732</td>\n",
       "      <td>0.766204</td>\n",
       "      <td>0.793033</td>\n",
       "    </tr>\n",
       "    <tr>\n",
       "      <th>6</th>\n",
       "      <td>SD</td>\n",
       "      <td>88360</td>\n",
       "      <td>SD</td>\n",
       "      <td>61525</td>\n",
       "      <td>70483</td>\n",
       "      <td>82148</td>\n",
       "      <td>83759</td>\n",
       "      <td>0.696299</td>\n",
       "      <td>0.79768</td>\n",
       "      <td>0.929697</td>\n",
       "      <td>0.947929</td>\n",
       "    </tr>\n",
       "    <tr>\n",
       "      <th>7</th>\n",
       "      <td>WA</td>\n",
       "      <td>195574</td>\n",
       "      <td>WA</td>\n",
       "      <td>139858</td>\n",
       "      <td>141313</td>\n",
       "      <td>141048</td>\n",
       "      <td>143482</td>\n",
       "      <td>0.715116</td>\n",
       "      <td>0.722555</td>\n",
       "      <td>0.7212</td>\n",
       "      <td>0.733646</td>\n",
       "    </tr>\n",
       "    <tr>\n",
       "      <th>8</th>\n",
       "      <td>TN</td>\n",
       "      <td>240116</td>\n",
       "      <td>TN</td>\n",
       "      <td>158393</td>\n",
       "      <td>159976</td>\n",
       "      <td>165656</td>\n",
       "      <td>182943</td>\n",
       "      <td>0.659652</td>\n",
       "      <td>0.666245</td>\n",
       "      <td>0.6899</td>\n",
       "      <td>0.761894</td>\n",
       "    </tr>\n",
       "    <tr>\n",
       "      <th>9</th>\n",
       "      <td>MO</td>\n",
       "      <td>343565</td>\n",
       "      <td>MO</td>\n",
       "      <td>210573</td>\n",
       "      <td>235538</td>\n",
       "      <td>254704</td>\n",
       "      <td>274331</td>\n",
       "      <td>0.612906</td>\n",
       "      <td>0.68557</td>\n",
       "      <td>0.741356</td>\n",
       "      <td>0.798484</td>\n",
       "    </tr>\n",
       "    <tr>\n",
       "      <th>10</th>\n",
       "      <td>CO</td>\n",
       "      <td>201062</td>\n",
       "      <td>CO</td>\n",
       "      <td>123853</td>\n",
       "      <td>126522</td>\n",
       "      <td>159874</td>\n",
       "      <td>163074</td>\n",
       "      <td>0.615994</td>\n",
       "      <td>0.629269</td>\n",
       "      <td>0.795148</td>\n",
       "      <td>0.811063</td>\n",
       "    </tr>\n",
       "    <tr>\n",
       "      <th>11</th>\n",
       "      <td>NM</td>\n",
       "      <td>168609</td>\n",
       "      <td>NM</td>\n",
       "      <td>55609</td>\n",
       "      <td>56389</td>\n",
       "      <td>67790</td>\n",
       "      <td>82824</td>\n",
       "      <td>0.32981</td>\n",
       "      <td>0.334436</td>\n",
       "      <td>0.402054</td>\n",
       "      <td>0.491219</td>\n",
       "    </tr>\n",
       "    <tr>\n",
       "      <th>12</th>\n",
       "      <td>NE</td>\n",
       "      <td>193352</td>\n",
       "      <td>NE</td>\n",
       "      <td>96478</td>\n",
       "      <td>108885</td>\n",
       "      <td>167103</td>\n",
       "      <td>171955</td>\n",
       "      <td>0.498976</td>\n",
       "      <td>0.563144</td>\n",
       "      <td>0.864242</td>\n",
       "      <td>0.889337</td>\n",
       "    </tr>\n",
       "    <tr>\n",
       "      <th>13</th>\n",
       "      <td>AR</td>\n",
       "      <td>186211</td>\n",
       "      <td>AR</td>\n",
       "      <td>71977</td>\n",
       "      <td>75236</td>\n",
       "      <td>86681</td>\n",
       "      <td>101696</td>\n",
       "      <td>0.386535</td>\n",
       "      <td>0.404036</td>\n",
       "      <td>0.465499</td>\n",
       "      <td>0.546133</td>\n",
       "    </tr>\n",
       "    <tr>\n",
       "      <th>14</th>\n",
       "      <td>KS</td>\n",
       "      <td>238600</td>\n",
       "      <td>KS</td>\n",
       "      <td>155604</td>\n",
       "      <td>179720</td>\n",
       "      <td>200922</td>\n",
       "      <td>224885</td>\n",
       "      <td>0.652154</td>\n",
       "      <td>0.753227</td>\n",
       "      <td>0.842087</td>\n",
       "      <td>0.942519</td>\n",
       "    </tr>\n",
       "    <tr>\n",
       "      <th>15</th>\n",
       "      <td>ID</td>\n",
       "      <td>149842</td>\n",
       "      <td>ID</td>\n",
       "      <td>49686</td>\n",
       "      <td>84408</td>\n",
       "      <td>97616</td>\n",
       "      <td>98792</td>\n",
       "      <td>0.331589</td>\n",
       "      <td>0.563313</td>\n",
       "      <td>0.65146</td>\n",
       "      <td>0.659308</td>\n",
       "    </tr>\n",
       "    <tr>\n",
       "      <th>16</th>\n",
       "      <td>UT</td>\n",
       "      <td>115406</td>\n",
       "      <td>UT</td>\n",
       "      <td>58184</td>\n",
       "      <td>61139</td>\n",
       "      <td>73894</td>\n",
       "      <td>77924</td>\n",
       "      <td>0.504168</td>\n",
       "      <td>0.529773</td>\n",
       "      <td>0.640296</td>\n",
       "      <td>0.675216</td>\n",
       "    </tr>\n",
       "    <tr>\n",
       "      <th>17</th>\n",
       "      <td>MD</td>\n",
       "      <td>145247</td>\n",
       "      <td>MD</td>\n",
       "      <td>108346</td>\n",
       "      <td>100377</td>\n",
       "      <td>98278</td>\n",
       "      <td>102799</td>\n",
       "      <td>0.745943</td>\n",
       "      <td>0.691078</td>\n",
       "      <td>0.676627</td>\n",
       "      <td>0.707753</td>\n",
       "    </tr>\n",
       "    <tr>\n",
       "      <th>18</th>\n",
       "      <td>WV</td>\n",
       "      <td>135218</td>\n",
       "      <td>WV</td>\n",
       "      <td>73277</td>\n",
       "      <td>70717</td>\n",
       "      <td>68601</td>\n",
       "      <td>73058</td>\n",
       "      <td>0.541917</td>\n",
       "      <td>0.522985</td>\n",
       "      <td>0.507336</td>\n",
       "      <td>0.540298</td>\n",
       "    </tr>\n",
       "    <tr>\n",
       "      <th>19</th>\n",
       "      <td>DC</td>\n",
       "      <td>6507</td>\n",
       "      <td>DC</td>\n",
       "      <td>5055</td>\n",
       "      <td>5187</td>\n",
       "      <td>5094</td>\n",
       "      <td>5225</td>\n",
       "      <td>0.776856</td>\n",
       "      <td>0.797142</td>\n",
       "      <td>0.782849</td>\n",
       "      <td>0.802981</td>\n",
       "    </tr>\n",
       "    <tr>\n",
       "      <th>20</th>\n",
       "      <td>IN</td>\n",
       "      <td>267071</td>\n",
       "      <td>IN</td>\n",
       "      <td>199705</td>\n",
       "      <td>217318</td>\n",
       "      <td>229819</td>\n",
       "      <td>242586</td>\n",
       "      <td>0.74776</td>\n",
       "      <td>0.813709</td>\n",
       "      <td>0.860516</td>\n",
       "      <td>0.90832</td>\n",
       "    </tr>\n",
       "    <tr>\n",
       "      <th>21</th>\n",
       "      <td>ND</td>\n",
       "      <td>133769</td>\n",
       "      <td>ND</td>\n",
       "      <td>106214</td>\n",
       "      <td>110715</td>\n",
       "      <td>114655</td>\n",
       "      <td>121003</td>\n",
       "      <td>0.794011</td>\n",
       "      <td>0.827658</td>\n",
       "      <td>0.857112</td>\n",
       "      <td>0.904567</td>\n",
       "    </tr>\n",
       "    <tr>\n",
       "      <th>22</th>\n",
       "      <td>VA</td>\n",
       "      <td>285762</td>\n",
       "      <td>VA</td>\n",
       "      <td>141679</td>\n",
       "      <td>169031</td>\n",
       "      <td>176107</td>\n",
       "      <td>196342</td>\n",
       "      <td>0.495794</td>\n",
       "      <td>0.59151</td>\n",
       "      <td>0.616272</td>\n",
       "      <td>0.687082</td>\n",
       "    </tr>\n",
       "    <tr>\n",
       "      <th>23</th>\n",
       "      <td>RI</td>\n",
       "      <td>25181</td>\n",
       "      <td>RI</td>\n",
       "      <td>19274</td>\n",
       "      <td>19658</td>\n",
       "      <td>19696</td>\n",
       "      <td>23984</td>\n",
       "      <td>0.765418</td>\n",
       "      <td>0.780668</td>\n",
       "      <td>0.782177</td>\n",
       "      <td>0.952464</td>\n",
       "    </tr>\n",
       "    <tr>\n",
       "      <th>24</th>\n",
       "      <td>KY</td>\n",
       "      <td>161672</td>\n",
       "      <td>KY</td>\n",
       "      <td>101971</td>\n",
       "      <td>113954</td>\n",
       "      <td>116066</td>\n",
       "      <td>122388</td>\n",
       "      <td>0.630728</td>\n",
       "      <td>0.704847</td>\n",
       "      <td>0.71791</td>\n",
       "      <td>0.757014</td>\n",
       "    </tr>\n",
       "    <tr>\n",
       "      <th>25</th>\n",
       "      <td>IA</td>\n",
       "      <td>216007</td>\n",
       "      <td>IA</td>\n",
       "      <td>132455</td>\n",
       "      <td>148039</td>\n",
       "      <td>178810</td>\n",
       "      <td>187328</td>\n",
       "      <td>0.613198</td>\n",
       "      <td>0.685344</td>\n",
       "      <td>0.827797</td>\n",
       "      <td>0.867231</td>\n",
       "    </tr>\n",
       "    <tr>\n",
       "      <th>26</th>\n",
       "      <td>TX</td>\n",
       "      <td>914231</td>\n",
       "      <td>TX</td>\n",
       "      <td>586530</td>\n",
       "      <td>632924</td>\n",
       "      <td>695505</td>\n",
       "      <td>731651</td>\n",
       "      <td>0.641556</td>\n",
       "      <td>0.692302</td>\n",
       "      <td>0.760754</td>\n",
       "      <td>0.800291</td>\n",
       "    </tr>\n",
       "    <tr>\n",
       "      <th>27</th>\n",
       "      <td>MA</td>\n",
       "      <td>157508</td>\n",
       "      <td>MA</td>\n",
       "      <td>114994</td>\n",
       "      <td>112478</td>\n",
       "      <td>111651</td>\n",
       "      <td>115343</td>\n",
       "      <td>0.730084</td>\n",
       "      <td>0.71411</td>\n",
       "      <td>0.708859</td>\n",
       "      <td>0.732299</td>\n",
       "    </tr>\n",
       "    <tr>\n",
       "      <th>28</th>\n",
       "      <td>IL</td>\n",
       "      <td>451554</td>\n",
       "      <td>IL</td>\n",
       "      <td>301267</td>\n",
       "      <td>351687</td>\n",
       "      <td>380526</td>\n",
       "      <td>401264</td>\n",
       "      <td>0.667178</td>\n",
       "      <td>0.778837</td>\n",
       "      <td>0.842703</td>\n",
       "      <td>0.888629</td>\n",
       "    </tr>\n",
       "    <tr>\n",
       "      <th>29</th>\n",
       "      <td>NC</td>\n",
       "      <td>288987</td>\n",
       "      <td>NC</td>\n",
       "      <td>233379</td>\n",
       "      <td>236421</td>\n",
       "      <td>232925</td>\n",
       "      <td>243364</td>\n",
       "      <td>0.807576</td>\n",
       "      <td>0.818103</td>\n",
       "      <td>0.806005</td>\n",
       "      <td>0.842128</td>\n",
       "    </tr>\n",
       "    <tr>\n",
       "      <th>30</th>\n",
       "      <td>GA</td>\n",
       "      <td>291086</td>\n",
       "      <td>GA</td>\n",
       "      <td>174178</td>\n",
       "      <td>175300</td>\n",
       "      <td>176915</td>\n",
       "      <td>191130</td>\n",
       "      <td>0.598373</td>\n",
       "      <td>0.602228</td>\n",
       "      <td>0.607776</td>\n",
       "      <td>0.65661</td>\n",
       "    </tr>\n",
       "    <tr>\n",
       "      <th>31</th>\n",
       "      <td>PA</td>\n",
       "      <td>421545</td>\n",
       "      <td>PA</td>\n",
       "      <td>289318</td>\n",
       "      <td>292665</td>\n",
       "      <td>313146</td>\n",
       "      <td>331605</td>\n",
       "      <td>0.686328</td>\n",
       "      <td>0.694268</td>\n",
       "      <td>0.742853</td>\n",
       "      <td>0.786642</td>\n",
       "    </tr>\n",
       "    <tr>\n",
       "      <th>32</th>\n",
       "      <td>CT</td>\n",
       "      <td>67578</td>\n",
       "      <td>CT</td>\n",
       "      <td>57426</td>\n",
       "      <td>57451</td>\n",
       "      <td>54233</td>\n",
       "      <td>55979</td>\n",
       "      <td>0.849774</td>\n",
       "      <td>0.850144</td>\n",
       "      <td>0.802524</td>\n",
       "      <td>0.828361</td>\n",
       "    </tr>\n",
       "    <tr>\n",
       "      <th>33</th>\n",
       "      <td>LA</td>\n",
       "      <td>204447</td>\n",
       "      <td>LA</td>\n",
       "      <td>103146</td>\n",
       "      <td>107140</td>\n",
       "      <td>112586</td>\n",
       "      <td>125717</td>\n",
       "      <td>0.504512</td>\n",
       "      <td>0.524048</td>\n",
       "      <td>0.550686</td>\n",
       "      <td>0.614912</td>\n",
       "    </tr>\n",
       "    <tr>\n",
       "      <th>34</th>\n",
       "      <td>ME</td>\n",
       "      <td>69518</td>\n",
       "      <td>ME</td>\n",
       "      <td>43178</td>\n",
       "      <td>43871</td>\n",
       "      <td>44650</td>\n",
       "      <td>54995</td>\n",
       "      <td>0.621105</td>\n",
       "      <td>0.631074</td>\n",
       "      <td>0.64228</td>\n",
       "      <td>0.79109</td>\n",
       "    </tr>\n",
       "    <tr>\n",
       "      <th>35</th>\n",
       "      <td>MS</td>\n",
       "      <td>171778</td>\n",
       "      <td>MS</td>\n",
       "      <td>63514</td>\n",
       "      <td>73319</td>\n",
       "      <td>73839</td>\n",
       "      <td>98642</td>\n",
       "      <td>0.369745</td>\n",
       "      <td>0.426824</td>\n",
       "      <td>0.429851</td>\n",
       "      <td>0.574241</td>\n",
       "    </tr>\n",
       "    <tr>\n",
       "      <th>36</th>\n",
       "      <td>NJ</td>\n",
       "      <td>169588</td>\n",
       "      <td>NJ</td>\n",
       "      <td>139762</td>\n",
       "      <td>140100</td>\n",
       "      <td>128396</td>\n",
       "      <td>130258</td>\n",
       "      <td>0.824127</td>\n",
       "      <td>0.82612</td>\n",
       "      <td>0.757105</td>\n",
       "      <td>0.768085</td>\n",
       "    </tr>\n",
       "    <tr>\n",
       "      <th>37</th>\n",
       "      <td>MT</td>\n",
       "      <td>132288</td>\n",
       "      <td>MT</td>\n",
       "      <td>67230</td>\n",
       "      <td>72290</td>\n",
       "      <td>73558</td>\n",
       "      <td>79266</td>\n",
       "      <td>0.508209</td>\n",
       "      <td>0.546459</td>\n",
       "      <td>0.556044</td>\n",
       "      <td>0.599193</td>\n",
       "    </tr>\n",
       "    <tr>\n",
       "      <th>38</th>\n",
       "      <td>AZ</td>\n",
       "      <td>241666</td>\n",
       "      <td>AZ</td>\n",
       "      <td>90786</td>\n",
       "      <td>113454</td>\n",
       "      <td>136107</td>\n",
       "      <td>138969</td>\n",
       "      <td>0.375667</td>\n",
       "      <td>0.469466</td>\n",
       "      <td>0.563203</td>\n",
       "      <td>0.575046</td>\n",
       "    </tr>\n",
       "    <tr>\n",
       "      <th>39</th>\n",
       "      <td>NV</td>\n",
       "      <td>84538</td>\n",
       "      <td>NV</td>\n",
       "      <td>37695</td>\n",
       "      <td>35945</td>\n",
       "      <td>43217</td>\n",
       "      <td>49195</td>\n",
       "      <td>0.445894</td>\n",
       "      <td>0.425193</td>\n",
       "      <td>0.511214</td>\n",
       "      <td>0.581928</td>\n",
       "    </tr>\n",
       "    <tr>\n",
       "      <th>40</th>\n",
       "      <td>SC</td>\n",
       "      <td>181908</td>\n",
       "      <td>SC</td>\n",
       "      <td>121979</td>\n",
       "      <td>122425</td>\n",
       "      <td>125817</td>\n",
       "      <td>134658</td>\n",
       "      <td>0.670553</td>\n",
       "      <td>0.673005</td>\n",
       "      <td>0.691652</td>\n",
       "      <td>0.740253</td>\n",
       "    </tr>\n",
       "    <tr>\n",
       "      <th>41</th>\n",
       "      <td>OH</td>\n",
       "      <td>365344</td>\n",
       "      <td>OH</td>\n",
       "      <td>288168</td>\n",
       "      <td>308290</td>\n",
       "      <td>319410</td>\n",
       "      <td>333134</td>\n",
       "      <td>0.788758</td>\n",
       "      <td>0.843835</td>\n",
       "      <td>0.874272</td>\n",
       "      <td>0.911837</td>\n",
       "    </tr>\n",
       "    <tr>\n",
       "      <th>42</th>\n",
       "      <td>AL</td>\n",
       "      <td>252266</td>\n",
       "      <td>AL</td>\n",
       "      <td>147293</td>\n",
       "      <td>148729</td>\n",
       "      <td>151018</td>\n",
       "      <td>160654</td>\n",
       "      <td>0.58388</td>\n",
       "      <td>0.589572</td>\n",
       "      <td>0.598646</td>\n",
       "      <td>0.636844</td>\n",
       "    </tr>\n",
       "    <tr>\n",
       "      <th>43</th>\n",
       "      <td>NH</td>\n",
       "      <td>48837</td>\n",
       "      <td>NH</td>\n",
       "      <td>31702</td>\n",
       "      <td>31939</td>\n",
       "      <td>32139</td>\n",
       "      <td>35057</td>\n",
       "      <td>0.649139</td>\n",
       "      <td>0.653992</td>\n",
       "      <td>0.658087</td>\n",
       "      <td>0.717837</td>\n",
       "    </tr>\n",
       "    <tr>\n",
       "      <th>44</th>\n",
       "      <td>OK</td>\n",
       "      <td>269118</td>\n",
       "      <td>OK</td>\n",
       "      <td>121330</td>\n",
       "      <td>145173</td>\n",
       "      <td>173112</td>\n",
       "      <td>202285</td>\n",
       "      <td>0.450843</td>\n",
       "      <td>0.53944</td>\n",
       "      <td>0.643257</td>\n",
       "      <td>0.751659</td>\n",
       "    </tr>\n",
       "    <tr>\n",
       "      <th>45</th>\n",
       "      <td>WI</td>\n",
       "      <td>253096</td>\n",
       "      <td>WI</td>\n",
       "      <td>175305</td>\n",
       "      <td>177929</td>\n",
       "      <td>183234</td>\n",
       "      <td>199157</td>\n",
       "      <td>0.692642</td>\n",
       "      <td>0.70301</td>\n",
       "      <td>0.72397</td>\n",
       "      <td>0.786883</td>\n",
       "    </tr>\n",
       "    <tr>\n",
       "      <th>46</th>\n",
       "      <td>MI</td>\n",
       "      <td>329885</td>\n",
       "      <td>MI</td>\n",
       "      <td>218731</td>\n",
       "      <td>238297</td>\n",
       "      <td>239500</td>\n",
       "      <td>254826</td>\n",
       "      <td>0.663052</td>\n",
       "      <td>0.722364</td>\n",
       "      <td>0.726011</td>\n",
       "      <td>0.772469</td>\n",
       "    </tr>\n",
       "    <tr>\n",
       "      <th>47</th>\n",
       "      <td>CA</td>\n",
       "      <td>710145</td>\n",
       "      <td>CA</td>\n",
       "      <td>513130</td>\n",
       "      <td>551158</td>\n",
       "      <td>566982</td>\n",
       "      <td>584850</td>\n",
       "      <td>0.722571</td>\n",
       "      <td>0.77612</td>\n",
       "      <td>0.798403</td>\n",
       "      <td>0.823564</td>\n",
       "    </tr>\n",
       "    <tr>\n",
       "      <th>48</th>\n",
       "      <td>WY</td>\n",
       "      <td>86204</td>\n",
       "      <td>WY</td>\n",
       "      <td>34090</td>\n",
       "      <td>36479</td>\n",
       "      <td>41210</td>\n",
       "      <td>50699</td>\n",
       "      <td>0.395457</td>\n",
       "      <td>0.423171</td>\n",
       "      <td>0.478052</td>\n",
       "      <td>0.588128</td>\n",
       "    </tr>\n",
       "  </tbody>\n",
       "</table>\n",
       "</div>"
      ],
      "text/plain": [
       "   State_Abbr  Number_of_2010_Census_Blocks StateAbbr  num_2018_state  \\\n",
       "0          NY                        350169        NY          291911   \n",
       "1          FL                        484481        FL          361602   \n",
       "2          MN                        259777        MN          185845   \n",
       "3          VT                         32580        VT           16902   \n",
       "4          OR                        196621        OR          100959   \n",
       "5          DE                         24115        DE           19010   \n",
       "6          SD                         88360        SD           61525   \n",
       "7          WA                        195574        WA          139858   \n",
       "8          TN                        240116        TN          158393   \n",
       "9          MO                        343565        MO          210573   \n",
       "10         CO                        201062        CO          123853   \n",
       "11         NM                        168609        NM           55609   \n",
       "12         NE                        193352        NE           96478   \n",
       "13         AR                        186211        AR           71977   \n",
       "14         KS                        238600        KS          155604   \n",
       "15         ID                        149842        ID           49686   \n",
       "16         UT                        115406        UT           58184   \n",
       "17         MD                        145247        MD          108346   \n",
       "18         WV                        135218        WV           73277   \n",
       "19         DC                          6507        DC            5055   \n",
       "20         IN                        267071        IN          199705   \n",
       "21         ND                        133769        ND          106214   \n",
       "22         VA                        285762        VA          141679   \n",
       "23         RI                         25181        RI           19274   \n",
       "24         KY                        161672        KY          101971   \n",
       "25         IA                        216007        IA          132455   \n",
       "26         TX                        914231        TX          586530   \n",
       "27         MA                        157508        MA          114994   \n",
       "28         IL                        451554        IL          301267   \n",
       "29         NC                        288987        NC          233379   \n",
       "30         GA                        291086        GA          174178   \n",
       "31         PA                        421545        PA          289318   \n",
       "32         CT                         67578        CT           57426   \n",
       "33         LA                        204447        LA          103146   \n",
       "34         ME                         69518        ME           43178   \n",
       "35         MS                        171778        MS           63514   \n",
       "36         NJ                        169588        NJ          139762   \n",
       "37         MT                        132288        MT           67230   \n",
       "38         AZ                        241666        AZ           90786   \n",
       "39         NV                         84538        NV           37695   \n",
       "40         SC                        181908        SC          121979   \n",
       "41         OH                        365344        OH          288168   \n",
       "42         AL                        252266        AL          147293   \n",
       "43         NH                         48837        NH           31702   \n",
       "44         OK                        269118        OK          121330   \n",
       "45         WI                        253096        WI          175305   \n",
       "46         MI                        329885        MI          218731   \n",
       "47         CA                        710145        CA          513130   \n",
       "48         WY                         86204        WY           34090   \n",
       "\n",
       "    num_2019_state  num_2020_state  num_2021_state  2018 deployement rate  \\\n",
       "0           304160          294548          301518               0.833629   \n",
       "1           359196          363689          365987                0.74637   \n",
       "2           195479          218032          230018               0.715402   \n",
       "3            17257           17622           22788               0.518785   \n",
       "4           104488          116025          123100                0.51347   \n",
       "5            18755           18477           19124               0.788306   \n",
       "6            70483           82148           83759               0.696299   \n",
       "7           141313          141048          143482               0.715116   \n",
       "8           159976          165656          182943               0.659652   \n",
       "9           235538          254704          274331               0.612906   \n",
       "10          126522          159874          163074               0.615994   \n",
       "11           56389           67790           82824                0.32981   \n",
       "12          108885          167103          171955               0.498976   \n",
       "13           75236           86681          101696               0.386535   \n",
       "14          179720          200922          224885               0.652154   \n",
       "15           84408           97616           98792               0.331589   \n",
       "16           61139           73894           77924               0.504168   \n",
       "17          100377           98278          102799               0.745943   \n",
       "18           70717           68601           73058               0.541917   \n",
       "19            5187            5094            5225               0.776856   \n",
       "20          217318          229819          242586                0.74776   \n",
       "21          110715          114655          121003               0.794011   \n",
       "22          169031          176107          196342               0.495794   \n",
       "23           19658           19696           23984               0.765418   \n",
       "24          113954          116066          122388               0.630728   \n",
       "25          148039          178810          187328               0.613198   \n",
       "26          632924          695505          731651               0.641556   \n",
       "27          112478          111651          115343               0.730084   \n",
       "28          351687          380526          401264               0.667178   \n",
       "29          236421          232925          243364               0.807576   \n",
       "30          175300          176915          191130               0.598373   \n",
       "31          292665          313146          331605               0.686328   \n",
       "32           57451           54233           55979               0.849774   \n",
       "33          107140          112586          125717               0.504512   \n",
       "34           43871           44650           54995               0.621105   \n",
       "35           73319           73839           98642               0.369745   \n",
       "36          140100          128396          130258               0.824127   \n",
       "37           72290           73558           79266               0.508209   \n",
       "38          113454          136107          138969               0.375667   \n",
       "39           35945           43217           49195               0.445894   \n",
       "40          122425          125817          134658               0.670553   \n",
       "41          308290          319410          333134               0.788758   \n",
       "42          148729          151018          160654                0.58388   \n",
       "43           31939           32139           35057               0.649139   \n",
       "44          145173          173112          202285               0.450843   \n",
       "45          177929          183234          199157               0.692642   \n",
       "46          238297          239500          254826               0.663052   \n",
       "47          551158          566982          584850               0.722571   \n",
       "48           36479           41210           50699               0.395457   \n",
       "\n",
       "    2019 deployement rate  2020 deployement rate  2021 deployement rate  \n",
       "0                0.868609                0.84116               0.861064  \n",
       "1                0.741404               0.750678               0.755421  \n",
       "2                0.752488               0.839304               0.885444  \n",
       "3                0.529681               0.540884               0.699448  \n",
       "4                0.531418               0.590095               0.626078  \n",
       "5                0.777732               0.766204               0.793033  \n",
       "6                 0.79768               0.929697               0.947929  \n",
       "7                0.722555                 0.7212               0.733646  \n",
       "8                0.666245                 0.6899               0.761894  \n",
       "9                 0.68557               0.741356               0.798484  \n",
       "10               0.629269               0.795148               0.811063  \n",
       "11               0.334436               0.402054               0.491219  \n",
       "12               0.563144               0.864242               0.889337  \n",
       "13               0.404036               0.465499               0.546133  \n",
       "14               0.753227               0.842087               0.942519  \n",
       "15               0.563313                0.65146               0.659308  \n",
       "16               0.529773               0.640296               0.675216  \n",
       "17               0.691078               0.676627               0.707753  \n",
       "18               0.522985               0.507336               0.540298  \n",
       "19               0.797142               0.782849               0.802981  \n",
       "20               0.813709               0.860516                0.90832  \n",
       "21               0.827658               0.857112               0.904567  \n",
       "22                0.59151               0.616272               0.687082  \n",
       "23               0.780668               0.782177               0.952464  \n",
       "24               0.704847                0.71791               0.757014  \n",
       "25               0.685344               0.827797               0.867231  \n",
       "26               0.692302               0.760754               0.800291  \n",
       "27                0.71411               0.708859               0.732299  \n",
       "28               0.778837               0.842703               0.888629  \n",
       "29               0.818103               0.806005               0.842128  \n",
       "30               0.602228               0.607776                0.65661  \n",
       "31               0.694268               0.742853               0.786642  \n",
       "32               0.850144               0.802524               0.828361  \n",
       "33               0.524048               0.550686               0.614912  \n",
       "34               0.631074                0.64228                0.79109  \n",
       "35               0.426824               0.429851               0.574241  \n",
       "36                0.82612               0.757105               0.768085  \n",
       "37               0.546459               0.556044               0.599193  \n",
       "38               0.469466               0.563203               0.575046  \n",
       "39               0.425193               0.511214               0.581928  \n",
       "40               0.673005               0.691652               0.740253  \n",
       "41               0.843835               0.874272               0.911837  \n",
       "42               0.589572               0.598646               0.636844  \n",
       "43               0.653992               0.658087               0.717837  \n",
       "44                0.53944               0.643257               0.751659  \n",
       "45                0.70301                0.72397               0.786883  \n",
       "46               0.722364               0.726011               0.772469  \n",
       "47                0.77612               0.798403               0.823564  \n",
       "48               0.423171               0.478052               0.588128  "
      ]
     },
     "execution_count": 63,
     "metadata": {},
     "output_type": "execute_result"
    }
   ],
   "source": [
    "df"
   ]
  },
  {
   "cell_type": "markdown",
   "id": "f400cb1c",
   "metadata": {},
   "source": [
    "So state with the least deployment rate is XX and with the most deployment rate is XX. Deployment rate is calculated by the number of census blocks which have broadband deployed in the state devided by total number of census blocks in that state. \n",
    "\n",
    "Let's see their deployment rates change over recent years. "
   ]
  },
  {
   "cell_type": "code",
   "execution_count": 66,
   "id": "d54cb959",
   "metadata": {},
   "outputs": [
    {
     "name": "stdout",
     "output_type": "stream",
     "text": [
      "49\n",
      "49\n"
     ]
    },
    {
     "data": {
      "text/html": [
       "<div>\n",
       "<style scoped>\n",
       "    .dataframe tbody tr th:only-of-type {\n",
       "        vertical-align: middle;\n",
       "    }\n",
       "\n",
       "    .dataframe tbody tr th {\n",
       "        vertical-align: top;\n",
       "    }\n",
       "\n",
       "    .dataframe thead th {\n",
       "        text-align: right;\n",
       "    }\n",
       "</style>\n",
       "<table border=\"1\" class=\"dataframe\">\n",
       "  <thead>\n",
       "    <tr style=\"text-align: right;\">\n",
       "      <th></th>\n",
       "      <th>State_Abbr</th>\n",
       "      <th>Number_of_2010_Census_Blocks</th>\n",
       "      <th>StateAbbr</th>\n",
       "      <th>num_2018_state</th>\n",
       "      <th>num_2019_state</th>\n",
       "      <th>num_2020_state</th>\n",
       "      <th>num_2021_state</th>\n",
       "      <th>2018 deployement rate</th>\n",
       "      <th>2019 deployement rate</th>\n",
       "      <th>2020 deployement rate</th>\n",
       "      <th>2021 deployement rate</th>\n",
       "    </tr>\n",
       "  </thead>\n",
       "  <tbody>\n",
       "    <tr>\n",
       "      <th>0</th>\n",
       "      <td>NY</td>\n",
       "      <td>350169</td>\n",
       "      <td>NY</td>\n",
       "      <td>291911</td>\n",
       "      <td>304160</td>\n",
       "      <td>294548</td>\n",
       "      <td>301518</td>\n",
       "      <td>0.833629</td>\n",
       "      <td>0.868609</td>\n",
       "      <td>0.84116</td>\n",
       "      <td>0.861064</td>\n",
       "    </tr>\n",
       "    <tr>\n",
       "      <th>1</th>\n",
       "      <td>FL</td>\n",
       "      <td>484481</td>\n",
       "      <td>FL</td>\n",
       "      <td>361602</td>\n",
       "      <td>359196</td>\n",
       "      <td>363689</td>\n",
       "      <td>365987</td>\n",
       "      <td>0.74637</td>\n",
       "      <td>0.741404</td>\n",
       "      <td>0.750678</td>\n",
       "      <td>0.755421</td>\n",
       "    </tr>\n",
       "    <tr>\n",
       "      <th>2</th>\n",
       "      <td>MN</td>\n",
       "      <td>259777</td>\n",
       "      <td>MN</td>\n",
       "      <td>185845</td>\n",
       "      <td>195479</td>\n",
       "      <td>218032</td>\n",
       "      <td>230018</td>\n",
       "      <td>0.715402</td>\n",
       "      <td>0.752488</td>\n",
       "      <td>0.839304</td>\n",
       "      <td>0.885444</td>\n",
       "    </tr>\n",
       "    <tr>\n",
       "      <th>3</th>\n",
       "      <td>VT</td>\n",
       "      <td>32580</td>\n",
       "      <td>VT</td>\n",
       "      <td>16902</td>\n",
       "      <td>17257</td>\n",
       "      <td>17622</td>\n",
       "      <td>22788</td>\n",
       "      <td>0.518785</td>\n",
       "      <td>0.529681</td>\n",
       "      <td>0.540884</td>\n",
       "      <td>0.699448</td>\n",
       "    </tr>\n",
       "    <tr>\n",
       "      <th>4</th>\n",
       "      <td>OR</td>\n",
       "      <td>196621</td>\n",
       "      <td>OR</td>\n",
       "      <td>100959</td>\n",
       "      <td>104488</td>\n",
       "      <td>116025</td>\n",
       "      <td>123100</td>\n",
       "      <td>0.51347</td>\n",
       "      <td>0.531418</td>\n",
       "      <td>0.590095</td>\n",
       "      <td>0.626078</td>\n",
       "    </tr>\n",
       "  </tbody>\n",
       "</table>\n",
       "</div>"
      ],
      "text/plain": [
       "  State_Abbr  Number_of_2010_Census_Blocks StateAbbr  num_2018_state  \\\n",
       "0         NY                        350169        NY          291911   \n",
       "1         FL                        484481        FL          361602   \n",
       "2         MN                        259777        MN          185845   \n",
       "3         VT                         32580        VT           16902   \n",
       "4         OR                        196621        OR          100959   \n",
       "\n",
       "   num_2019_state  num_2020_state  num_2021_state  2018 deployement rate  \\\n",
       "0          304160          294548          301518               0.833629   \n",
       "1          359196          363689          365987                0.74637   \n",
       "2          195479          218032          230018               0.715402   \n",
       "3           17257           17622           22788               0.518785   \n",
       "4          104488          116025          123100                0.51347   \n",
       "\n",
       "   2019 deployement rate  2020 deployement rate  2021 deployement rate  \n",
       "0               0.868609                0.84116               0.861064  \n",
       "1               0.741404               0.750678               0.755421  \n",
       "2               0.752488               0.839304               0.885444  \n",
       "3               0.529681               0.540884               0.699448  \n",
       "4               0.531418               0.590095               0.626078  "
      ]
     },
     "execution_count": 66,
     "metadata": {},
     "output_type": "execute_result"
    }
   ],
   "source": [
    "# TODO: 画折线图！\n",
    "print(len(df))\n",
    "print(df.StateAbbr.nunique())\n",
    "df.head()"
   ]
  },
  {
   "cell_type": "code",
   "execution_count": 94,
   "id": "8b4ae1f7",
   "metadata": {},
   "outputs": [],
   "source": [
    "df2=df[['StateAbbr',\"2018 deployement rate\",\"2019 deployement rate\",\"2020 deployement rate\",\"2021 deployement rate\"]]\n",
    "df2=df2.T"
   ]
  },
  {
   "cell_type": "code",
   "execution_count": 95,
   "id": "2516a7be",
   "metadata": {},
   "outputs": [],
   "source": [
    "new_header = df2.iloc[0] \n",
    "df2 = df2[1:] \n",
    "df2.columns = new_header"
   ]
  },
  {
   "cell_type": "code",
   "execution_count": 96,
   "id": "2590c32e",
   "metadata": {},
   "outputs": [
    {
     "data": {
      "text/html": [
       "<div>\n",
       "<style scoped>\n",
       "    .dataframe tbody tr th:only-of-type {\n",
       "        vertical-align: middle;\n",
       "    }\n",
       "\n",
       "    .dataframe tbody tr th {\n",
       "        vertical-align: top;\n",
       "    }\n",
       "\n",
       "    .dataframe thead th {\n",
       "        text-align: right;\n",
       "    }\n",
       "</style>\n",
       "<table border=\"1\" class=\"dataframe\">\n",
       "  <thead>\n",
       "    <tr style=\"text-align: right;\">\n",
       "      <th>StateAbbr</th>\n",
       "      <th>NY</th>\n",
       "      <th>FL</th>\n",
       "      <th>MN</th>\n",
       "      <th>VT</th>\n",
       "      <th>OR</th>\n",
       "      <th>DE</th>\n",
       "      <th>SD</th>\n",
       "      <th>WA</th>\n",
       "      <th>TN</th>\n",
       "      <th>MO</th>\n",
       "      <th>...</th>\n",
       "      <th>NV</th>\n",
       "      <th>SC</th>\n",
       "      <th>OH</th>\n",
       "      <th>AL</th>\n",
       "      <th>NH</th>\n",
       "      <th>OK</th>\n",
       "      <th>WI</th>\n",
       "      <th>MI</th>\n",
       "      <th>CA</th>\n",
       "      <th>WY</th>\n",
       "    </tr>\n",
       "  </thead>\n",
       "  <tbody>\n",
       "    <tr>\n",
       "      <th>2018 deployement rate</th>\n",
       "      <td>0.833629</td>\n",
       "      <td>0.74637</td>\n",
       "      <td>0.715402</td>\n",
       "      <td>0.518785</td>\n",
       "      <td>0.51347</td>\n",
       "      <td>0.788306</td>\n",
       "      <td>0.696299</td>\n",
       "      <td>0.715116</td>\n",
       "      <td>0.659652</td>\n",
       "      <td>0.612906</td>\n",
       "      <td>...</td>\n",
       "      <td>0.445894</td>\n",
       "      <td>0.670553</td>\n",
       "      <td>0.788758</td>\n",
       "      <td>0.58388</td>\n",
       "      <td>0.649139</td>\n",
       "      <td>0.450843</td>\n",
       "      <td>0.692642</td>\n",
       "      <td>0.663052</td>\n",
       "      <td>0.722571</td>\n",
       "      <td>0.395457</td>\n",
       "    </tr>\n",
       "    <tr>\n",
       "      <th>2019 deployement rate</th>\n",
       "      <td>0.868609</td>\n",
       "      <td>0.741404</td>\n",
       "      <td>0.752488</td>\n",
       "      <td>0.529681</td>\n",
       "      <td>0.531418</td>\n",
       "      <td>0.777732</td>\n",
       "      <td>0.79768</td>\n",
       "      <td>0.722555</td>\n",
       "      <td>0.666245</td>\n",
       "      <td>0.68557</td>\n",
       "      <td>...</td>\n",
       "      <td>0.425193</td>\n",
       "      <td>0.673005</td>\n",
       "      <td>0.843835</td>\n",
       "      <td>0.589572</td>\n",
       "      <td>0.653992</td>\n",
       "      <td>0.53944</td>\n",
       "      <td>0.70301</td>\n",
       "      <td>0.722364</td>\n",
       "      <td>0.77612</td>\n",
       "      <td>0.423171</td>\n",
       "    </tr>\n",
       "    <tr>\n",
       "      <th>2020 deployement rate</th>\n",
       "      <td>0.84116</td>\n",
       "      <td>0.750678</td>\n",
       "      <td>0.839304</td>\n",
       "      <td>0.540884</td>\n",
       "      <td>0.590095</td>\n",
       "      <td>0.766204</td>\n",
       "      <td>0.929697</td>\n",
       "      <td>0.7212</td>\n",
       "      <td>0.6899</td>\n",
       "      <td>0.741356</td>\n",
       "      <td>...</td>\n",
       "      <td>0.511214</td>\n",
       "      <td>0.691652</td>\n",
       "      <td>0.874272</td>\n",
       "      <td>0.598646</td>\n",
       "      <td>0.658087</td>\n",
       "      <td>0.643257</td>\n",
       "      <td>0.72397</td>\n",
       "      <td>0.726011</td>\n",
       "      <td>0.798403</td>\n",
       "      <td>0.478052</td>\n",
       "    </tr>\n",
       "    <tr>\n",
       "      <th>2021 deployement rate</th>\n",
       "      <td>0.861064</td>\n",
       "      <td>0.755421</td>\n",
       "      <td>0.885444</td>\n",
       "      <td>0.699448</td>\n",
       "      <td>0.626078</td>\n",
       "      <td>0.793033</td>\n",
       "      <td>0.947929</td>\n",
       "      <td>0.733646</td>\n",
       "      <td>0.761894</td>\n",
       "      <td>0.798484</td>\n",
       "      <td>...</td>\n",
       "      <td>0.581928</td>\n",
       "      <td>0.740253</td>\n",
       "      <td>0.911837</td>\n",
       "      <td>0.636844</td>\n",
       "      <td>0.717837</td>\n",
       "      <td>0.751659</td>\n",
       "      <td>0.786883</td>\n",
       "      <td>0.772469</td>\n",
       "      <td>0.823564</td>\n",
       "      <td>0.588128</td>\n",
       "    </tr>\n",
       "  </tbody>\n",
       "</table>\n",
       "<p>4 rows × 49 columns</p>\n",
       "</div>"
      ],
      "text/plain": [
       "StateAbbr                    NY        FL        MN        VT        OR  \\\n",
       "2018 deployement rate  0.833629   0.74637  0.715402  0.518785   0.51347   \n",
       "2019 deployement rate  0.868609  0.741404  0.752488  0.529681  0.531418   \n",
       "2020 deployement rate   0.84116  0.750678  0.839304  0.540884  0.590095   \n",
       "2021 deployement rate  0.861064  0.755421  0.885444  0.699448  0.626078   \n",
       "\n",
       "StateAbbr                    DE        SD        WA        TN        MO  ...  \\\n",
       "2018 deployement rate  0.788306  0.696299  0.715116  0.659652  0.612906  ...   \n",
       "2019 deployement rate  0.777732   0.79768  0.722555  0.666245   0.68557  ...   \n",
       "2020 deployement rate  0.766204  0.929697    0.7212    0.6899  0.741356  ...   \n",
       "2021 deployement rate  0.793033  0.947929  0.733646  0.761894  0.798484  ...   \n",
       "\n",
       "StateAbbr                    NV        SC        OH        AL        NH  \\\n",
       "2018 deployement rate  0.445894  0.670553  0.788758   0.58388  0.649139   \n",
       "2019 deployement rate  0.425193  0.673005  0.843835  0.589572  0.653992   \n",
       "2020 deployement rate  0.511214  0.691652  0.874272  0.598646  0.658087   \n",
       "2021 deployement rate  0.581928  0.740253  0.911837  0.636844  0.717837   \n",
       "\n",
       "StateAbbr                    OK        WI        MI        CA        WY  \n",
       "2018 deployement rate  0.450843  0.692642  0.663052  0.722571  0.395457  \n",
       "2019 deployement rate   0.53944   0.70301  0.722364   0.77612  0.423171  \n",
       "2020 deployement rate  0.643257   0.72397  0.726011  0.798403  0.478052  \n",
       "2021 deployement rate  0.751659  0.786883  0.772469  0.823564  0.588128  \n",
       "\n",
       "[4 rows x 49 columns]"
      ]
     },
     "execution_count": 96,
     "metadata": {},
     "output_type": "execute_result"
    }
   ],
   "source": [
    "df2.head()\n",
    "#df2['Year']=df2['StateAbbr']\n",
    "#df2['Year']=['2018','2019','2020','2021']\n"
   ]
  },
  {
   "cell_type": "code",
   "execution_count": 98,
   "id": "0563ce45",
   "metadata": {},
   "outputs": [
    {
     "data": {
      "text/plain": [
       "<matplotlib.legend.Legend at 0x7f84b6c84850>"
      ]
     },
     "execution_count": 98,
     "metadata": {},
     "output_type": "execute_result"
    },
    {
     "data": {
      "image/png": "[encoded data removed]",
      "text/plain": [
       "<Figure size 2880x5760 with 49 Axes>"
      ]
     },
     "metadata": {
      "needs_background": "light"
     },
     "output_type": "display_data"
    }
   ],
   "source": [
    "df2.plot(subplots=True, figsize=(40,80)); plt.legend(loc='best')"
   ]
  },
  {
   "cell_type": "code",
   "execution_count": 99,
   "id": "528d5690",
   "metadata": {},
   "outputs": [],
   "source": [
    "import plotly.express as px"
   ]
  },
  {
   "cell_type": "code",
   "execution_count": 101,
   "id": "2c348033",
   "metadata": {},
   "outputs": [
    {
     "data": {
      "application/vnd.plotly.v1+json": {
       "config": {
        "plotlyServerURL": "https://plot.ly"
       },
       "data": [
        {
         "coloraxis": "coloraxis",
         "geo": "geo",
         "hovertemplate": "StateAbbr=%{location}<br>2018 deployement rate=%{z}<extra></extra>",
         "locationmode": "USA-states",
         "locations": [
          "NY",
          "FL",
          "MN",
          "VT",
          "OR",
          "DE",
          "SD",
          "WA",
          "TN",
          "MO",
          "CO",
          "NM",
          "NE",
          "AR",
          "KS",
          "ID",
          "UT",
          "MD",
          "WV",
          "DC",
          "IN",
          "ND",
          "VA",
          "RI",
          "KY",
          "IA",
          "TX",
          "MA",
          "IL",
          "NC",
          "GA",
          "PA",
          "CT",
          "LA",
          "ME",
          "MS",
          "NJ",
          "MT",
          "AZ",
          "NV",
          "SC",
          "OH",
          "AL",
          "NH",
          "OK",
          "WI",
          "MI",
          "CA",
          "WY"
         ],
         "name": "",
         "type": "choropleth",
         "z": [
          0.8336289049002054,
          0.7463698266805097,
          0.7154020563791251,
          0.5187845303867403,
          0.5134700769500714,
          0.7883060335890525,
          0.6962992304210049,
          0.7151155061511244,
          0.6596520015325926,
          0.6129058547873037,
          0.6159940714804388,
          0.3298103897182238,
          0.49897596094170216,
          0.3865346300701892,
          0.652154233025985,
          0.3315892740353172,
          0.5041678942169384,
          0.7459431175859054,
          0.5419174961913354,
          0.776855693868142,
          0.7477599589622236,
          0.7940105704610186,
          0.4957937024516906,
          0.7654183709940034,
          0.630727646098273,
          0.6131977204442448,
          0.6415555805917761,
          0.7300835513116795,
          0.6671782333895835,
          0.8075761193410084,
          0.5983729894258054,
          0.6863276755743752,
          0.8497735949569386,
          0.5045121718587213,
          0.6211053252395063,
          0.3697446704467394,
          0.824126707078331,
          0.5082093613933236,
          0.3756672432199813,
          0.4458941541082117,
          0.6705532466961321,
          0.7887579924673732,
          0.583879714269858,
          0.6491389725003583,
          0.45084312457732295,
          0.6926423175395897,
          0.6630522757930795,
          0.7225707425948222,
          0.39545728736485547
         ]
        }
       ],
       "layout": {
        "coloraxis": {
         "colorbar": {
          "title": {
           "text": "2018 deployement rate"
          }
         },
         "colorscale": [
          [
           0,
           "#fde725"
          ],
          [
           0.1111111111111111,
           "#b5de2b"
          ],
          [
           0.2222222222222222,
           "#6ece58"
          ],
          [
           0.3333333333333333,
           "#35b779"
          ],
          [
           0.4444444444444444,
           "#1f9e89"
          ],
          [
           0.5555555555555556,
           "#26828e"
          ],
          [
           0.6666666666666666,
           "#31688e"
          ],
          [
           0.7777777777777778,
           "#3e4989"
          ],
          [
           0.8888888888888888,
           "#482878"
          ],
          [
           1,
           "#440154"
          ]
         ]
        },
        "geo": {
         "center": {},
         "domain": {
          "x": [
           0,
           1
          ],
          "y": [
           0,
           1
          ]
         },
         "scope": "usa"
        },
        "legend": {
         "tracegroupgap": 0
        },
        "margin": {
         "t": 60
        },
        "template": {
         "data": {
          "bar": [
           {
            "error_x": {
             "color": "#2a3f5f"
            },
            "error_y": {
             "color": "#2a3f5f"
            },
            "marker": {
             "line": {
              "color": "#E5ECF6",
              "width": 0.5
             },
             "pattern": {
              "fillmode": "overlay",
              "size": 10,
              "solidity": 0.2
             }
            },
            "type": "bar"
           }
          ],
          "barpolar": [
           {
            "marker": {
             "line": {
              "color": "#E5ECF6",
              "width": 0.5
             },
             "pattern": {
              "fillmode": "overlay",
              "size": 10,
              "solidity": 0.2
             }
            },
            "type": "barpolar"
           }
          ],
          "carpet": [
           {
            "aaxis": {
             "endlinecolor": "#2a3f5f",
             "gridcolor": "white",
             "linecolor": "white",
             "minorgridcolor": "white",
             "startlinecolor": "#2a3f5f"
            },
            "baxis": {
             "endlinecolor": "#2a3f5f",
             "gridcolor": "white",
             "linecolor": "white",
             "minorgridcolor": "white",
             "startlinecolor": "#2a3f5f"
            },
            "type": "carpet"
           }
          ],
          "choropleth": [
           {
            "colorbar": {
             "outlinewidth": 0,
             "ticks": ""
            },
            "type": "choropleth"
           }
          ],
          "contour": [
           {
            "colorbar": {
             "outlinewidth": 0,
             "ticks": ""
            },
            "colorscale": [
             [
              0,
              "#0d0887"
             ],
             [
              0.1111111111111111,
              "#46039f"
             ],
             [
              0.2222222222222222,
              "#7201a8"
             ],
             [
              0.3333333333333333,
              "#9c179e"
             ],
             [
              0.4444444444444444,
              "#bd3786"
             ],
             [
              0.5555555555555556,
              "#d8576b"
             ],
             [
              0.6666666666666666,
              "#ed7953"
             ],
             [
              0.7777777777777778,
              "#fb9f3a"
             ],
             [
              0.8888888888888888,
              "#fdca26"
             ],
             [
              1,
              "#f0f921"
             ]
            ],
            "type": "contour"
           }
          ],
          "contourcarpet": [
           {
            "colorbar": {
             "outlinewidth": 0,
             "ticks": ""
            },
            "type": "contourcarpet"
           }
          ],
          "heatmap": [
           {
            "colorbar": {
             "outlinewidth": 0,
             "ticks": ""
            },
            "colorscale": [
             [
              0,
              "#0d0887"
             ],
             [
              0.1111111111111111,
              "#46039f"
             ],
             [
              0.2222222222222222,
              "#7201a8"
             ],
             [
              0.3333333333333333,
              "#9c179e"
             ],
             [
              0.4444444444444444,
              "#bd3786"
             ],
             [
              0.5555555555555556,
              "#d8576b"
             ],
             [
              0.6666666666666666,
              "#ed7953"
             ],
             [
              0.7777777777777778,
              "#fb9f3a"
             ],
             [
              0.8888888888888888,
              "#fdca26"
             ],
             [
              1,
              "#f0f921"
             ]
            ],
            "type": "heatmap"
           }
          ],
          "heatmapgl": [
           {
            "colorbar": {
             "outlinewidth": 0,
             "ticks": ""
            },
            "colorscale": [
             [
              0,
              "#0d0887"
             ],
             [
              0.1111111111111111,
              "#46039f"
             ],
             [
              0.2222222222222222,
              "#7201a8"
             ],
             [
              0.3333333333333333,
              "#9c179e"
             ],
             [
              0.4444444444444444,
              "#bd3786"
             ],
             [
              0.5555555555555556,
              "#d8576b"
             ],
             [
              0.6666666666666666,
              "#ed7953"
             ],
             [
              0.7777777777777778,
              "#fb9f3a"
             ],
             [
              0.8888888888888888,
              "#fdca26"
             ],
             [
              1,
              "#f0f921"
             ]
            ],
            "type": "heatmapgl"
           }
          ],
          "histogram": [
           {
            "marker": {
             "pattern": {
              "fillmode": "overlay",
              "size": 10,
              "solidity": 0.2
             }
            },
            "type": "histogram"
           }
          ],
          "histogram2d": [
           {
            "colorbar": {
             "outlinewidth": 0,
             "ticks": ""
            },
            "colorscale": [
             [
              0,
              "#0d0887"
             ],
             [
              0.1111111111111111,
              "#46039f"
             ],
             [
              0.2222222222222222,
              "#7201a8"
             ],
             [
              0.3333333333333333,
              "#9c179e"
             ],
             [
              0.4444444444444444,
              "#bd3786"
             ],
             [
              0.5555555555555556,
              "#d8576b"
             ],
             [
              0.6666666666666666,
              "#ed7953"
             ],
             [
              0.7777777777777778,
              "#fb9f3a"
             ],
             [
              0.8888888888888888,
              "#fdca26"
             ],
             [
              1,
              "#f0f921"
             ]
            ],
            "type": "histogram2d"
           }
          ],
          "histogram2dcontour": [
           {
            "colorbar": {
             "outlinewidth": 0,
             "ticks": ""
            },
            "colorscale": [
             [
              0,
              "#0d0887"
             ],
             [
              0.1111111111111111,
              "#46039f"
             ],
             [
              0.2222222222222222,
              "#7201a8"
             ],
             [
              0.3333333333333333,
              "#9c179e"
             ],
             [
              0.4444444444444444,
              "#bd3786"
             ],
             [
              0.5555555555555556,
              "#d8576b"
             ],
             [
              0.6666666666666666,
              "#ed7953"
             ],
             [
              0.7777777777777778,
              "#fb9f3a"
             ],
             [
              0.8888888888888888,
              "#fdca26"
             ],
             [
              1,
              "#f0f921"
             ]
            ],
            "type": "histogram2dcontour"
           }
          ],
          "mesh3d": [
           {
            "colorbar": {
             "outlinewidth": 0,
             "ticks": ""
            },
            "type": "mesh3d"
           }
          ],
          "parcoords": [
           {
            "line": {
             "colorbar": {
              "outlinewidth": 0,
              "ticks": ""
             }
            },
            "type": "parcoords"
           }
          ],
          "pie": [
           {
            "automargin": true,
            "type": "pie"
           }
          ],
          "scatter": [
           {
            "marker": {
             "colorbar": {
              "outlinewidth": 0,
              "ticks": ""
             }
            },
            "type": "scatter"
           }
          ],
          "scatter3d": [
           {
            "line": {
             "colorbar": {
              "outlinewidth": 0,
              "ticks": ""
             }
            },
            "marker": {
             "colorbar": {
              "outlinewidth": 0,
              "ticks": ""
             }
            },
            "type": "scatter3d"
           }
          ],
          "scattercarpet": [
           {
            "marker": {
             "colorbar": {
              "outlinewidth": 0,
              "ticks": ""
             }
            },
            "type": "scattercarpet"
           }
          ],
          "scattergeo": [
           {
            "marker": {
             "colorbar": {
              "outlinewidth": 0,
              "ticks": ""
             }
            },
            "type": "scattergeo"
           }
          ],
          "scattergl": [
           {
            "marker": {
             "colorbar": {
              "outlinewidth": 0,
              "ticks": ""
             }
            },
            "type": "scattergl"
           }
          ],
          "scattermapbox": [
           {
            "marker": {
             "colorbar": {
              "outlinewidth": 0,
              "ticks": ""
             }
            },
            "type": "scattermapbox"
           }
          ],
          "scatterpolar": [
           {
            "marker": {
             "colorbar": {
              "outlinewidth": 0,
              "ticks": ""
             }
            },
            "type": "scatterpolar"
           }
          ],
          "scatterpolargl": [
           {
            "marker": {
             "colorbar": {
              "outlinewidth": 0,
              "ticks": ""
             }
            },
            "type": "scatterpolargl"
           }
          ],
          "scatterternary": [
           {
            "marker": {
             "colorbar": {
              "outlinewidth": 0,
              "ticks": ""
             }
            },
            "type": "scatterternary"
           }
          ],
          "surface": [
           {
            "colorbar": {
             "outlinewidth": 0,
             "ticks": ""
            },
            "colorscale": [
             [
              0,
              "#0d0887"
             ],
             [
              0.1111111111111111,
              "#46039f"
             ],
             [
              0.2222222222222222,
              "#7201a8"
             ],
             [
              0.3333333333333333,
              "#9c179e"
             ],
             [
              0.4444444444444444,
              "#bd3786"
             ],
             [
              0.5555555555555556,
              "#d8576b"
             ],
             [
              0.6666666666666666,
              "#ed7953"
             ],
             [
              0.7777777777777778,
              "#fb9f3a"
             ],
             [
              0.8888888888888888,
              "#fdca26"
             ],
             [
              1,
              "#f0f921"
             ]
            ],
            "type": "surface"
           }
          ],
          "table": [
           {
            "cells": {
             "fill": {
              "color": "#EBF0F8"
             },
             "line": {
              "color": "white"
             }
            },
            "header": {
             "fill": {
              "color": "#C8D4E3"
             },
             "line": {
              "color": "white"
             }
            },
            "type": "table"
           }
          ]
         },
         "layout": {
          "annotationdefaults": {
           "arrowcolor": "#2a3f5f",
           "arrowhead": 0,
           "arrowwidth": 1
          },
          "autotypenumbers": "strict",
          "coloraxis": {
           "colorbar": {
            "outlinewidth": 0,
            "ticks": ""
           }
          },
          "colorscale": {
           "diverging": [
            [
             0,
             "#8e0152"
            ],
            [
             0.1,
             "#c51b7d"
            ],
            [
             0.2,
             "#de77ae"
            ],
            [
             0.3,
             "#f1b6da"
            ],
            [
             0.4,
             "#fde0ef"
            ],
            [
             0.5,
             "#f7f7f7"
            ],
            [
             0.6,
             "#e6f5d0"
            ],
            [
             0.7,
             "#b8e186"
            ],
            [
             0.8,
             "#7fbc41"
            ],
            [
             0.9,
             "#4d9221"
            ],
            [
             1,
             "#276419"
            ]
           ],
           "sequential": [
            [
             0,
             "#0d0887"
            ],
            [
             0.1111111111111111,
             "#46039f"
            ],
            [
             0.2222222222222222,
             "#7201a8"
            ],
            [
             0.3333333333333333,
             "#9c179e"
            ],
            [
             0.4444444444444444,
             "#bd3786"
            ],
            [
             0.5555555555555556,
             "#d8576b"
            ],
            [
             0.6666666666666666,
             "#ed7953"
            ],
            [
             0.7777777777777778,
             "#fb9f3a"
            ],
            [
             0.8888888888888888,
             "#fdca26"
            ],
            [
             1,
             "#f0f921"
            ]
           ],
           "sequentialminus": [
            [
             0,
             "#0d0887"
            ],
            [
             0.1111111111111111,
             "#46039f"
            ],
            [
             0.2222222222222222,
             "#7201a8"
            ],
            [
             0.3333333333333333,
             "#9c179e"
            ],
            [
             0.4444444444444444,
             "#bd3786"
            ],
            [
             0.5555555555555556,
             "#d8576b"
            ],
            [
             0.6666666666666666,
             "#ed7953"
            ],
            [
             0.7777777777777778,
             "#fb9f3a"
            ],
            [
             0.8888888888888888,
             "#fdca26"
            ],
            [
             1,
             "#f0f921"
            ]
           ]
          },
          "colorway": [
           "#636efa",
           "#EF553B",
           "#00cc96",
           "#ab63fa",
           "#FFA15A",
           "#19d3f3",
           "#FF6692",
           "#B6E880",
           "#FF97FF",
           "#FECB52"
          ],
          "font": {
           "color": "#2a3f5f"
          },
          "geo": {
           "bgcolor": "white",
           "lakecolor": "white",
           "landcolor": "#E5ECF6",
           "showlakes": true,
           "showland": true,
           "subunitcolor": "white"
          },
          "hoverlabel": {
           "align": "left"
          },
          "hovermode": "closest",
          "mapbox": {
           "style": "light"
          },
          "paper_bgcolor": "white",
          "plot_bgcolor": "#E5ECF6",
          "polar": {
           "angularaxis": {
            "gridcolor": "white",
            "linecolor": "white",
            "ticks": ""
           },
           "bgcolor": "#E5ECF6",
           "radialaxis": {
            "gridcolor": "white",
            "linecolor": "white",
            "ticks": ""
           }
          },
          "scene": {
           "xaxis": {
            "backgroundcolor": "#E5ECF6",
            "gridcolor": "white",
            "gridwidth": 2,
            "linecolor": "white",
            "showbackground": true,
            "ticks": "",
            "zerolinecolor": "white"
           },
           "yaxis": {
            "backgroundcolor": "#E5ECF6",
            "gridcolor": "white",
            "gridwidth": 2,
            "linecolor": "white",
            "showbackground": true,
            "ticks": "",
            "zerolinecolor": "white"
           },
           "zaxis": {
            "backgroundcolor": "#E5ECF6",
            "gridcolor": "white",
            "gridwidth": 2,
            "linecolor": "white",
            "showbackground": true,
            "ticks": "",
            "zerolinecolor": "white"
           }
          },
          "shapedefaults": {
           "line": {
            "color": "#2a3f5f"
           }
          },
          "ternary": {
           "aaxis": {
            "gridcolor": "white",
            "linecolor": "white",
            "ticks": ""
           },
           "baxis": {
            "gridcolor": "white",
            "linecolor": "white",
            "ticks": ""
           },
           "bgcolor": "#E5ECF6",
           "caxis": {
            "gridcolor": "white",
            "linecolor": "white",
            "ticks": ""
           }
          },
          "title": {
           "x": 0.05
          },
          "xaxis": {
           "automargin": true,
           "gridcolor": "white",
           "linecolor": "white",
           "ticks": "",
           "title": {
            "standoff": 15
           },
           "zerolinecolor": "white",
           "zerolinewidth": 2
          },
          "yaxis": {
           "automargin": true,
           "gridcolor": "white",
           "linecolor": "white",
           "ticks": "",
           "title": {
            "standoff": 15
           },
           "zerolinecolor": "white",
           "zerolinewidth": 2
          }
         }
        }
       }
      },
      "text/html": [
       "<div>                            <div id=\"99ee8bbc-b303-4220-8996-50c211eaf135\" class=\"plotly-graph-div\" style=\"height:525px; width:100%;\"></div>            <script type=\"text/javascript\">                require([\"plotly\"], function(Plotly) {                    window.PLOTLYENV=window.PLOTLYENV || {};                                    if (document.getElementById(\"99ee8bbc-b303-4220-8996-50c211eaf135\")) {                    Plotly.newPlot(                        \"99ee8bbc-b303-4220-8996-50c211eaf135\",                        [{\"coloraxis\":\"coloraxis\",\"geo\":\"geo\",\"hovertemplate\":\"StateAbbr=%{location}<br>2018 deployement rate=%{z}<extra></extra>\",\"locationmode\":\"USA-states\",\"locations\":[\"NY\",\"FL\",\"MN\",\"VT\",\"OR\",\"DE\",\"SD\",\"WA\",\"TN\",\"MO\",\"CO\",\"NM\",\"NE\",\"AR\",\"KS\",\"ID\",\"UT\",\"MD\",\"WV\",\"DC\",\"IN\",\"ND\",\"VA\",\"RI\",\"KY\",\"IA\",\"TX\",\"MA\",\"IL\",\"NC\",\"GA\",\"PA\",\"CT\",\"LA\",\"ME\",\"MS\",\"NJ\",\"MT\",\"AZ\",\"NV\",\"SC\",\"OH\",\"AL\",\"NH\",\"OK\",\"WI\",\"MI\",\"CA\",\"WY\"],\"name\":\"\",\"z\":[0.8336289049002054,0.7463698266805097,0.7154020563791251,0.5187845303867403,0.5134700769500714,0.7883060335890525,0.6962992304210049,0.7151155061511244,0.6596520015325926,0.6129058547873037,0.6159940714804388,0.3298103897182238,0.49897596094170216,0.3865346300701892,0.652154233025985,0.3315892740353172,0.5041678942169384,0.7459431175859054,0.5419174961913354,0.776855693868142,0.7477599589622236,0.7940105704610186,0.4957937024516906,0.7654183709940034,0.630727646098273,0.6131977204442448,0.6415555805917761,0.7300835513116795,0.6671782333895835,0.8075761193410084,0.5983729894258054,0.6863276755743752,0.8497735949569386,0.5045121718587213,0.6211053252395063,0.3697446704467394,0.824126707078331,0.5082093613933236,0.3756672432199813,0.4458941541082117,0.6705532466961321,0.7887579924673732,0.583879714269858,0.6491389725003583,0.45084312457732295,0.6926423175395897,0.6630522757930795,0.7225707425948222,0.39545728736485547],\"type\":\"choropleth\"}],                        {\"template\":{\"data\":{\"bar\":[{\"error_x\":{\"color\":\"#2a3f5f\"},\"error_y\":{\"color\":\"#2a3f5f\"},\"marker\":{\"line\":{\"color\":\"#E5ECF6\",\"width\":0.5},\"pattern\":{\"fillmode\":\"overlay\",\"size\":10,\"solidity\":0.2}},\"type\":\"bar\"}],\"barpolar\":[{\"marker\":{\"line\":{\"color\":\"#E5ECF6\",\"width\":0.5},\"pattern\":{\"fillmode\":\"overlay\",\"size\":10,\"solidity\":0.2}},\"type\":\"barpolar\"}],\"carpet\":[{\"aaxis\":{\"endlinecolor\":\"#2a3f5f\",\"gridcolor\":\"white\",\"linecolor\":\"white\",\"minorgridcolor\":\"white\",\"startlinecolor\":\"#2a3f5f\"},\"baxis\":{\"endlinecolor\":\"#2a3f5f\",\"gridcolor\":\"white\",\"linecolor\":\"white\",\"minorgridcolor\":\"white\",\"startlinecolor\":\"#2a3f5f\"},\"type\":\"carpet\"}],\"choropleth\":[{\"colorbar\":{\"outlinewidth\":0,\"ticks\":\"\"},\"type\":\"choropleth\"}],\"contour\":[{\"colorbar\":{\"outlinewidth\":0,\"ticks\":\"\"},\"colorscale\":[[0.0,\"#0d0887\"],[0.1111111111111111,\"#46039f\"],[0.2222222222222222,\"#7201a8\"],[0.3333333333333333,\"#9c179e\"],[0.4444444444444444,\"#bd3786\"],[0.5555555555555556,\"#d8576b\"],[0.6666666666666666,\"#ed7953\"],[0.7777777777777778,\"#fb9f3a\"],[0.8888888888888888,\"#fdca26\"],[1.0,\"#f0f921\"]],\"type\":\"contour\"}],\"contourcarpet\":[{\"colorbar\":{\"outlinewidth\":0,\"ticks\":\"\"},\"type\":\"contourcarpet\"}],\"heatmap\":[{\"colorbar\":{\"outlinewidth\":0,\"ticks\":\"\"},\"colorscale\":[[0.0,\"#0d0887\"],[0.1111111111111111,\"#46039f\"],[0.2222222222222222,\"#7201a8\"],[0.3333333333333333,\"#9c179e\"],[0.4444444444444444,\"#bd3786\"],[0.5555555555555556,\"#d8576b\"],[0.6666666666666666,\"#ed7953\"],[0.7777777777777778,\"#fb9f3a\"],[0.8888888888888888,\"#fdca26\"],[1.0,\"#f0f921\"]],\"type\":\"heatmap\"}],\"heatmapgl\":[{\"colorbar\":{\"outlinewidth\":0,\"ticks\":\"\"},\"colorscale\":[[0.0,\"#0d0887\"],[0.1111111111111111,\"#46039f\"],[0.2222222222222222,\"#7201a8\"],[0.3333333333333333,\"#9c179e\"],[0.4444444444444444,\"#bd3786\"],[0.5555555555555556,\"#d8576b\"],[0.6666666666666666,\"#ed7953\"],[0.7777777777777778,\"#fb9f3a\"],[0.8888888888888888,\"#fdca26\"],[1.0,\"#f0f921\"]],\"type\":\"heatmapgl\"}],\"histogram\":[{\"marker\":{\"pattern\":{\"fillmode\":\"overlay\",\"size\":10,\"solidity\":0.2}},\"type\":\"histogram\"}],\"histogram2d\":[{\"colorbar\":{\"outlinewidth\":0,\"ticks\":\"\"},\"colorscale\":[[0.0,\"#0d0887\"],[0.1111111111111111,\"#46039f\"],[0.2222222222222222,\"#7201a8\"],[0.3333333333333333,\"#9c179e\"],[0.4444444444444444,\"#bd3786\"],[0.5555555555555556,\"#d8576b\"],[0.6666666666666666,\"#ed7953\"],[0.7777777777777778,\"#fb9f3a\"],[0.8888888888888888,\"#fdca26\"],[1.0,\"#f0f921\"]],\"type\":\"histogram2d\"}],\"histogram2dcontour\":[{\"colorbar\":{\"outlinewidth\":0,\"ticks\":\"\"},\"colorscale\":[[0.0,\"#0d0887\"],[0.1111111111111111,\"#46039f\"],[0.2222222222222222,\"#7201a8\"],[0.3333333333333333,\"#9c179e\"],[0.4444444444444444,\"#bd3786\"],[0.5555555555555556,\"#d8576b\"],[0.6666666666666666,\"#ed7953\"],[0.7777777777777778,\"#fb9f3a\"],[0.8888888888888888,\"#fdca26\"],[1.0,\"#f0f921\"]],\"type\":\"histogram2dcontour\"}],\"mesh3d\":[{\"colorbar\":{\"outlinewidth\":0,\"ticks\":\"\"},\"type\":\"mesh3d\"}],\"parcoords\":[{\"line\":{\"colorbar\":{\"outlinewidth\":0,\"ticks\":\"\"}},\"type\":\"parcoords\"}],\"pie\":[{\"automargin\":true,\"type\":\"pie\"}],\"scatter\":[{\"marker\":{\"colorbar\":{\"outlinewidth\":0,\"ticks\":\"\"}},\"type\":\"scatter\"}],\"scatter3d\":[{\"line\":{\"colorbar\":{\"outlinewidth\":0,\"ticks\":\"\"}},\"marker\":{\"colorbar\":{\"outlinewidth\":0,\"ticks\":\"\"}},\"type\":\"scatter3d\"}],\"scattercarpet\":[{\"marker\":{\"colorbar\":{\"outlinewidth\":0,\"ticks\":\"\"}},\"type\":\"scattercarpet\"}],\"scattergeo\":[{\"marker\":{\"colorbar\":{\"outlinewidth\":0,\"ticks\":\"\"}},\"type\":\"scattergeo\"}],\"scattergl\":[{\"marker\":{\"colorbar\":{\"outlinewidth\":0,\"ticks\":\"\"}},\"type\":\"scattergl\"}],\"scattermapbox\":[{\"marker\":{\"colorbar\":{\"outlinewidth\":0,\"ticks\":\"\"}},\"type\":\"scattermapbox\"}],\"scatterpolar\":[{\"marker\":{\"colorbar\":{\"outlinewidth\":0,\"ticks\":\"\"}},\"type\":\"scatterpolar\"}],\"scatterpolargl\":[{\"marker\":{\"colorbar\":{\"outlinewidth\":0,\"ticks\":\"\"}},\"type\":\"scatterpolargl\"}],\"scatterternary\":[{\"marker\":{\"colorbar\":{\"outlinewidth\":0,\"ticks\":\"\"}},\"type\":\"scatterternary\"}],\"surface\":[{\"colorbar\":{\"outlinewidth\":0,\"ticks\":\"\"},\"colorscale\":[[0.0,\"#0d0887\"],[0.1111111111111111,\"#46039f\"],[0.2222222222222222,\"#7201a8\"],[0.3333333333333333,\"#9c179e\"],[0.4444444444444444,\"#bd3786\"],[0.5555555555555556,\"#d8576b\"],[0.6666666666666666,\"#ed7953\"],[0.7777777777777778,\"#fb9f3a\"],[0.8888888888888888,\"#fdca26\"],[1.0,\"#f0f921\"]],\"type\":\"surface\"}],\"table\":[{\"cells\":{\"fill\":{\"color\":\"#EBF0F8\"},\"line\":{\"color\":\"white\"}},\"header\":{\"fill\":{\"color\":\"#C8D4E3\"},\"line\":{\"color\":\"white\"}},\"type\":\"table\"}]},\"layout\":{\"annotationdefaults\":{\"arrowcolor\":\"#2a3f5f\",\"arrowhead\":0,\"arrowwidth\":1},\"autotypenumbers\":\"strict\",\"coloraxis\":{\"colorbar\":{\"outlinewidth\":0,\"ticks\":\"\"}},\"colorscale\":{\"diverging\":[[0,\"#8e0152\"],[0.1,\"#c51b7d\"],[0.2,\"#de77ae\"],[0.3,\"#f1b6da\"],[0.4,\"#fde0ef\"],[0.5,\"#f7f7f7\"],[0.6,\"#e6f5d0\"],[0.7,\"#b8e186\"],[0.8,\"#7fbc41\"],[0.9,\"#4d9221\"],[1,\"#276419\"]],\"sequential\":[[0.0,\"#0d0887\"],[0.1111111111111111,\"#46039f\"],[0.2222222222222222,\"#7201a8\"],[0.3333333333333333,\"#9c179e\"],[0.4444444444444444,\"#bd3786\"],[0.5555555555555556,\"#d8576b\"],[0.6666666666666666,\"#ed7953\"],[0.7777777777777778,\"#fb9f3a\"],[0.8888888888888888,\"#fdca26\"],[1.0,\"#f0f921\"]],\"sequentialminus\":[[0.0,\"#0d0887\"],[0.1111111111111111,\"#46039f\"],[0.2222222222222222,\"#7201a8\"],[0.3333333333333333,\"#9c179e\"],[0.4444444444444444,\"#bd3786\"],[0.5555555555555556,\"#d8576b\"],[0.6666666666666666,\"#ed7953\"],[0.7777777777777778,\"#fb9f3a\"],[0.8888888888888888,\"#fdca26\"],[1.0,\"#f0f921\"]]},\"colorway\":[\"#636efa\",\"#EF553B\",\"#00cc96\",\"#ab63fa\",\"#FFA15A\",\"#19d3f3\",\"#FF6692\",\"#B6E880\",\"#FF97FF\",\"#FECB52\"],\"font\":{\"color\":\"#2a3f5f\"},\"geo\":{\"bgcolor\":\"white\",\"lakecolor\":\"white\",\"landcolor\":\"#E5ECF6\",\"showlakes\":true,\"showland\":true,\"subunitcolor\":\"white\"},\"hoverlabel\":{\"align\":\"left\"},\"hovermode\":\"closest\",\"mapbox\":{\"style\":\"light\"},\"paper_bgcolor\":\"white\",\"plot_bgcolor\":\"#E5ECF6\",\"polar\":{\"angularaxis\":{\"gridcolor\":\"white\",\"linecolor\":\"white\",\"ticks\":\"\"},\"bgcolor\":\"#E5ECF6\",\"radialaxis\":{\"gridcolor\":\"white\",\"linecolor\":\"white\",\"ticks\":\"\"}},\"scene\":{\"xaxis\":{\"backgroundcolor\":\"#E5ECF6\",\"gridcolor\":\"white\",\"gridwidth\":2,\"linecolor\":\"white\",\"showbackground\":true,\"ticks\":\"\",\"zerolinecolor\":\"white\"},\"yaxis\":{\"backgroundcolor\":\"#E5ECF6\",\"gridcolor\":\"white\",\"gridwidth\":2,\"linecolor\":\"white\",\"showbackground\":true,\"ticks\":\"\",\"zerolinecolor\":\"white\"},\"zaxis\":{\"backgroundcolor\":\"#E5ECF6\",\"gridcolor\":\"white\",\"gridwidth\":2,\"linecolor\":\"white\",\"showbackground\":true,\"ticks\":\"\",\"zerolinecolor\":\"white\"}},\"shapedefaults\":{\"line\":{\"color\":\"#2a3f5f\"}},\"ternary\":{\"aaxis\":{\"gridcolor\":\"white\",\"linecolor\":\"white\",\"ticks\":\"\"},\"baxis\":{\"gridcolor\":\"white\",\"linecolor\":\"white\",\"ticks\":\"\"},\"bgcolor\":\"#E5ECF6\",\"caxis\":{\"gridcolor\":\"white\",\"linecolor\":\"white\",\"ticks\":\"\"}},\"title\":{\"x\":0.05},\"xaxis\":{\"automargin\":true,\"gridcolor\":\"white\",\"linecolor\":\"white\",\"ticks\":\"\",\"title\":{\"standoff\":15},\"zerolinecolor\":\"white\",\"zerolinewidth\":2},\"yaxis\":{\"automargin\":true,\"gridcolor\":\"white\",\"linecolor\":\"white\",\"ticks\":\"\",\"title\":{\"standoff\":15},\"zerolinecolor\":\"white\",\"zerolinewidth\":2}}},\"geo\":{\"domain\":{\"x\":[0.0,1.0],\"y\":[0.0,1.0]},\"center\":{},\"scope\":\"usa\"},\"coloraxis\":{\"colorbar\":{\"title\":{\"text\":\"2018 deployement rate\"}},\"colorscale\":[[0.0,\"#fde725\"],[0.1111111111111111,\"#b5de2b\"],[0.2222222222222222,\"#6ece58\"],[0.3333333333333333,\"#35b779\"],[0.4444444444444444,\"#1f9e89\"],[0.5555555555555556,\"#26828e\"],[0.6666666666666666,\"#31688e\"],[0.7777777777777778,\"#3e4989\"],[0.8888888888888888,\"#482878\"],[1.0,\"#440154\"]]},\"legend\":{\"tracegroupgap\":0},\"margin\":{\"t\":60}},                        {\"responsive\": true}                    ).then(function(){\n",
       "                            \n",
       "var gd = document.getElementById('99ee8bbc-b303-4220-8996-50c211eaf135');\n",
       "var x = new MutationObserver(function (mutations, observer) {{\n",
       "        var display = window.getComputedStyle(gd).display;\n",
       "        if (!display || display === 'none') {{\n",
       "            console.log([gd, 'removed!']);\n",
       "            Plotly.purge(gd);\n",
       "            observer.disconnect();\n",
       "        }}\n",
       "}});\n",
       "\n",
       "// Listen for the removal of the full notebook cells\n",
       "var notebookContainer = gd.closest('#notebook-container');\n",
       "if (notebookContainer) {{\n",
       "    x.observe(notebookContainer, {childList: true});\n",
       "}}\n",
       "\n",
       "// Listen for the clearing of the current output cell\n",
       "var outputEl = gd.closest('.output');\n",
       "if (outputEl) {{\n",
       "    x.observe(outputEl, {childList: true});\n",
       "}}\n",
       "\n",
       "                        })                };                });            </script>        </div>"
      ]
     },
     "metadata": {},
     "output_type": "display_data"
    }
   ],
   "source": [
    "#2018\n",
    "fig = px.choropleth(df,\n",
    "                    locations='StateAbbr', \n",
    "                    locationmode=\"USA-states\", \n",
    "                    scope=\"usa\",\n",
    "                    color='2018 deployement rate',\n",
    "                    color_continuous_scale=\"Viridis_r\", \n",
    "                    \n",
    "                    )\n",
    "fig.show()"
   ]
  },
  {
   "cell_type": "code",
   "execution_count": 102,
   "id": "f1be4ea7",
   "metadata": {},
   "outputs": [
    {
     "data": {
      "application/vnd.plotly.v1+json": {
       "config": {
        "plotlyServerURL": "https://plot.ly"
       },
       "data": [
        {
         "coloraxis": "coloraxis",
         "geo": "geo",
         "hovertemplate": "StateAbbr=%{location}<br>2019 deployement rate=%{z}<extra></extra>",
         "locationmode": "USA-states",
         "locations": [
          "NY",
          "FL",
          "MN",
          "VT",
          "OR",
          "DE",
          "SD",
          "WA",
          "TN",
          "MO",
          "CO",
          "NM",
          "NE",
          "AR",
          "KS",
          "ID",
          "UT",
          "MD",
          "WV",
          "DC",
          "IN",
          "ND",
          "VA",
          "RI",
          "KY",
          "IA",
          "TX",
          "MA",
          "IL",
          "NC",
          "GA",
          "PA",
          "CT",
          "LA",
          "ME",
          "MS",
          "NJ",
          "MT",
          "AZ",
          "NV",
          "SC",
          "OH",
          "AL",
          "NH",
          "OK",
          "WI",
          "MI",
          "CA",
          "WY"
         ],
         "name": "",
         "type": "choropleth",
         "z": [
          0.8686091572926216,
          0.741403687657514,
          0.7524877106133337,
          0.5296807857581338,
          0.5314183123877917,
          0.7777317022600041,
          0.7976799456767768,
          0.7225551453669711,
          0.6662446484199304,
          0.6855704160784714,
          0.6292685838199162,
          0.33443647729362014,
          0.563143903347263,
          0.40403628142268716,
          0.7532271584241408,
          0.5633133567357617,
          0.5297731487097724,
          0.6910779568596942,
          0.522985105533287,
          0.7971415398801291,
          0.8137087141621516,
          0.8276581270697995,
          0.5915097178771145,
          0.7806679639410666,
          0.7048468504131823,
          0.6853435305337326,
          0.692302054951101,
          0.7141097595042791,
          0.7788370826080602,
          0.8181025444051117,
          0.6022275203891634,
          0.6942675159235668,
          0.8501435378377579,
          0.5240477972286216,
          0.6310739664547311,
          0.4268241567604699,
          0.8261197726254216,
          0.5464592404450895,
          0.46946612266516596,
          0.4251934041496132,
          0.6730050355124568,
          0.8438348515371814,
          0.5895721183195516,
          0.6539918504412638,
          0.5394399482754777,
          0.7030099250877138,
          0.7223638540703579,
          0.7761203697836357,
          0.4231706185327827
         ]
        }
       ],
       "layout": {
        "coloraxis": {
         "colorbar": {
          "title": {
           "text": "2019 deployement rate"
          }
         },
         "colorscale": [
          [
           0,
           "#fde725"
          ],
          [
           0.1111111111111111,
           "#b5de2b"
          ],
          [
           0.2222222222222222,
           "#6ece58"
          ],
          [
           0.3333333333333333,
           "#35b779"
          ],
          [
           0.4444444444444444,
           "#1f9e89"
          ],
          [
           0.5555555555555556,
           "#26828e"
          ],
          [
           0.6666666666666666,
           "#31688e"
          ],
          [
           0.7777777777777778,
           "#3e4989"
          ],
          [
           0.8888888888888888,
           "#482878"
          ],
          [
           1,
           "#440154"
          ]
         ]
        },
        "geo": {
         "center": {},
         "domain": {
          "x": [
           0,
           1
          ],
          "y": [
           0,
           1
          ]
         },
         "scope": "usa"
        },
        "legend": {
         "tracegroupgap": 0
        },
        "margin": {
         "t": 60
        },
        "template": {
         "data": {
          "bar": [
           {
            "error_x": {
             "color": "#2a3f5f"
            },
            "error_y": {
             "color": "#2a3f5f"
            },
            "marker": {
             "line": {
              "color": "#E5ECF6",
              "width": 0.5
             },
             "pattern": {
              "fillmode": "overlay",
              "size": 10,
              "solidity": 0.2
             }
            },
            "type": "bar"
           }
          ],
          "barpolar": [
           {
            "marker": {
             "line": {
              "color": "#E5ECF6",
              "width": 0.5
             },
             "pattern": {
              "fillmode": "overlay",
              "size": 10,
              "solidity": 0.2
             }
            },
            "type": "barpolar"
           }
          ],
          "carpet": [
           {
            "aaxis": {
             "endlinecolor": "#2a3f5f",
             "gridcolor": "white",
             "linecolor": "white",
             "minorgridcolor": "white",
             "startlinecolor": "#2a3f5f"
            },
            "baxis": {
             "endlinecolor": "#2a3f5f",
             "gridcolor": "white",
             "linecolor": "white",
             "minorgridcolor": "white",
             "startlinecolor": "#2a3f5f"
            },
            "type": "carpet"
           }
          ],
          "choropleth": [
           {
            "colorbar": {
             "outlinewidth": 0,
             "ticks": ""
            },
            "type": "choropleth"
           }
          ],
          "contour": [
           {
            "colorbar": {
             "outlinewidth": 0,
             "ticks": ""
            },
            "colorscale": [
             [
              0,
              "#0d0887"
             ],
             [
              0.1111111111111111,
              "#46039f"
             ],
             [
              0.2222222222222222,
              "#7201a8"
             ],
             [
              0.3333333333333333,
              "#9c179e"
             ],
             [
              0.4444444444444444,
              "#bd3786"
             ],
             [
              0.5555555555555556,
              "#d8576b"
             ],
             [
              0.6666666666666666,
              "#ed7953"
             ],
             [
              0.7777777777777778,
              "#fb9f3a"
             ],
             [
              0.8888888888888888,
              "#fdca26"
             ],
             [
              1,
              "#f0f921"
             ]
            ],
            "type": "contour"
           }
          ],
          "contourcarpet": [
           {
            "colorbar": {
             "outlinewidth": 0,
             "ticks": ""
            },
            "type": "contourcarpet"
           }
          ],
          "heatmap": [
           {
            "colorbar": {
             "outlinewidth": 0,
             "ticks": ""
            },
            "colorscale": [
             [
              0,
              "#0d0887"
             ],
             [
              0.1111111111111111,
              "#46039f"
             ],
             [
              0.2222222222222222,
              "#7201a8"
             ],
             [
              0.3333333333333333,
              "#9c179e"
             ],
             [
              0.4444444444444444,
              "#bd3786"
             ],
             [
              0.5555555555555556,
              "#d8576b"
             ],
             [
              0.6666666666666666,
              "#ed7953"
             ],
             [
              0.7777777777777778,
              "#fb9f3a"
             ],
             [
              0.8888888888888888,
              "#fdca26"
             ],
             [
              1,
              "#f0f921"
             ]
            ],
            "type": "heatmap"
           }
          ],
          "heatmapgl": [
           {
            "colorbar": {
             "outlinewidth": 0,
             "ticks": ""
            },
            "colorscale": [
             [
              0,
              "#0d0887"
             ],
             [
              0.1111111111111111,
              "#46039f"
             ],
             [
              0.2222222222222222,
              "#7201a8"
             ],
             [
              0.3333333333333333,
              "#9c179e"
             ],
             [
              0.4444444444444444,
              "#bd3786"
             ],
             [
              0.5555555555555556,
              "#d8576b"
             ],
             [
              0.6666666666666666,
              "#ed7953"
             ],
             [
              0.7777777777777778,
              "#fb9f3a"
             ],
             [
              0.8888888888888888,
              "#fdca26"
             ],
             [
              1,
              "#f0f921"
             ]
            ],
            "type": "heatmapgl"
           }
          ],
          "histogram": [
           {
            "marker": {
             "pattern": {
              "fillmode": "overlay",
              "size": 10,
              "solidity": 0.2
             }
            },
            "type": "histogram"
           }
          ],
          "histogram2d": [
           {
            "colorbar": {
             "outlinewidth": 0,
             "ticks": ""
            },
            "colorscale": [
             [
              0,
              "#0d0887"
             ],
             [
              0.1111111111111111,
              "#46039f"
             ],
             [
              0.2222222222222222,
              "#7201a8"
             ],
             [
              0.3333333333333333,
              "#9c179e"
             ],
             [
              0.4444444444444444,
              "#bd3786"
             ],
             [
              0.5555555555555556,
              "#d8576b"
             ],
             [
              0.6666666666666666,
              "#ed7953"
             ],
             [
              0.7777777777777778,
              "#fb9f3a"
             ],
             [
              0.8888888888888888,
              "#fdca26"
             ],
             [
              1,
              "#f0f921"
             ]
            ],
            "type": "histogram2d"
           }
          ],
          "histogram2dcontour": [
           {
            "colorbar": {
             "outlinewidth": 0,
             "ticks": ""
            },
            "colorscale": [
             [
              0,
              "#0d0887"
             ],
             [
              0.1111111111111111,
              "#46039f"
             ],
             [
              0.2222222222222222,
              "#7201a8"
             ],
             [
              0.3333333333333333,
              "#9c179e"
             ],
             [
              0.4444444444444444,
              "#bd3786"
             ],
             [
              0.5555555555555556,
              "#d8576b"
             ],
             [
              0.6666666666666666,
              "#ed7953"
             ],
             [
              0.7777777777777778,
              "#fb9f3a"
             ],
             [
              0.8888888888888888,
              "#fdca26"
             ],
             [
              1,
              "#f0f921"
             ]
            ],
            "type": "histogram2dcontour"
           }
          ],
          "mesh3d": [
           {
            "colorbar": {
             "outlinewidth": 0,
             "ticks": ""
            },
            "type": "mesh3d"
           }
          ],
          "parcoords": [
           {
            "line": {
             "colorbar": {
              "outlinewidth": 0,
              "ticks": ""
             }
            },
            "type": "parcoords"
           }
          ],
          "pie": [
           {
            "automargin": true,
            "type": "pie"
           }
          ],
          "scatter": [
           {
            "marker": {
             "colorbar": {
              "outlinewidth": 0,
              "ticks": ""
             }
            },
            "type": "scatter"
           }
          ],
          "scatter3d": [
           {
            "line": {
             "colorbar": {
              "outlinewidth": 0,
              "ticks": ""
             }
            },
            "marker": {
             "colorbar": {
              "outlinewidth": 0,
              "ticks": ""
             }
            },
            "type": "scatter3d"
           }
          ],
          "scattercarpet": [
           {
            "marker": {
             "colorbar": {
              "outlinewidth": 0,
              "ticks": ""
             }
            },
            "type": "scattercarpet"
           }
          ],
          "scattergeo": [
           {
            "marker": {
             "colorbar": {
              "outlinewidth": 0,
              "ticks": ""
             }
            },
            "type": "scattergeo"
           }
          ],
          "scattergl": [
           {
            "marker": {
             "colorbar": {
              "outlinewidth": 0,
              "ticks": ""
             }
            },
            "type": "scattergl"
           }
          ],
          "scattermapbox": [
           {
            "marker": {
             "colorbar": {
              "outlinewidth": 0,
              "ticks": ""
             }
            },
            "type": "scattermapbox"
           }
          ],
          "scatterpolar": [
           {
            "marker": {
             "colorbar": {
              "outlinewidth": 0,
              "ticks": ""
             }
            },
            "type": "scatterpolar"
           }
          ],
          "scatterpolargl": [
           {
            "marker": {
             "colorbar": {
              "outlinewidth": 0,
              "ticks": ""
             }
            },
            "type": "scatterpolargl"
           }
          ],
          "scatterternary": [
           {
            "marker": {
             "colorbar": {
              "outlinewidth": 0,
              "ticks": ""
             }
            },
            "type": "scatterternary"
           }
          ],
          "surface": [
           {
            "colorbar": {
             "outlinewidth": 0,
             "ticks": ""
            },
            "colorscale": [
             [
              0,
              "#0d0887"
             ],
             [
              0.1111111111111111,
              "#46039f"
             ],
             [
              0.2222222222222222,
              "#7201a8"
             ],
             [
              0.3333333333333333,
              "#9c179e"
             ],
             [
              0.4444444444444444,
              "#bd3786"
             ],
             [
              0.5555555555555556,
              "#d8576b"
             ],
             [
              0.6666666666666666,
              "#ed7953"
             ],
             [
              0.7777777777777778,
              "#fb9f3a"
             ],
             [
              0.8888888888888888,
              "#fdca26"
             ],
             [
              1,
              "#f0f921"
             ]
            ],
            "type": "surface"
           }
          ],
          "table": [
           {
            "cells": {
             "fill": {
              "color": "#EBF0F8"
             },
             "line": {
              "color": "white"
             }
            },
            "header": {
             "fill": {
              "color": "#C8D4E3"
             },
             "line": {
              "color": "white"
             }
            },
            "type": "table"
           }
          ]
         },
         "layout": {
          "annotationdefaults": {
           "arrowcolor": "#2a3f5f",
           "arrowhead": 0,
           "arrowwidth": 1
          },
          "autotypenumbers": "strict",
          "coloraxis": {
           "colorbar": {
            "outlinewidth": 0,
            "ticks": ""
           }
          },
          "colorscale": {
           "diverging": [
            [
             0,
             "#8e0152"
            ],
            [
             0.1,
             "#c51b7d"
            ],
            [
             0.2,
             "#de77ae"
            ],
            [
             0.3,
             "#f1b6da"
            ],
            [
             0.4,
             "#fde0ef"
            ],
            [
             0.5,
             "#f7f7f7"
            ],
            [
             0.6,
             "#e6f5d0"
            ],
            [
             0.7,
             "#b8e186"
            ],
            [
             0.8,
             "#7fbc41"
            ],
            [
             0.9,
             "#4d9221"
            ],
            [
             1,
             "#276419"
            ]
           ],
           "sequential": [
            [
             0,
             "#0d0887"
            ],
            [
             0.1111111111111111,
             "#46039f"
            ],
            [
             0.2222222222222222,
             "#7201a8"
            ],
            [
             0.3333333333333333,
             "#9c179e"
            ],
            [
             0.4444444444444444,
             "#bd3786"
            ],
            [
             0.5555555555555556,
             "#d8576b"
            ],
            [
             0.6666666666666666,
             "#ed7953"
            ],
            [
             0.7777777777777778,
             "#fb9f3a"
            ],
            [
             0.8888888888888888,
             "#fdca26"
            ],
            [
             1,
             "#f0f921"
            ]
           ],
           "sequentialminus": [
            [
             0,
             "#0d0887"
            ],
            [
             0.1111111111111111,
             "#46039f"
            ],
            [
             0.2222222222222222,
             "#7201a8"
            ],
            [
             0.3333333333333333,
             "#9c179e"
            ],
            [
             0.4444444444444444,
             "#bd3786"
            ],
            [
             0.5555555555555556,
             "#d8576b"
            ],
            [
             0.6666666666666666,
             "#ed7953"
            ],
            [
             0.7777777777777778,
             "#fb9f3a"
            ],
            [
             0.8888888888888888,
             "#fdca26"
            ],
            [
             1,
             "#f0f921"
            ]
           ]
          },
          "colorway": [
           "#636efa",
           "#EF553B",
           "#00cc96",
           "#ab63fa",
           "#FFA15A",
           "#19d3f3",
           "#FF6692",
           "#B6E880",
           "#FF97FF",
           "#FECB52"
          ],
          "font": {
           "color": "#2a3f5f"
          },
          "geo": {
           "bgcolor": "white",
           "lakecolor": "white",
           "landcolor": "#E5ECF6",
           "showlakes": true,
           "showland": true,
           "subunitcolor": "white"
          },
          "hoverlabel": {
           "align": "left"
          },
          "hovermode": "closest",
          "mapbox": {
           "style": "light"
          },
          "paper_bgcolor": "white",
          "plot_bgcolor": "#E5ECF6",
          "polar": {
           "angularaxis": {
            "gridcolor": "white",
            "linecolor": "white",
            "ticks": ""
           },
           "bgcolor": "#E5ECF6",
           "radialaxis": {
            "gridcolor": "white",
            "linecolor": "white",
            "ticks": ""
           }
          },
          "scene": {
           "xaxis": {
            "backgroundcolor": "#E5ECF6",
            "gridcolor": "white",
            "gridwidth": 2,
            "linecolor": "white",
            "showbackground": true,
            "ticks": "",
            "zerolinecolor": "white"
           },
           "yaxis": {
            "backgroundcolor": "#E5ECF6",
            "gridcolor": "white",
            "gridwidth": 2,
            "linecolor": "white",
            "showbackground": true,
            "ticks": "",
            "zerolinecolor": "white"
           },
           "zaxis": {
            "backgroundcolor": "#E5ECF6",
            "gridcolor": "white",
            "gridwidth": 2,
            "linecolor": "white",
            "showbackground": true,
            "ticks": "",
            "zerolinecolor": "white"
           }
          },
          "shapedefaults": {
           "line": {
            "color": "#2a3f5f"
           }
          },
          "ternary": {
           "aaxis": {
            "gridcolor": "white",
            "linecolor": "white",
            "ticks": ""
           },
           "baxis": {
            "gridcolor": "white",
            "linecolor": "white",
            "ticks": ""
           },
           "bgcolor": "#E5ECF6",
           "caxis": {
            "gridcolor": "white",
            "linecolor": "white",
            "ticks": ""
           }
          },
          "title": {
           "x": 0.05
          },
          "xaxis": {
           "automargin": true,
           "gridcolor": "white",
           "linecolor": "white",
           "ticks": "",
           "title": {
            "standoff": 15
           },
           "zerolinecolor": "white",
           "zerolinewidth": 2
          },
          "yaxis": {
           "automargin": true,
           "gridcolor": "white",
           "linecolor": "white",
           "ticks": "",
           "title": {
            "standoff": 15
           },
           "zerolinecolor": "white",
           "zerolinewidth": 2
          }
         }
        }
       }
      },
      "text/html": [
       "<div>                            <div id=\"8c580363-6dbd-433b-b040-768f1864931e\" class=\"plotly-graph-div\" style=\"height:525px; width:100%;\"></div>            <script type=\"text/javascript\">                require([\"plotly\"], function(Plotly) {                    window.PLOTLYENV=window.PLOTLYENV || {};                                    if (document.getElementById(\"8c580363-6dbd-433b-b040-768f1864931e\")) {                    Plotly.newPlot(                        \"8c580363-6dbd-433b-b040-768f1864931e\",                        [{\"coloraxis\":\"coloraxis\",\"geo\":\"geo\",\"hovertemplate\":\"StateAbbr=%{location}<br>2019 deployement rate=%{z}<extra></extra>\",\"locationmode\":\"USA-states\",\"locations\":[\"NY\",\"FL\",\"MN\",\"VT\",\"OR\",\"DE\",\"SD\",\"WA\",\"TN\",\"MO\",\"CO\",\"NM\",\"NE\",\"AR\",\"KS\",\"ID\",\"UT\",\"MD\",\"WV\",\"DC\",\"IN\",\"ND\",\"VA\",\"RI\",\"KY\",\"IA\",\"TX\",\"MA\",\"IL\",\"NC\",\"GA\",\"PA\",\"CT\",\"LA\",\"ME\",\"MS\",\"NJ\",\"MT\",\"AZ\",\"NV\",\"SC\",\"OH\",\"AL\",\"NH\",\"OK\",\"WI\",\"MI\",\"CA\",\"WY\"],\"name\":\"\",\"z\":[0.8686091572926216,0.741403687657514,0.7524877106133337,0.5296807857581338,0.5314183123877917,0.7777317022600041,0.7976799456767768,0.7225551453669711,0.6662446484199304,0.6855704160784714,0.6292685838199162,0.33443647729362014,0.563143903347263,0.40403628142268716,0.7532271584241408,0.5633133567357617,0.5297731487097724,0.6910779568596942,0.522985105533287,0.7971415398801291,0.8137087141621516,0.8276581270697995,0.5915097178771145,0.7806679639410666,0.7048468504131823,0.6853435305337326,0.692302054951101,0.7141097595042791,0.7788370826080602,0.8181025444051117,0.6022275203891634,0.6942675159235668,0.8501435378377579,0.5240477972286216,0.6310739664547311,0.4268241567604699,0.8261197726254216,0.5464592404450895,0.46946612266516596,0.4251934041496132,0.6730050355124568,0.8438348515371814,0.5895721183195516,0.6539918504412638,0.5394399482754777,0.7030099250877138,0.7223638540703579,0.7761203697836357,0.4231706185327827],\"type\":\"choropleth\"}],                        {\"template\":{\"data\":{\"bar\":[{\"error_x\":{\"color\":\"#2a3f5f\"},\"error_y\":{\"color\":\"#2a3f5f\"},\"marker\":{\"line\":{\"color\":\"#E5ECF6\",\"width\":0.5},\"pattern\":{\"fillmode\":\"overlay\",\"size\":10,\"solidity\":0.2}},\"type\":\"bar\"}],\"barpolar\":[{\"marker\":{\"line\":{\"color\":\"#E5ECF6\",\"width\":0.5},\"pattern\":{\"fillmode\":\"overlay\",\"size\":10,\"solidity\":0.2}},\"type\":\"barpolar\"}],\"carpet\":[{\"aaxis\":{\"endlinecolor\":\"#2a3f5f\",\"gridcolor\":\"white\",\"linecolor\":\"white\",\"minorgridcolor\":\"white\",\"startlinecolor\":\"#2a3f5f\"},\"baxis\":{\"endlinecolor\":\"#2a3f5f\",\"gridcolor\":\"white\",\"linecolor\":\"white\",\"minorgridcolor\":\"white\",\"startlinecolor\":\"#2a3f5f\"},\"type\":\"carpet\"}],\"choropleth\":[{\"colorbar\":{\"outlinewidth\":0,\"ticks\":\"\"},\"type\":\"choropleth\"}],\"contour\":[{\"colorbar\":{\"outlinewidth\":0,\"ticks\":\"\"},\"colorscale\":[[0.0,\"#0d0887\"],[0.1111111111111111,\"#46039f\"],[0.2222222222222222,\"#7201a8\"],[0.3333333333333333,\"#9c179e\"],[0.4444444444444444,\"#bd3786\"],[0.5555555555555556,\"#d8576b\"],[0.6666666666666666,\"#ed7953\"],[0.7777777777777778,\"#fb9f3a\"],[0.8888888888888888,\"#fdca26\"],[1.0,\"#f0f921\"]],\"type\":\"contour\"}],\"contourcarpet\":[{\"colorbar\":{\"outlinewidth\":0,\"ticks\":\"\"},\"type\":\"contourcarpet\"}],\"heatmap\":[{\"colorbar\":{\"outlinewidth\":0,\"ticks\":\"\"},\"colorscale\":[[0.0,\"#0d0887\"],[0.1111111111111111,\"#46039f\"],[0.2222222222222222,\"#7201a8\"],[0.3333333333333333,\"#9c179e\"],[0.4444444444444444,\"#bd3786\"],[0.5555555555555556,\"#d8576b\"],[0.6666666666666666,\"#ed7953\"],[0.7777777777777778,\"#fb9f3a\"],[0.8888888888888888,\"#fdca26\"],[1.0,\"#f0f921\"]],\"type\":\"heatmap\"}],\"heatmapgl\":[{\"colorbar\":{\"outlinewidth\":0,\"ticks\":\"\"},\"colorscale\":[[0.0,\"#0d0887\"],[0.1111111111111111,\"#46039f\"],[0.2222222222222222,\"#7201a8\"],[0.3333333333333333,\"#9c179e\"],[0.4444444444444444,\"#bd3786\"],[0.5555555555555556,\"#d8576b\"],[0.6666666666666666,\"#ed7953\"],[0.7777777777777778,\"#fb9f3a\"],[0.8888888888888888,\"#fdca26\"],[1.0,\"#f0f921\"]],\"type\":\"heatmapgl\"}],\"histogram\":[{\"marker\":{\"pattern\":{\"fillmode\":\"overlay\",\"size\":10,\"solidity\":0.2}},\"type\":\"histogram\"}],\"histogram2d\":[{\"colorbar\":{\"outlinewidth\":0,\"ticks\":\"\"},\"colorscale\":[[0.0,\"#0d0887\"],[0.1111111111111111,\"#46039f\"],[0.2222222222222222,\"#7201a8\"],[0.3333333333333333,\"#9c179e\"],[0.4444444444444444,\"#bd3786\"],[0.5555555555555556,\"#d8576b\"],[0.6666666666666666,\"#ed7953\"],[0.7777777777777778,\"#fb9f3a\"],[0.8888888888888888,\"#fdca26\"],[1.0,\"#f0f921\"]],\"type\":\"histogram2d\"}],\"histogram2dcontour\":[{\"colorbar\":{\"outlinewidth\":0,\"ticks\":\"\"},\"colorscale\":[[0.0,\"#0d0887\"],[0.1111111111111111,\"#46039f\"],[0.2222222222222222,\"#7201a8\"],[0.3333333333333333,\"#9c179e\"],[0.4444444444444444,\"#bd3786\"],[0.5555555555555556,\"#d8576b\"],[0.6666666666666666,\"#ed7953\"],[0.7777777777777778,\"#fb9f3a\"],[0.8888888888888888,\"#fdca26\"],[1.0,\"#f0f921\"]],\"type\":\"histogram2dcontour\"}],\"mesh3d\":[{\"colorbar\":{\"outlinewidth\":0,\"ticks\":\"\"},\"type\":\"mesh3d\"}],\"parcoords\":[{\"line\":{\"colorbar\":{\"outlinewidth\":0,\"ticks\":\"\"}},\"type\":\"parcoords\"}],\"pie\":[{\"automargin\":true,\"type\":\"pie\"}],\"scatter\":[{\"marker\":{\"colorbar\":{\"outlinewidth\":0,\"ticks\":\"\"}},\"type\":\"scatter\"}],\"scatter3d\":[{\"line\":{\"colorbar\":{\"outlinewidth\":0,\"ticks\":\"\"}},\"marker\":{\"colorbar\":{\"outlinewidth\":0,\"ticks\":\"\"}},\"type\":\"scatter3d\"}],\"scattercarpet\":[{\"marker\":{\"colorbar\":{\"outlinewidth\":0,\"ticks\":\"\"}},\"type\":\"scattercarpet\"}],\"scattergeo\":[{\"marker\":{\"colorbar\":{\"outlinewidth\":0,\"ticks\":\"\"}},\"type\":\"scattergeo\"}],\"scattergl\":[{\"marker\":{\"colorbar\":{\"outlinewidth\":0,\"ticks\":\"\"}},\"type\":\"scattergl\"}],\"scattermapbox\":[{\"marker\":{\"colorbar\":{\"outlinewidth\":0,\"ticks\":\"\"}},\"type\":\"scattermapbox\"}],\"scatterpolar\":[{\"marker\":{\"colorbar\":{\"outlinewidth\":0,\"ticks\":\"\"}},\"type\":\"scatterpolar\"}],\"scatterpolargl\":[{\"marker\":{\"colorbar\":{\"outlinewidth\":0,\"ticks\":\"\"}},\"type\":\"scatterpolargl\"}],\"scatterternary\":[{\"marker\":{\"colorbar\":{\"outlinewidth\":0,\"ticks\":\"\"}},\"type\":\"scatterternary\"}],\"surface\":[{\"colorbar\":{\"outlinewidth\":0,\"ticks\":\"\"},\"colorscale\":[[0.0,\"#0d0887\"],[0.1111111111111111,\"#46039f\"],[0.2222222222222222,\"#7201a8\"],[0.3333333333333333,\"#9c179e\"],[0.4444444444444444,\"#bd3786\"],[0.5555555555555556,\"#d8576b\"],[0.6666666666666666,\"#ed7953\"],[0.7777777777777778,\"#fb9f3a\"],[0.8888888888888888,\"#fdca26\"],[1.0,\"#f0f921\"]],\"type\":\"surface\"}],\"table\":[{\"cells\":{\"fill\":{\"color\":\"#EBF0F8\"},\"line\":{\"color\":\"white\"}},\"header\":{\"fill\":{\"color\":\"#C8D4E3\"},\"line\":{\"color\":\"white\"}},\"type\":\"table\"}]},\"layout\":{\"annotationdefaults\":{\"arrowcolor\":\"#2a3f5f\",\"arrowhead\":0,\"arrowwidth\":1},\"autotypenumbers\":\"strict\",\"coloraxis\":{\"colorbar\":{\"outlinewidth\":0,\"ticks\":\"\"}},\"colorscale\":{\"diverging\":[[0,\"#8e0152\"],[0.1,\"#c51b7d\"],[0.2,\"#de77ae\"],[0.3,\"#f1b6da\"],[0.4,\"#fde0ef\"],[0.5,\"#f7f7f7\"],[0.6,\"#e6f5d0\"],[0.7,\"#b8e186\"],[0.8,\"#7fbc41\"],[0.9,\"#4d9221\"],[1,\"#276419\"]],\"sequential\":[[0.0,\"#0d0887\"],[0.1111111111111111,\"#46039f\"],[0.2222222222222222,\"#7201a8\"],[0.3333333333333333,\"#9c179e\"],[0.4444444444444444,\"#bd3786\"],[0.5555555555555556,\"#d8576b\"],[0.6666666666666666,\"#ed7953\"],[0.7777777777777778,\"#fb9f3a\"],[0.8888888888888888,\"#fdca26\"],[1.0,\"#f0f921\"]],\"sequentialminus\":[[0.0,\"#0d0887\"],[0.1111111111111111,\"#46039f\"],[0.2222222222222222,\"#7201a8\"],[0.3333333333333333,\"#9c179e\"],[0.4444444444444444,\"#bd3786\"],[0.5555555555555556,\"#d8576b\"],[0.6666666666666666,\"#ed7953\"],[0.7777777777777778,\"#fb9f3a\"],[0.8888888888888888,\"#fdca26\"],[1.0,\"#f0f921\"]]},\"colorway\":[\"#636efa\",\"#EF553B\",\"#00cc96\",\"#ab63fa\",\"#FFA15A\",\"#19d3f3\",\"#FF6692\",\"#B6E880\",\"#FF97FF\",\"#FECB52\"],\"font\":{\"color\":\"#2a3f5f\"},\"geo\":{\"bgcolor\":\"white\",\"lakecolor\":\"white\",\"landcolor\":\"#E5ECF6\",\"showlakes\":true,\"showland\":true,\"subunitcolor\":\"white\"},\"hoverlabel\":{\"align\":\"left\"},\"hovermode\":\"closest\",\"mapbox\":{\"style\":\"light\"},\"paper_bgcolor\":\"white\",\"plot_bgcolor\":\"#E5ECF6\",\"polar\":{\"angularaxis\":{\"gridcolor\":\"white\",\"linecolor\":\"white\",\"ticks\":\"\"},\"bgcolor\":\"#E5ECF6\",\"radialaxis\":{\"gridcolor\":\"white\",\"linecolor\":\"white\",\"ticks\":\"\"}},\"scene\":{\"xaxis\":{\"backgroundcolor\":\"#E5ECF6\",\"gridcolor\":\"white\",\"gridwidth\":2,\"linecolor\":\"white\",\"showbackground\":true,\"ticks\":\"\",\"zerolinecolor\":\"white\"},\"yaxis\":{\"backgroundcolor\":\"#E5ECF6\",\"gridcolor\":\"white\",\"gridwidth\":2,\"linecolor\":\"white\",\"showbackground\":true,\"ticks\":\"\",\"zerolinecolor\":\"white\"},\"zaxis\":{\"backgroundcolor\":\"#E5ECF6\",\"gridcolor\":\"white\",\"gridwidth\":2,\"linecolor\":\"white\",\"showbackground\":true,\"ticks\":\"\",\"zerolinecolor\":\"white\"}},\"shapedefaults\":{\"line\":{\"color\":\"#2a3f5f\"}},\"ternary\":{\"aaxis\":{\"gridcolor\":\"white\",\"linecolor\":\"white\",\"ticks\":\"\"},\"baxis\":{\"gridcolor\":\"white\",\"linecolor\":\"white\",\"ticks\":\"\"},\"bgcolor\":\"#E5ECF6\",\"caxis\":{\"gridcolor\":\"white\",\"linecolor\":\"white\",\"ticks\":\"\"}},\"title\":{\"x\":0.05},\"xaxis\":{\"automargin\":true,\"gridcolor\":\"white\",\"linecolor\":\"white\",\"ticks\":\"\",\"title\":{\"standoff\":15},\"zerolinecolor\":\"white\",\"zerolinewidth\":2},\"yaxis\":{\"automargin\":true,\"gridcolor\":\"white\",\"linecolor\":\"white\",\"ticks\":\"\",\"title\":{\"standoff\":15},\"zerolinecolor\":\"white\",\"zerolinewidth\":2}}},\"geo\":{\"domain\":{\"x\":[0.0,1.0],\"y\":[0.0,1.0]},\"center\":{},\"scope\":\"usa\"},\"coloraxis\":{\"colorbar\":{\"title\":{\"text\":\"2019 deployement rate\"}},\"colorscale\":[[0.0,\"#fde725\"],[0.1111111111111111,\"#b5de2b\"],[0.2222222222222222,\"#6ece58\"],[0.3333333333333333,\"#35b779\"],[0.4444444444444444,\"#1f9e89\"],[0.5555555555555556,\"#26828e\"],[0.6666666666666666,\"#31688e\"],[0.7777777777777778,\"#3e4989\"],[0.8888888888888888,\"#482878\"],[1.0,\"#440154\"]]},\"legend\":{\"tracegroupgap\":0},\"margin\":{\"t\":60}},                        {\"responsive\": true}                    ).then(function(){\n",
       "                            \n",
       "var gd = document.getElementById('8c580363-6dbd-433b-b040-768f1864931e');\n",
       "var x = new MutationObserver(function (mutations, observer) {{\n",
       "        var display = window.getComputedStyle(gd).display;\n",
       "        if (!display || display === 'none') {{\n",
       "            console.log([gd, 'removed!']);\n",
       "            Plotly.purge(gd);\n",
       "            observer.disconnect();\n",
       "        }}\n",
       "}});\n",
       "\n",
       "// Listen for the removal of the full notebook cells\n",
       "var notebookContainer = gd.closest('#notebook-container');\n",
       "if (notebookContainer) {{\n",
       "    x.observe(notebookContainer, {childList: true});\n",
       "}}\n",
       "\n",
       "// Listen for the clearing of the current output cell\n",
       "var outputEl = gd.closest('.output');\n",
       "if (outputEl) {{\n",
       "    x.observe(outputEl, {childList: true});\n",
       "}}\n",
       "\n",
       "                        })                };                });            </script>        </div>"
      ]
     },
     "metadata": {},
     "output_type": "display_data"
    }
   ],
   "source": [
    "#2019\n",
    "fig = px.choropleth(df,\n",
    "                    locations='StateAbbr', \n",
    "                    locationmode=\"USA-states\", \n",
    "                    scope=\"usa\",\n",
    "                    color='2019 deployement rate',\n",
    "                    color_continuous_scale=\"Viridis_r\", \n",
    "                    \n",
    "                    )\n",
    "fig.show()"
   ]
  },
  {
   "cell_type": "code",
   "execution_count": 103,
   "id": "ee43db80",
   "metadata": {},
   "outputs": [
    {
     "data": {
      "application/vnd.plotly.v1+json": {
       "config": {
        "plotlyServerURL": "https://plot.ly"
       },
       "data": [
        {
         "coloraxis": "coloraxis",
         "geo": "geo",
         "hovertemplate": "StateAbbr=%{location}<br>2020 deployement rate=%{z}<extra></extra>",
         "locationmode": "USA-states",
         "locations": [
          "NY",
          "FL",
          "MN",
          "VT",
          "OR",
          "DE",
          "SD",
          "WA",
          "TN",
          "MO",
          "CO",
          "NM",
          "NE",
          "AR",
          "KS",
          "ID",
          "UT",
          "MD",
          "WV",
          "DC",
          "IN",
          "ND",
          "VA",
          "RI",
          "KY",
          "IA",
          "TX",
          "MA",
          "IL",
          "NC",
          "GA",
          "PA",
          "CT",
          "LA",
          "ME",
          "MS",
          "NJ",
          "MT",
          "AZ",
          "NV",
          "SC",
          "OH",
          "AL",
          "NH",
          "OK",
          "WI",
          "MI",
          "CA",
          "WY"
         ],
         "name": "",
         "type": "choropleth",
         "z": [
          0.8411595543865962,
          0.75067752914975,
          0.83930448038125,
          0.5408839779005525,
          0.5900946490964851,
          0.7662036077130416,
          0.9296966953372566,
          0.721200159530408,
          0.6898998817238334,
          0.7413560752695997,
          0.795147765365907,
          0.40205445735399653,
          0.864242417973437,
          0.46549881585942826,
          0.8420871751886002,
          0.6514595373793729,
          0.6402959984749493,
          0.676626711739313,
          0.5073363013799937,
          0.7828492392807745,
          0.8605164918692033,
          0.8571118869095231,
          0.6162715826456981,
          0.7821770382431198,
          0.7179103369785739,
          0.8277972473114297,
          0.7607541201293765,
          0.7088592325469183,
          0.8427031982885768,
          0.8060051144169115,
          0.607775708897027,
          0.7428530761840373,
          0.8025244902187102,
          0.5506855077355012,
          0.6422796973445726,
          0.4298513197266239,
          0.7571054555746869,
          0.5560443880019351,
          0.5632029329736082,
          0.5112138919775722,
          0.6916518239989445,
          0.8742719190680565,
          0.5986458737998779,
          0.6580871060875976,
          0.643256861302477,
          0.7239703511710971,
          0.7260105794443518,
          0.7984031430200874,
          0.47805206254930166
         ]
        }
       ],
       "layout": {
        "coloraxis": {
         "colorbar": {
          "title": {
           "text": "2020 deployement rate"
          }
         },
         "colorscale": [
          [
           0,
           "#fde725"
          ],
          [
           0.1111111111111111,
           "#b5de2b"
          ],
          [
           0.2222222222222222,
           "#6ece58"
          ],
          [
           0.3333333333333333,
           "#35b779"
          ],
          [
           0.4444444444444444,
           "#1f9e89"
          ],
          [
           0.5555555555555556,
           "#26828e"
          ],
          [
           0.6666666666666666,
           "#31688e"
          ],
          [
           0.7777777777777778,
           "#3e4989"
          ],
          [
           0.8888888888888888,
           "#482878"
          ],
          [
           1,
           "#440154"
          ]
         ]
        },
        "geo": {
         "center": {},
         "domain": {
          "x": [
           0,
           1
          ],
          "y": [
           0,
           1
          ]
         },
         "scope": "usa"
        },
        "legend": {
         "tracegroupgap": 0
        },
        "margin": {
         "t": 60
        },
        "template": {
         "data": {
          "bar": [
           {
            "error_x": {
             "color": "#2a3f5f"
            },
            "error_y": {
             "color": "#2a3f5f"
            },
            "marker": {
             "line": {
              "color": "#E5ECF6",
              "width": 0.5
             },
             "pattern": {
              "fillmode": "overlay",
              "size": 10,
              "solidity": 0.2
             }
            },
            "type": "bar"
           }
          ],
          "barpolar": [
           {
            "marker": {
             "line": {
              "color": "#E5ECF6",
              "width": 0.5
             },
             "pattern": {
              "fillmode": "overlay",
              "size": 10,
              "solidity": 0.2
             }
            },
            "type": "barpolar"
           }
          ],
          "carpet": [
           {
            "aaxis": {
             "endlinecolor": "#2a3f5f",
             "gridcolor": "white",
             "linecolor": "white",
             "minorgridcolor": "white",
             "startlinecolor": "#2a3f5f"
            },
            "baxis": {
             "endlinecolor": "#2a3f5f",
             "gridcolor": "white",
             "linecolor": "white",
             "minorgridcolor": "white",
             "startlinecolor": "#2a3f5f"
            },
            "type": "carpet"
           }
          ],
          "choropleth": [
           {
            "colorbar": {
             "outlinewidth": 0,
             "ticks": ""
            },
            "type": "choropleth"
           }
          ],
          "contour": [
           {
            "colorbar": {
             "outlinewidth": 0,
             "ticks": ""
            },
            "colorscale": [
             [
              0,
              "#0d0887"
             ],
             [
              0.1111111111111111,
              "#46039f"
             ],
             [
              0.2222222222222222,
              "#7201a8"
             ],
             [
              0.3333333333333333,
              "#9c179e"
             ],
             [
              0.4444444444444444,
              "#bd3786"
             ],
             [
              0.5555555555555556,
              "#d8576b"
             ],
             [
              0.6666666666666666,
              "#ed7953"
             ],
             [
              0.7777777777777778,
              "#fb9f3a"
             ],
             [
              0.8888888888888888,
              "#fdca26"
             ],
             [
              1,
              "#f0f921"
             ]
            ],
            "type": "contour"
           }
          ],
          "contourcarpet": [
           {
            "colorbar": {
             "outlinewidth": 0,
             "ticks": ""
            },
            "type": "contourcarpet"
           }
          ],
          "heatmap": [
           {
            "colorbar": {
             "outlinewidth": 0,
             "ticks": ""
            },
            "colorscale": [
             [
              0,
              "#0d0887"
             ],
             [
              0.1111111111111111,
              "#46039f"
             ],
             [
              0.2222222222222222,
              "#7201a8"
             ],
             [
              0.3333333333333333,
              "#9c179e"
             ],
             [
              0.4444444444444444,
              "#bd3786"
             ],
             [
              0.5555555555555556,
              "#d8576b"
             ],
             [
              0.6666666666666666,
              "#ed7953"
             ],
             [
              0.7777777777777778,
              "#fb9f3a"
             ],
             [
              0.8888888888888888,
              "#fdca26"
             ],
             [
              1,
              "#f0f921"
             ]
            ],
            "type": "heatmap"
           }
          ],
          "heatmapgl": [
           {
            "colorbar": {
             "outlinewidth": 0,
             "ticks": ""
            },
            "colorscale": [
             [
              0,
              "#0d0887"
             ],
             [
              0.1111111111111111,
              "#46039f"
             ],
             [
              0.2222222222222222,
              "#7201a8"
             ],
             [
              0.3333333333333333,
              "#9c179e"
             ],
             [
              0.4444444444444444,
              "#bd3786"
             ],
             [
              0.5555555555555556,
              "#d8576b"
             ],
             [
              0.6666666666666666,
              "#ed7953"
             ],
             [
              0.7777777777777778,
              "#fb9f3a"
             ],
             [
              0.8888888888888888,
              "#fdca26"
             ],
             [
              1,
              "#f0f921"
             ]
            ],
            "type": "heatmapgl"
           }
          ],
          "histogram": [
           {
            "marker": {
             "pattern": {
              "fillmode": "overlay",
              "size": 10,
              "solidity": 0.2
             }
            },
            "type": "histogram"
           }
          ],
          "histogram2d": [
           {
            "colorbar": {
             "outlinewidth": 0,
             "ticks": ""
            },
            "colorscale": [
             [
              0,
              "#0d0887"
             ],
             [
              0.1111111111111111,
              "#46039f"
             ],
             [
              0.2222222222222222,
              "#7201a8"
             ],
             [
              0.3333333333333333,
              "#9c179e"
             ],
             [
              0.4444444444444444,
              "#bd3786"
             ],
             [
              0.5555555555555556,
              "#d8576b"
             ],
             [
              0.6666666666666666,
              "#ed7953"
             ],
             [
              0.7777777777777778,
              "#fb9f3a"
             ],
             [
              0.8888888888888888,
              "#fdca26"
             ],
             [
              1,
              "#f0f921"
             ]
            ],
            "type": "histogram2d"
           }
          ],
          "histogram2dcontour": [
           {
            "colorbar": {
             "outlinewidth": 0,
             "ticks": ""
            },
            "colorscale": [
             [
              0,
              "#0d0887"
             ],
             [
              0.1111111111111111,
              "#46039f"
             ],
             [
              0.2222222222222222,
              "#7201a8"
             ],
             [
              0.3333333333333333,
              "#9c179e"
             ],
             [
              0.4444444444444444,
              "#bd3786"
             ],
             [
              0.5555555555555556,
              "#d8576b"
             ],
             [
              0.6666666666666666,
              "#ed7953"
             ],
             [
              0.7777777777777778,
              "#fb9f3a"
             ],
             [
              0.8888888888888888,
              "#fdca26"
             ],
             [
              1,
              "#f0f921"
             ]
            ],
            "type": "histogram2dcontour"
           }
          ],
          "mesh3d": [
           {
            "colorbar": {
             "outlinewidth": 0,
             "ticks": ""
            },
            "type": "mesh3d"
           }
          ],
          "parcoords": [
           {
            "line": {
             "colorbar": {
              "outlinewidth": 0,
              "ticks": ""
             }
            },
            "type": "parcoords"
           }
          ],
          "pie": [
           {
            "automargin": true,
            "type": "pie"
           }
          ],
          "scatter": [
           {
            "marker": {
             "colorbar": {
              "outlinewidth": 0,
              "ticks": ""
             }
            },
            "type": "scatter"
           }
          ],
          "scatter3d": [
           {
            "line": {
             "colorbar": {
              "outlinewidth": 0,
              "ticks": ""
             }
            },
            "marker": {
             "colorbar": {
              "outlinewidth": 0,
              "ticks": ""
             }
            },
            "type": "scatter3d"
           }
          ],
          "scattercarpet": [
           {
            "marker": {
             "colorbar": {
              "outlinewidth": 0,
              "ticks": ""
             }
            },
            "type": "scattercarpet"
           }
          ],
          "scattergeo": [
           {
            "marker": {
             "colorbar": {
              "outlinewidth": 0,
              "ticks": ""
             }
            },
            "type": "scattergeo"
           }
          ],
          "scattergl": [
           {
            "marker": {
             "colorbar": {
              "outlinewidth": 0,
              "ticks": ""
             }
            },
            "type": "scattergl"
           }
          ],
          "scattermapbox": [
           {
            "marker": {
             "colorbar": {
              "outlinewidth": 0,
              "ticks": ""
             }
            },
            "type": "scattermapbox"
           }
          ],
          "scatterpolar": [
           {
            "marker": {
             "colorbar": {
              "outlinewidth": 0,
              "ticks": ""
             }
            },
            "type": "scatterpolar"
           }
          ],
          "scatterpolargl": [
           {
            "marker": {
             "colorbar": {
              "outlinewidth": 0,
              "ticks": ""
             }
            },
            "type": "scatterpolargl"
           }
          ],
          "scatterternary": [
           {
            "marker": {
             "colorbar": {
              "outlinewidth": 0,
              "ticks": ""
             }
            },
            "type": "scatterternary"
           }
          ],
          "surface": [
           {
            "colorbar": {
             "outlinewidth": 0,
             "ticks": ""
            },
            "colorscale": [
             [
              0,
              "#0d0887"
             ],
             [
              0.1111111111111111,
              "#46039f"
             ],
             [
              0.2222222222222222,
              "#7201a8"
             ],
             [
              0.3333333333333333,
              "#9c179e"
             ],
             [
              0.4444444444444444,
              "#bd3786"
             ],
             [
              0.5555555555555556,
              "#d8576b"
             ],
             [
              0.6666666666666666,
              "#ed7953"
             ],
             [
              0.7777777777777778,
              "#fb9f3a"
             ],
             [
              0.8888888888888888,
              "#fdca26"
             ],
             [
              1,
              "#f0f921"
             ]
            ],
            "type": "surface"
           }
          ],
          "table": [
           {
            "cells": {
             "fill": {
              "color": "#EBF0F8"
             },
             "line": {
              "color": "white"
             }
            },
            "header": {
             "fill": {
              "color": "#C8D4E3"
             },
             "line": {
              "color": "white"
             }
            },
            "type": "table"
           }
          ]
         },
         "layout": {
          "annotationdefaults": {
           "arrowcolor": "#2a3f5f",
           "arrowhead": 0,
           "arrowwidth": 1
          },
          "autotypenumbers": "strict",
          "coloraxis": {
           "colorbar": {
            "outlinewidth": 0,
            "ticks": ""
           }
          },
          "colorscale": {
           "diverging": [
            [
             0,
             "#8e0152"
            ],
            [
             0.1,
             "#c51b7d"
            ],
            [
             0.2,
             "#de77ae"
            ],
            [
             0.3,
             "#f1b6da"
            ],
            [
             0.4,
             "#fde0ef"
            ],
            [
             0.5,
             "#f7f7f7"
            ],
            [
             0.6,
             "#e6f5d0"
            ],
            [
             0.7,
             "#b8e186"
            ],
            [
             0.8,
             "#7fbc41"
            ],
            [
             0.9,
             "#4d9221"
            ],
            [
             1,
             "#276419"
            ]
           ],
           "sequential": [
            [
             0,
             "#0d0887"
            ],
            [
             0.1111111111111111,
             "#46039f"
            ],
            [
             0.2222222222222222,
             "#7201a8"
            ],
            [
             0.3333333333333333,
             "#9c179e"
            ],
            [
             0.4444444444444444,
             "#bd3786"
            ],
            [
             0.5555555555555556,
             "#d8576b"
            ],
            [
             0.6666666666666666,
             "#ed7953"
            ],
            [
             0.7777777777777778,
             "#fb9f3a"
            ],
            [
             0.8888888888888888,
             "#fdca26"
            ],
            [
             1,
             "#f0f921"
            ]
           ],
           "sequentialminus": [
            [
             0,
             "#0d0887"
            ],
            [
             0.1111111111111111,
             "#46039f"
            ],
            [
             0.2222222222222222,
             "#7201a8"
            ],
            [
             0.3333333333333333,
             "#9c179e"
            ],
            [
             0.4444444444444444,
             "#bd3786"
            ],
            [
             0.5555555555555556,
             "#d8576b"
            ],
            [
             0.6666666666666666,
             "#ed7953"
            ],
            [
             0.7777777777777778,
             "#fb9f3a"
            ],
            [
             0.8888888888888888,
             "#fdca26"
            ],
            [
             1,
             "#f0f921"
            ]
           ]
          },
          "colorway": [
           "#636efa",
           "#EF553B",
           "#00cc96",
           "#ab63fa",
           "#FFA15A",
           "#19d3f3",
           "#FF6692",
           "#B6E880",
           "#FF97FF",
           "#FECB52"
          ],
          "font": {
           "color": "#2a3f5f"
          },
          "geo": {
           "bgcolor": "white",
           "lakecolor": "white",
           "landcolor": "#E5ECF6",
           "showlakes": true,
           "showland": true,
           "subunitcolor": "white"
          },
          "hoverlabel": {
           "align": "left"
          },
          "hovermode": "closest",
          "mapbox": {
           "style": "light"
          },
          "paper_bgcolor": "white",
          "plot_bgcolor": "#E5ECF6",
          "polar": {
           "angularaxis": {
            "gridcolor": "white",
            "linecolor": "white",
            "ticks": ""
           },
           "bgcolor": "#E5ECF6",
           "radialaxis": {
            "gridcolor": "white",
            "linecolor": "white",
            "ticks": ""
           }
          },
          "scene": {
           "xaxis": {
            "backgroundcolor": "#E5ECF6",
            "gridcolor": "white",
            "gridwidth": 2,
            "linecolor": "white",
            "showbackground": true,
            "ticks": "",
            "zerolinecolor": "white"
           },
           "yaxis": {
            "backgroundcolor": "#E5ECF6",
            "gridcolor": "white",
            "gridwidth": 2,
            "linecolor": "white",
            "showbackground": true,
            "ticks": "",
            "zerolinecolor": "white"
           },
           "zaxis": {
            "backgroundcolor": "#E5ECF6",
            "gridcolor": "white",
            "gridwidth": 2,
            "linecolor": "white",
            "showbackground": true,
            "ticks": "",
            "zerolinecolor": "white"
           }
          },
          "shapedefaults": {
           "line": {
            "color": "#2a3f5f"
           }
          },
          "ternary": {
           "aaxis": {
            "gridcolor": "white",
            "linecolor": "white",
            "ticks": ""
           },
           "baxis": {
            "gridcolor": "white",
            "linecolor": "white",
            "ticks": ""
           },
           "bgcolor": "#E5ECF6",
           "caxis": {
            "gridcolor": "white",
            "linecolor": "white",
            "ticks": ""
           }
          },
          "title": {
           "x": 0.05
          },
          "xaxis": {
           "automargin": true,
           "gridcolor": "white",
           "linecolor": "white",
           "ticks": "",
           "title": {
            "standoff": 15
           },
           "zerolinecolor": "white",
           "zerolinewidth": 2
          },
          "yaxis": {
           "automargin": true,
           "gridcolor": "white",
           "linecolor": "white",
           "ticks": "",
           "title": {
            "standoff": 15
           },
           "zerolinecolor": "white",
           "zerolinewidth": 2
          }
         }
        }
       }
      },
      "text/html": [
       "<div>                            <div id=\"a8be5ee5-73f0-4862-a647-1f800f18cbe1\" class=\"plotly-graph-div\" style=\"height:525px; width:100%;\"></div>            <script type=\"text/javascript\">                require([\"plotly\"], function(Plotly) {                    window.PLOTLYENV=window.PLOTLYENV || {};                                    if (document.getElementById(\"a8be5ee5-73f0-4862-a647-1f800f18cbe1\")) {                    Plotly.newPlot(                        \"a8be5ee5-73f0-4862-a647-1f800f18cbe1\",                        [{\"coloraxis\":\"coloraxis\",\"geo\":\"geo\",\"hovertemplate\":\"StateAbbr=%{location}<br>2020 deployement rate=%{z}<extra></extra>\",\"locationmode\":\"USA-states\",\"locations\":[\"NY\",\"FL\",\"MN\",\"VT\",\"OR\",\"DE\",\"SD\",\"WA\",\"TN\",\"MO\",\"CO\",\"NM\",\"NE\",\"AR\",\"KS\",\"ID\",\"UT\",\"MD\",\"WV\",\"DC\",\"IN\",\"ND\",\"VA\",\"RI\",\"KY\",\"IA\",\"TX\",\"MA\",\"IL\",\"NC\",\"GA\",\"PA\",\"CT\",\"LA\",\"ME\",\"MS\",\"NJ\",\"MT\",\"AZ\",\"NV\",\"SC\",\"OH\",\"AL\",\"NH\",\"OK\",\"WI\",\"MI\",\"CA\",\"WY\"],\"name\":\"\",\"z\":[0.8411595543865962,0.75067752914975,0.83930448038125,0.5408839779005525,0.5900946490964851,0.7662036077130416,0.9296966953372566,0.721200159530408,0.6898998817238334,0.7413560752695997,0.795147765365907,0.40205445735399653,0.864242417973437,0.46549881585942826,0.8420871751886002,0.6514595373793729,0.6402959984749493,0.676626711739313,0.5073363013799937,0.7828492392807745,0.8605164918692033,0.8571118869095231,0.6162715826456981,0.7821770382431198,0.7179103369785739,0.8277972473114297,0.7607541201293765,0.7088592325469183,0.8427031982885768,0.8060051144169115,0.607775708897027,0.7428530761840373,0.8025244902187102,0.5506855077355012,0.6422796973445726,0.4298513197266239,0.7571054555746869,0.5560443880019351,0.5632029329736082,0.5112138919775722,0.6916518239989445,0.8742719190680565,0.5986458737998779,0.6580871060875976,0.643256861302477,0.7239703511710971,0.7260105794443518,0.7984031430200874,0.47805206254930166],\"type\":\"choropleth\"}],                        {\"template\":{\"data\":{\"bar\":[{\"error_x\":{\"color\":\"#2a3f5f\"},\"error_y\":{\"color\":\"#2a3f5f\"},\"marker\":{\"line\":{\"color\":\"#E5ECF6\",\"width\":0.5},\"pattern\":{\"fillmode\":\"overlay\",\"size\":10,\"solidity\":0.2}},\"type\":\"bar\"}],\"barpolar\":[{\"marker\":{\"line\":{\"color\":\"#E5ECF6\",\"width\":0.5},\"pattern\":{\"fillmode\":\"overlay\",\"size\":10,\"solidity\":0.2}},\"type\":\"barpolar\"}],\"carpet\":[{\"aaxis\":{\"endlinecolor\":\"#2a3f5f\",\"gridcolor\":\"white\",\"linecolor\":\"white\",\"minorgridcolor\":\"white\",\"startlinecolor\":\"#2a3f5f\"},\"baxis\":{\"endlinecolor\":\"#2a3f5f\",\"gridcolor\":\"white\",\"linecolor\":\"white\",\"minorgridcolor\":\"white\",\"startlinecolor\":\"#2a3f5f\"},\"type\":\"carpet\"}],\"choropleth\":[{\"colorbar\":{\"outlinewidth\":0,\"ticks\":\"\"},\"type\":\"choropleth\"}],\"contour\":[{\"colorbar\":{\"outlinewidth\":0,\"ticks\":\"\"},\"colorscale\":[[0.0,\"#0d0887\"],[0.1111111111111111,\"#46039f\"],[0.2222222222222222,\"#7201a8\"],[0.3333333333333333,\"#9c179e\"],[0.4444444444444444,\"#bd3786\"],[0.5555555555555556,\"#d8576b\"],[0.6666666666666666,\"#ed7953\"],[0.7777777777777778,\"#fb9f3a\"],[0.8888888888888888,\"#fdca26\"],[1.0,\"#f0f921\"]],\"type\":\"contour\"}],\"contourcarpet\":[{\"colorbar\":{\"outlinewidth\":0,\"ticks\":\"\"},\"type\":\"contourcarpet\"}],\"heatmap\":[{\"colorbar\":{\"outlinewidth\":0,\"ticks\":\"\"},\"colorscale\":[[0.0,\"#0d0887\"],[0.1111111111111111,\"#46039f\"],[0.2222222222222222,\"#7201a8\"],[0.3333333333333333,\"#9c179e\"],[0.4444444444444444,\"#bd3786\"],[0.5555555555555556,\"#d8576b\"],[0.6666666666666666,\"#ed7953\"],[0.7777777777777778,\"#fb9f3a\"],[0.8888888888888888,\"#fdca26\"],[1.0,\"#f0f921\"]],\"type\":\"heatmap\"}],\"heatmapgl\":[{\"colorbar\":{\"outlinewidth\":0,\"ticks\":\"\"},\"colorscale\":[[0.0,\"#0d0887\"],[0.1111111111111111,\"#46039f\"],[0.2222222222222222,\"#7201a8\"],[0.3333333333333333,\"#9c179e\"],[0.4444444444444444,\"#bd3786\"],[0.5555555555555556,\"#d8576b\"],[0.6666666666666666,\"#ed7953\"],[0.7777777777777778,\"#fb9f3a\"],[0.8888888888888888,\"#fdca26\"],[1.0,\"#f0f921\"]],\"type\":\"heatmapgl\"}],\"histogram\":[{\"marker\":{\"pattern\":{\"fillmode\":\"overlay\",\"size\":10,\"solidity\":0.2}},\"type\":\"histogram\"}],\"histogram2d\":[{\"colorbar\":{\"outlinewidth\":0,\"ticks\":\"\"},\"colorscale\":[[0.0,\"#0d0887\"],[0.1111111111111111,\"#46039f\"],[0.2222222222222222,\"#7201a8\"],[0.3333333333333333,\"#9c179e\"],[0.4444444444444444,\"#bd3786\"],[0.5555555555555556,\"#d8576b\"],[0.6666666666666666,\"#ed7953\"],[0.7777777777777778,\"#fb9f3a\"],[0.8888888888888888,\"#fdca26\"],[1.0,\"#f0f921\"]],\"type\":\"histogram2d\"}],\"histogram2dcontour\":[{\"colorbar\":{\"outlinewidth\":0,\"ticks\":\"\"},\"colorscale\":[[0.0,\"#0d0887\"],[0.1111111111111111,\"#46039f\"],[0.2222222222222222,\"#7201a8\"],[0.3333333333333333,\"#9c179e\"],[0.4444444444444444,\"#bd3786\"],[0.5555555555555556,\"#d8576b\"],[0.6666666666666666,\"#ed7953\"],[0.7777777777777778,\"#fb9f3a\"],[0.8888888888888888,\"#fdca26\"],[1.0,\"#f0f921\"]],\"type\":\"histogram2dcontour\"}],\"mesh3d\":[{\"colorbar\":{\"outlinewidth\":0,\"ticks\":\"\"},\"type\":\"mesh3d\"}],\"parcoords\":[{\"line\":{\"colorbar\":{\"outlinewidth\":0,\"ticks\":\"\"}},\"type\":\"parcoords\"}],\"pie\":[{\"automargin\":true,\"type\":\"pie\"}],\"scatter\":[{\"marker\":{\"colorbar\":{\"outlinewidth\":0,\"ticks\":\"\"}},\"type\":\"scatter\"}],\"scatter3d\":[{\"line\":{\"colorbar\":{\"outlinewidth\":0,\"ticks\":\"\"}},\"marker\":{\"colorbar\":{\"outlinewidth\":0,\"ticks\":\"\"}},\"type\":\"scatter3d\"}],\"scattercarpet\":[{\"marker\":{\"colorbar\":{\"outlinewidth\":0,\"ticks\":\"\"}},\"type\":\"scattercarpet\"}],\"scattergeo\":[{\"marker\":{\"colorbar\":{\"outlinewidth\":0,\"ticks\":\"\"}},\"type\":\"scattergeo\"}],\"scattergl\":[{\"marker\":{\"colorbar\":{\"outlinewidth\":0,\"ticks\":\"\"}},\"type\":\"scattergl\"}],\"scattermapbox\":[{\"marker\":{\"colorbar\":{\"outlinewidth\":0,\"ticks\":\"\"}},\"type\":\"scattermapbox\"}],\"scatterpolar\":[{\"marker\":{\"colorbar\":{\"outlinewidth\":0,\"ticks\":\"\"}},\"type\":\"scatterpolar\"}],\"scatterpolargl\":[{\"marker\":{\"colorbar\":{\"outlinewidth\":0,\"ticks\":\"\"}},\"type\":\"scatterpolargl\"}],\"scatterternary\":[{\"marker\":{\"colorbar\":{\"outlinewidth\":0,\"ticks\":\"\"}},\"type\":\"scatterternary\"}],\"surface\":[{\"colorbar\":{\"outlinewidth\":0,\"ticks\":\"\"},\"colorscale\":[[0.0,\"#0d0887\"],[0.1111111111111111,\"#46039f\"],[0.2222222222222222,\"#7201a8\"],[0.3333333333333333,\"#9c179e\"],[0.4444444444444444,\"#bd3786\"],[0.5555555555555556,\"#d8576b\"],[0.6666666666666666,\"#ed7953\"],[0.7777777777777778,\"#fb9f3a\"],[0.8888888888888888,\"#fdca26\"],[1.0,\"#f0f921\"]],\"type\":\"surface\"}],\"table\":[{\"cells\":{\"fill\":{\"color\":\"#EBF0F8\"},\"line\":{\"color\":\"white\"}},\"header\":{\"fill\":{\"color\":\"#C8D4E3\"},\"line\":{\"color\":\"white\"}},\"type\":\"table\"}]},\"layout\":{\"annotationdefaults\":{\"arrowcolor\":\"#2a3f5f\",\"arrowhead\":0,\"arrowwidth\":1},\"autotypenumbers\":\"strict\",\"coloraxis\":{\"colorbar\":{\"outlinewidth\":0,\"ticks\":\"\"}},\"colorscale\":{\"diverging\":[[0,\"#8e0152\"],[0.1,\"#c51b7d\"],[0.2,\"#de77ae\"],[0.3,\"#f1b6da\"],[0.4,\"#fde0ef\"],[0.5,\"#f7f7f7\"],[0.6,\"#e6f5d0\"],[0.7,\"#b8e186\"],[0.8,\"#7fbc41\"],[0.9,\"#4d9221\"],[1,\"#276419\"]],\"sequential\":[[0.0,\"#0d0887\"],[0.1111111111111111,\"#46039f\"],[0.2222222222222222,\"#7201a8\"],[0.3333333333333333,\"#9c179e\"],[0.4444444444444444,\"#bd3786\"],[0.5555555555555556,\"#d8576b\"],[0.6666666666666666,\"#ed7953\"],[0.7777777777777778,\"#fb9f3a\"],[0.8888888888888888,\"#fdca26\"],[1.0,\"#f0f921\"]],\"sequentialminus\":[[0.0,\"#0d0887\"],[0.1111111111111111,\"#46039f\"],[0.2222222222222222,\"#7201a8\"],[0.3333333333333333,\"#9c179e\"],[0.4444444444444444,\"#bd3786\"],[0.5555555555555556,\"#d8576b\"],[0.6666666666666666,\"#ed7953\"],[0.7777777777777778,\"#fb9f3a\"],[0.8888888888888888,\"#fdca26\"],[1.0,\"#f0f921\"]]},\"colorway\":[\"#636efa\",\"#EF553B\",\"#00cc96\",\"#ab63fa\",\"#FFA15A\",\"#19d3f3\",\"#FF6692\",\"#B6E880\",\"#FF97FF\",\"#FECB52\"],\"font\":{\"color\":\"#2a3f5f\"},\"geo\":{\"bgcolor\":\"white\",\"lakecolor\":\"white\",\"landcolor\":\"#E5ECF6\",\"showlakes\":true,\"showland\":true,\"subunitcolor\":\"white\"},\"hoverlabel\":{\"align\":\"left\"},\"hovermode\":\"closest\",\"mapbox\":{\"style\":\"light\"},\"paper_bgcolor\":\"white\",\"plot_bgcolor\":\"#E5ECF6\",\"polar\":{\"angularaxis\":{\"gridcolor\":\"white\",\"linecolor\":\"white\",\"ticks\":\"\"},\"bgcolor\":\"#E5ECF6\",\"radialaxis\":{\"gridcolor\":\"white\",\"linecolor\":\"white\",\"ticks\":\"\"}},\"scene\":{\"xaxis\":{\"backgroundcolor\":\"#E5ECF6\",\"gridcolor\":\"white\",\"gridwidth\":2,\"linecolor\":\"white\",\"showbackground\":true,\"ticks\":\"\",\"zerolinecolor\":\"white\"},\"yaxis\":{\"backgroundcolor\":\"#E5ECF6\",\"gridcolor\":\"white\",\"gridwidth\":2,\"linecolor\":\"white\",\"showbackground\":true,\"ticks\":\"\",\"zerolinecolor\":\"white\"},\"zaxis\":{\"backgroundcolor\":\"#E5ECF6\",\"gridcolor\":\"white\",\"gridwidth\":2,\"linecolor\":\"white\",\"showbackground\":true,\"ticks\":\"\",\"zerolinecolor\":\"white\"}},\"shapedefaults\":{\"line\":{\"color\":\"#2a3f5f\"}},\"ternary\":{\"aaxis\":{\"gridcolor\":\"white\",\"linecolor\":\"white\",\"ticks\":\"\"},\"baxis\":{\"gridcolor\":\"white\",\"linecolor\":\"white\",\"ticks\":\"\"},\"bgcolor\":\"#E5ECF6\",\"caxis\":{\"gridcolor\":\"white\",\"linecolor\":\"white\",\"ticks\":\"\"}},\"title\":{\"x\":0.05},\"xaxis\":{\"automargin\":true,\"gridcolor\":\"white\",\"linecolor\":\"white\",\"ticks\":\"\",\"title\":{\"standoff\":15},\"zerolinecolor\":\"white\",\"zerolinewidth\":2},\"yaxis\":{\"automargin\":true,\"gridcolor\":\"white\",\"linecolor\":\"white\",\"ticks\":\"\",\"title\":{\"standoff\":15},\"zerolinecolor\":\"white\",\"zerolinewidth\":2}}},\"geo\":{\"domain\":{\"x\":[0.0,1.0],\"y\":[0.0,1.0]},\"center\":{},\"scope\":\"usa\"},\"coloraxis\":{\"colorbar\":{\"title\":{\"text\":\"2020 deployement rate\"}},\"colorscale\":[[0.0,\"#fde725\"],[0.1111111111111111,\"#b5de2b\"],[0.2222222222222222,\"#6ece58\"],[0.3333333333333333,\"#35b779\"],[0.4444444444444444,\"#1f9e89\"],[0.5555555555555556,\"#26828e\"],[0.6666666666666666,\"#31688e\"],[0.7777777777777778,\"#3e4989\"],[0.8888888888888888,\"#482878\"],[1.0,\"#440154\"]]},\"legend\":{\"tracegroupgap\":0},\"margin\":{\"t\":60}},                        {\"responsive\": true}                    ).then(function(){\n",
       "                            \n",
       "var gd = document.getElementById('a8be5ee5-73f0-4862-a647-1f800f18cbe1');\n",
       "var x = new MutationObserver(function (mutations, observer) {{\n",
       "        var display = window.getComputedStyle(gd).display;\n",
       "        if (!display || display === 'none') {{\n",
       "            console.log([gd, 'removed!']);\n",
       "            Plotly.purge(gd);\n",
       "            observer.disconnect();\n",
       "        }}\n",
       "}});\n",
       "\n",
       "// Listen for the removal of the full notebook cells\n",
       "var notebookContainer = gd.closest('#notebook-container');\n",
       "if (notebookContainer) {{\n",
       "    x.observe(notebookContainer, {childList: true});\n",
       "}}\n",
       "\n",
       "// Listen for the clearing of the current output cell\n",
       "var outputEl = gd.closest('.output');\n",
       "if (outputEl) {{\n",
       "    x.observe(outputEl, {childList: true});\n",
       "}}\n",
       "\n",
       "                        })                };                });            </script>        </div>"
      ]
     },
     "metadata": {},
     "output_type": "display_data"
    }
   ],
   "source": [
    "#2020\n",
    "fig = px.choropleth(df,\n",
    "                    locations='StateAbbr', \n",
    "                    locationmode=\"USA-states\", \n",
    "                    scope=\"usa\",\n",
    "                    color='2020 deployement rate',\n",
    "                    color_continuous_scale=\"Viridis_r\", \n",
    "                    \n",
    "                    )\n",
    "fig.show()"
   ]
  },
  {
   "cell_type": "code",
   "execution_count": 104,
   "id": "dcc435a5",
   "metadata": {},
   "outputs": [
    {
     "data": {
      "application/vnd.plotly.v1+json": {
       "config": {
        "plotlyServerURL": "https://plot.ly"
       },
       "data": [
        {
         "coloraxis": "coloraxis",
         "geo": "geo",
         "hovertemplate": "StateAbbr=%{location}<br>2021 deployement rate=%{z}<extra></extra>",
         "locationmode": "USA-states",
         "locations": [
          "NY",
          "FL",
          "MN",
          "VT",
          "OR",
          "DE",
          "SD",
          "WA",
          "TN",
          "MO",
          "CO",
          "NM",
          "NE",
          "AR",
          "KS",
          "ID",
          "UT",
          "MD",
          "WV",
          "DC",
          "IN",
          "ND",
          "VA",
          "RI",
          "KY",
          "IA",
          "TX",
          "MA",
          "IL",
          "NC",
          "GA",
          "PA",
          "CT",
          "LA",
          "ME",
          "MS",
          "NJ",
          "MT",
          "AZ",
          "NV",
          "SC",
          "OH",
          "AL",
          "NH",
          "OK",
          "WI",
          "MI",
          "CA",
          "WY"
         ],
         "name": "",
         "type": "choropleth",
         "z": [
          0.8610642289865751,
          0.7554207492141075,
          0.8854440539385704,
          0.6994475138121546,
          0.6260775807263721,
          0.793033381712627,
          0.9479289271163422,
          0.7336455766103879,
          0.7618942511119625,
          0.7984835475092049,
          0.8110632541206195,
          0.49121932992900735,
          0.8893365468161695,
          0.5461331500287309,
          0.9425188600167644,
          0.6593078042204455,
          0.6752161932655147,
          0.7077530000619634,
          0.5402978893342603,
          0.8029814046411556,
          0.9083202594066746,
          0.9045668278898699,
          0.6870822572630371,
          0.9524641594853263,
          0.7570142015933495,
          0.8672311545459175,
          0.8002911736749246,
          0.732299311780989,
          0.888629045474074,
          0.8421278465813341,
          0.6566100739987495,
          0.7866419955164929,
          0.8283613010151233,
          0.6149124222903736,
          0.7910900773900285,
          0.5742411717449266,
          0.7680850060145765,
          0.5991926705370102,
          0.575045724264067,
          0.5819276538361446,
          0.7402533148624579,
          0.9118365157221687,
          0.6368436491639777,
          0.7178368859676065,
          0.7516591235071605,
          0.7868832379808453,
          0.772469193809964,
          0.8235642016771223,
          0.5881281611062131
         ]
        }
       ],
       "layout": {
        "coloraxis": {
         "colorbar": {
          "title": {
           "text": "2021 deployement rate"
          }
         },
         "colorscale": [
          [
           0,
           "#fde725"
          ],
          [
           0.1111111111111111,
           "#b5de2b"
          ],
          [
           0.2222222222222222,
           "#6ece58"
          ],
          [
           0.3333333333333333,
           "#35b779"
          ],
          [
           0.4444444444444444,
           "#1f9e89"
          ],
          [
           0.5555555555555556,
           "#26828e"
          ],
          [
           0.6666666666666666,
           "#31688e"
          ],
          [
           0.7777777777777778,
           "#3e4989"
          ],
          [
           0.8888888888888888,
           "#482878"
          ],
          [
           1,
           "#440154"
          ]
         ]
        },
        "geo": {
         "center": {},
         "domain": {
          "x": [
           0,
           1
          ],
          "y": [
           0,
           1
          ]
         },
         "scope": "usa"
        },
        "legend": {
         "tracegroupgap": 0
        },
        "margin": {
         "t": 60
        },
        "template": {
         "data": {
          "bar": [
           {
            "error_x": {
             "color": "#2a3f5f"
            },
            "error_y": {
             "color": "#2a3f5f"
            },
            "marker": {
             "line": {
              "color": "#E5ECF6",
              "width": 0.5
             },
             "pattern": {
              "fillmode": "overlay",
              "size": 10,
              "solidity": 0.2
             }
            },
            "type": "bar"
           }
          ],
          "barpolar": [
           {
            "marker": {
             "line": {
              "color": "#E5ECF6",
              "width": 0.5
             },
             "pattern": {
              "fillmode": "overlay",
              "size": 10,
              "solidity": 0.2
             }
            },
            "type": "barpolar"
           }
          ],
          "carpet": [
           {
            "aaxis": {
             "endlinecolor": "#2a3f5f",
             "gridcolor": "white",
             "linecolor": "white",
             "minorgridcolor": "white",
             "startlinecolor": "#2a3f5f"
            },
            "baxis": {
             "endlinecolor": "#2a3f5f",
             "gridcolor": "white",
             "linecolor": "white",
             "minorgridcolor": "white",
             "startlinecolor": "#2a3f5f"
            },
            "type": "carpet"
           }
          ],
          "choropleth": [
           {
            "colorbar": {
             "outlinewidth": 0,
             "ticks": ""
            },
            "type": "choropleth"
           }
          ],
          "contour": [
           {
            "colorbar": {
             "outlinewidth": 0,
             "ticks": ""
            },
            "colorscale": [
             [
              0,
              "#0d0887"
             ],
             [
              0.1111111111111111,
              "#46039f"
             ],
             [
              0.2222222222222222,
              "#7201a8"
             ],
             [
              0.3333333333333333,
              "#9c179e"
             ],
             [
              0.4444444444444444,
              "#bd3786"
             ],
             [
              0.5555555555555556,
              "#d8576b"
             ],
             [
              0.6666666666666666,
              "#ed7953"
             ],
             [
              0.7777777777777778,
              "#fb9f3a"
             ],
             [
              0.8888888888888888,
              "#fdca26"
             ],
             [
              1,
              "#f0f921"
             ]
            ],
            "type": "contour"
           }
          ],
          "contourcarpet": [
           {
            "colorbar": {
             "outlinewidth": 0,
             "ticks": ""
            },
            "type": "contourcarpet"
           }
          ],
          "heatmap": [
           {
            "colorbar": {
             "outlinewidth": 0,
             "ticks": ""
            },
            "colorscale": [
             [
              0,
              "#0d0887"
             ],
             [
              0.1111111111111111,
              "#46039f"
             ],
             [
              0.2222222222222222,
              "#7201a8"
             ],
             [
              0.3333333333333333,
              "#9c179e"
             ],
             [
              0.4444444444444444,
              "#bd3786"
             ],
             [
              0.5555555555555556,
              "#d8576b"
             ],
             [
              0.6666666666666666,
              "#ed7953"
             ],
             [
              0.7777777777777778,
              "#fb9f3a"
             ],
             [
              0.8888888888888888,
              "#fdca26"
             ],
             [
              1,
              "#f0f921"
             ]
            ],
            "type": "heatmap"
           }
          ],
          "heatmapgl": [
           {
            "colorbar": {
             "outlinewidth": 0,
             "ticks": ""
            },
            "colorscale": [
             [
              0,
              "#0d0887"
             ],
             [
              0.1111111111111111,
              "#46039f"
             ],
             [
              0.2222222222222222,
              "#7201a8"
             ],
             [
              0.3333333333333333,
              "#9c179e"
             ],
             [
              0.4444444444444444,
              "#bd3786"
             ],
             [
              0.5555555555555556,
              "#d8576b"
             ],
             [
              0.6666666666666666,
              "#ed7953"
             ],
             [
              0.7777777777777778,
              "#fb9f3a"
             ],
             [
              0.8888888888888888,
              "#fdca26"
             ],
             [
              1,
              "#f0f921"
             ]
            ],
            "type": "heatmapgl"
           }
          ],
          "histogram": [
           {
            "marker": {
             "pattern": {
              "fillmode": "overlay",
              "size": 10,
              "solidity": 0.2
             }
            },
            "type": "histogram"
           }
          ],
          "histogram2d": [
           {
            "colorbar": {
             "outlinewidth": 0,
             "ticks": ""
            },
            "colorscale": [
             [
              0,
              "#0d0887"
             ],
             [
              0.1111111111111111,
              "#46039f"
             ],
             [
              0.2222222222222222,
              "#7201a8"
             ],
             [
              0.3333333333333333,
              "#9c179e"
             ],
             [
              0.4444444444444444,
              "#bd3786"
             ],
             [
              0.5555555555555556,
              "#d8576b"
             ],
             [
              0.6666666666666666,
              "#ed7953"
             ],
             [
              0.7777777777777778,
              "#fb9f3a"
             ],
             [
              0.8888888888888888,
              "#fdca26"
             ],
             [
              1,
              "#f0f921"
             ]
            ],
            "type": "histogram2d"
           }
          ],
          "histogram2dcontour": [
           {
            "colorbar": {
             "outlinewidth": 0,
             "ticks": ""
            },
            "colorscale": [
             [
              0,
              "#0d0887"
             ],
             [
              0.1111111111111111,
              "#46039f"
             ],
             [
              0.2222222222222222,
              "#7201a8"
             ],
             [
              0.3333333333333333,
              "#9c179e"
             ],
             [
              0.4444444444444444,
              "#bd3786"
             ],
             [
              0.5555555555555556,
              "#d8576b"
             ],
             [
              0.6666666666666666,
              "#ed7953"
             ],
             [
              0.7777777777777778,
              "#fb9f3a"
             ],
             [
              0.8888888888888888,
              "#fdca26"
             ],
             [
              1,
              "#f0f921"
             ]
            ],
            "type": "histogram2dcontour"
           }
          ],
          "mesh3d": [
           {
            "colorbar": {
             "outlinewidth": 0,
             "ticks": ""
            },
            "type": "mesh3d"
           }
          ],
          "parcoords": [
           {
            "line": {
             "colorbar": {
              "outlinewidth": 0,
              "ticks": ""
             }
            },
            "type": "parcoords"
           }
          ],
          "pie": [
           {
            "automargin": true,
            "type": "pie"
           }
          ],
          "scatter": [
           {
            "marker": {
             "colorbar": {
              "outlinewidth": 0,
              "ticks": ""
             }
            },
            "type": "scatter"
           }
          ],
          "scatter3d": [
           {
            "line": {
             "colorbar": {
              "outlinewidth": 0,
              "ticks": ""
             }
            },
            "marker": {
             "colorbar": {
              "outlinewidth": 0,
              "ticks": ""
             }
            },
            "type": "scatter3d"
           }
          ],
          "scattercarpet": [
           {
            "marker": {
             "colorbar": {
              "outlinewidth": 0,
              "ticks": ""
             }
            },
            "type": "scattercarpet"
           }
          ],
          "scattergeo": [
           {
            "marker": {
             "colorbar": {
              "outlinewidth": 0,
              "ticks": ""
             }
            },
            "type": "scattergeo"
           }
          ],
          "scattergl": [
           {
            "marker": {
             "colorbar": {
              "outlinewidth": 0,
              "ticks": ""
             }
            },
            "type": "scattergl"
           }
          ],
          "scattermapbox": [
           {
            "marker": {
             "colorbar": {
              "outlinewidth": 0,
              "ticks": ""
             }
            },
            "type": "scattermapbox"
           }
          ],
          "scatterpolar": [
           {
            "marker": {
             "colorbar": {
              "outlinewidth": 0,
              "ticks": ""
             }
            },
            "type": "scatterpolar"
           }
          ],
          "scatterpolargl": [
           {
            "marker": {
             "colorbar": {
              "outlinewidth": 0,
              "ticks": ""
             }
            },
            "type": "scatterpolargl"
           }
          ],
          "scatterternary": [
           {
            "marker": {
             "colorbar": {
              "outlinewidth": 0,
              "ticks": ""
             }
            },
            "type": "scatterternary"
           }
          ],
          "surface": [
           {
            "colorbar": {
             "outlinewidth": 0,
             "ticks": ""
            },
            "colorscale": [
             [
              0,
              "#0d0887"
             ],
             [
              0.1111111111111111,
              "#46039f"
             ],
             [
              0.2222222222222222,
              "#7201a8"
             ],
             [
              0.3333333333333333,
              "#9c179e"
             ],
             [
              0.4444444444444444,
              "#bd3786"
             ],
             [
              0.5555555555555556,
              "#d8576b"
             ],
             [
              0.6666666666666666,
              "#ed7953"
             ],
             [
              0.7777777777777778,
              "#fb9f3a"
             ],
             [
              0.8888888888888888,
              "#fdca26"
             ],
             [
              1,
              "#f0f921"
             ]
            ],
            "type": "surface"
           }
          ],
          "table": [
           {
            "cells": {
             "fill": {
              "color": "#EBF0F8"
             },
             "line": {
              "color": "white"
             }
            },
            "header": {
             "fill": {
              "color": "#C8D4E3"
             },
             "line": {
              "color": "white"
             }
            },
            "type": "table"
           }
          ]
         },
         "layout": {
          "annotationdefaults": {
           "arrowcolor": "#2a3f5f",
           "arrowhead": 0,
           "arrowwidth": 1
          },
          "autotypenumbers": "strict",
          "coloraxis": {
           "colorbar": {
            "outlinewidth": 0,
            "ticks": ""
           }
          },
          "colorscale": {
           "diverging": [
            [
             0,
             "#8e0152"
            ],
            [
             0.1,
             "#c51b7d"
            ],
            [
             0.2,
             "#de77ae"
            ],
            [
             0.3,
             "#f1b6da"
            ],
            [
             0.4,
             "#fde0ef"
            ],
            [
             0.5,
             "#f7f7f7"
            ],
            [
             0.6,
             "#e6f5d0"
            ],
            [
             0.7,
             "#b8e186"
            ],
            [
             0.8,
             "#7fbc41"
            ],
            [
             0.9,
             "#4d9221"
            ],
            [
             1,
             "#276419"
            ]
           ],
           "sequential": [
            [
             0,
             "#0d0887"
            ],
            [
             0.1111111111111111,
             "#46039f"
            ],
            [
             0.2222222222222222,
             "#7201a8"
            ],
            [
             0.3333333333333333,
             "#9c179e"
            ],
            [
             0.4444444444444444,
             "#bd3786"
            ],
            [
             0.5555555555555556,
             "#d8576b"
            ],
            [
             0.6666666666666666,
             "#ed7953"
            ],
            [
             0.7777777777777778,
             "#fb9f3a"
            ],
            [
             0.8888888888888888,
             "#fdca26"
            ],
            [
             1,
             "#f0f921"
            ]
           ],
           "sequentialminus": [
            [
             0,
             "#0d0887"
            ],
            [
             0.1111111111111111,
             "#46039f"
            ],
            [
             0.2222222222222222,
             "#7201a8"
            ],
            [
             0.3333333333333333,
             "#9c179e"
            ],
            [
             0.4444444444444444,
             "#bd3786"
            ],
            [
             0.5555555555555556,
             "#d8576b"
            ],
            [
             0.6666666666666666,
             "#ed7953"
            ],
            [
             0.7777777777777778,
             "#fb9f3a"
            ],
            [
             0.8888888888888888,
             "#fdca26"
            ],
            [
             1,
             "#f0f921"
            ]
           ]
          },
          "colorway": [
           "#636efa",
           "#EF553B",
           "#00cc96",
           "#ab63fa",
           "#FFA15A",
           "#19d3f3",
           "#FF6692",
           "#B6E880",
           "#FF97FF",
           "#FECB52"
          ],
          "font": {
           "color": "#2a3f5f"
          },
          "geo": {
           "bgcolor": "white",
           "lakecolor": "white",
           "landcolor": "#E5ECF6",
           "showlakes": true,
           "showland": true,
           "subunitcolor": "white"
          },
          "hoverlabel": {
           "align": "left"
          },
          "hovermode": "closest",
          "mapbox": {
           "style": "light"
          },
          "paper_bgcolor": "white",
          "plot_bgcolor": "#E5ECF6",
          "polar": {
           "angularaxis": {
            "gridcolor": "white",
            "linecolor": "white",
            "ticks": ""
           },
           "bgcolor": "#E5ECF6",
           "radialaxis": {
            "gridcolor": "white",
            "linecolor": "white",
            "ticks": ""
           }
          },
          "scene": {
           "xaxis": {
            "backgroundcolor": "#E5ECF6",
            "gridcolor": "white",
            "gridwidth": 2,
            "linecolor": "white",
            "showbackground": true,
            "ticks": "",
            "zerolinecolor": "white"
           },
           "yaxis": {
            "backgroundcolor": "#E5ECF6",
            "gridcolor": "white",
            "gridwidth": 2,
            "linecolor": "white",
            "showbackground": true,
            "ticks": "",
            "zerolinecolor": "white"
           },
           "zaxis": {
            "backgroundcolor": "#E5ECF6",
            "gridcolor": "white",
            "gridwidth": 2,
            "linecolor": "white",
            "showbackground": true,
            "ticks": "",
            "zerolinecolor": "white"
           }
          },
          "shapedefaults": {
           "line": {
            "color": "#2a3f5f"
           }
          },
          "ternary": {
           "aaxis": {
            "gridcolor": "white",
            "linecolor": "white",
            "ticks": ""
           },
           "baxis": {
            "gridcolor": "white",
            "linecolor": "white",
            "ticks": ""
           },
           "bgcolor": "#E5ECF6",
           "caxis": {
            "gridcolor": "white",
            "linecolor": "white",
            "ticks": ""
           }
          },
          "title": {
           "x": 0.05
          },
          "xaxis": {
           "automargin": true,
           "gridcolor": "white",
           "linecolor": "white",
           "ticks": "",
           "title": {
            "standoff": 15
           },
           "zerolinecolor": "white",
           "zerolinewidth": 2
          },
          "yaxis": {
           "automargin": true,
           "gridcolor": "white",
           "linecolor": "white",
           "ticks": "",
           "title": {
            "standoff": 15
           },
           "zerolinecolor": "white",
           "zerolinewidth": 2
          }
         }
        }
       }
      },
      "text/html": [
       "<div>                            <div id=\"1fcad7a8-f020-4f7b-835f-9e81f3546c23\" class=\"plotly-graph-div\" style=\"height:525px; width:100%;\"></div>            <script type=\"text/javascript\">                require([\"plotly\"], function(Plotly) {                    window.PLOTLYENV=window.PLOTLYENV || {};                                    if (document.getElementById(\"1fcad7a8-f020-4f7b-835f-9e81f3546c23\")) {                    Plotly.newPlot(                        \"1fcad7a8-f020-4f7b-835f-9e81f3546c23\",                        [{\"coloraxis\":\"coloraxis\",\"geo\":\"geo\",\"hovertemplate\":\"StateAbbr=%{location}<br>2021 deployement rate=%{z}<extra></extra>\",\"locationmode\":\"USA-states\",\"locations\":[\"NY\",\"FL\",\"MN\",\"VT\",\"OR\",\"DE\",\"SD\",\"WA\",\"TN\",\"MO\",\"CO\",\"NM\",\"NE\",\"AR\",\"KS\",\"ID\",\"UT\",\"MD\",\"WV\",\"DC\",\"IN\",\"ND\",\"VA\",\"RI\",\"KY\",\"IA\",\"TX\",\"MA\",\"IL\",\"NC\",\"GA\",\"PA\",\"CT\",\"LA\",\"ME\",\"MS\",\"NJ\",\"MT\",\"AZ\",\"NV\",\"SC\",\"OH\",\"AL\",\"NH\",\"OK\",\"WI\",\"MI\",\"CA\",\"WY\"],\"name\":\"\",\"z\":[0.8610642289865751,0.7554207492141075,0.8854440539385704,0.6994475138121546,0.6260775807263721,0.793033381712627,0.9479289271163422,0.7336455766103879,0.7618942511119625,0.7984835475092049,0.8110632541206195,0.49121932992900735,0.8893365468161695,0.5461331500287309,0.9425188600167644,0.6593078042204455,0.6752161932655147,0.7077530000619634,0.5402978893342603,0.8029814046411556,0.9083202594066746,0.9045668278898699,0.6870822572630371,0.9524641594853263,0.7570142015933495,0.8672311545459175,0.8002911736749246,0.732299311780989,0.888629045474074,0.8421278465813341,0.6566100739987495,0.7866419955164929,0.8283613010151233,0.6149124222903736,0.7910900773900285,0.5742411717449266,0.7680850060145765,0.5991926705370102,0.575045724264067,0.5819276538361446,0.7402533148624579,0.9118365157221687,0.6368436491639777,0.7178368859676065,0.7516591235071605,0.7868832379808453,0.772469193809964,0.8235642016771223,0.5881281611062131],\"type\":\"choropleth\"}],                        {\"template\":{\"data\":{\"bar\":[{\"error_x\":{\"color\":\"#2a3f5f\"},\"error_y\":{\"color\":\"#2a3f5f\"},\"marker\":{\"line\":{\"color\":\"#E5ECF6\",\"width\":0.5},\"pattern\":{\"fillmode\":\"overlay\",\"size\":10,\"solidity\":0.2}},\"type\":\"bar\"}],\"barpolar\":[{\"marker\":{\"line\":{\"color\":\"#E5ECF6\",\"width\":0.5},\"pattern\":{\"fillmode\":\"overlay\",\"size\":10,\"solidity\":0.2}},\"type\":\"barpolar\"}],\"carpet\":[{\"aaxis\":{\"endlinecolor\":\"#2a3f5f\",\"gridcolor\":\"white\",\"linecolor\":\"white\",\"minorgridcolor\":\"white\",\"startlinecolor\":\"#2a3f5f\"},\"baxis\":{\"endlinecolor\":\"#2a3f5f\",\"gridcolor\":\"white\",\"linecolor\":\"white\",\"minorgridcolor\":\"white\",\"startlinecolor\":\"#2a3f5f\"},\"type\":\"carpet\"}],\"choropleth\":[{\"colorbar\":{\"outlinewidth\":0,\"ticks\":\"\"},\"type\":\"choropleth\"}],\"contour\":[{\"colorbar\":{\"outlinewidth\":0,\"ticks\":\"\"},\"colorscale\":[[0.0,\"#0d0887\"],[0.1111111111111111,\"#46039f\"],[0.2222222222222222,\"#7201a8\"],[0.3333333333333333,\"#9c179e\"],[0.4444444444444444,\"#bd3786\"],[0.5555555555555556,\"#d8576b\"],[0.6666666666666666,\"#ed7953\"],[0.7777777777777778,\"#fb9f3a\"],[0.8888888888888888,\"#fdca26\"],[1.0,\"#f0f921\"]],\"type\":\"contour\"}],\"contourcarpet\":[{\"colorbar\":{\"outlinewidth\":0,\"ticks\":\"\"},\"type\":\"contourcarpet\"}],\"heatmap\":[{\"colorbar\":{\"outlinewidth\":0,\"ticks\":\"\"},\"colorscale\":[[0.0,\"#0d0887\"],[0.1111111111111111,\"#46039f\"],[0.2222222222222222,\"#7201a8\"],[0.3333333333333333,\"#9c179e\"],[0.4444444444444444,\"#bd3786\"],[0.5555555555555556,\"#d8576b\"],[0.6666666666666666,\"#ed7953\"],[0.7777777777777778,\"#fb9f3a\"],[0.8888888888888888,\"#fdca26\"],[1.0,\"#f0f921\"]],\"type\":\"heatmap\"}],\"heatmapgl\":[{\"colorbar\":{\"outlinewidth\":0,\"ticks\":\"\"},\"colorscale\":[[0.0,\"#0d0887\"],[0.1111111111111111,\"#46039f\"],[0.2222222222222222,\"#7201a8\"],[0.3333333333333333,\"#9c179e\"],[0.4444444444444444,\"#bd3786\"],[0.5555555555555556,\"#d8576b\"],[0.6666666666666666,\"#ed7953\"],[0.7777777777777778,\"#fb9f3a\"],[0.8888888888888888,\"#fdca26\"],[1.0,\"#f0f921\"]],\"type\":\"heatmapgl\"}],\"histogram\":[{\"marker\":{\"pattern\":{\"fillmode\":\"overlay\",\"size\":10,\"solidity\":0.2}},\"type\":\"histogram\"}],\"histogram2d\":[{\"colorbar\":{\"outlinewidth\":0,\"ticks\":\"\"},\"colorscale\":[[0.0,\"#0d0887\"],[0.1111111111111111,\"#46039f\"],[0.2222222222222222,\"#7201a8\"],[0.3333333333333333,\"#9c179e\"],[0.4444444444444444,\"#bd3786\"],[0.5555555555555556,\"#d8576b\"],[0.6666666666666666,\"#ed7953\"],[0.7777777777777778,\"#fb9f3a\"],[0.8888888888888888,\"#fdca26\"],[1.0,\"#f0f921\"]],\"type\":\"histogram2d\"}],\"histogram2dcontour\":[{\"colorbar\":{\"outlinewidth\":0,\"ticks\":\"\"},\"colorscale\":[[0.0,\"#0d0887\"],[0.1111111111111111,\"#46039f\"],[0.2222222222222222,\"#7201a8\"],[0.3333333333333333,\"#9c179e\"],[0.4444444444444444,\"#bd3786\"],[0.5555555555555556,\"#d8576b\"],[0.6666666666666666,\"#ed7953\"],[0.7777777777777778,\"#fb9f3a\"],[0.8888888888888888,\"#fdca26\"],[1.0,\"#f0f921\"]],\"type\":\"histogram2dcontour\"}],\"mesh3d\":[{\"colorbar\":{\"outlinewidth\":0,\"ticks\":\"\"},\"type\":\"mesh3d\"}],\"parcoords\":[{\"line\":{\"colorbar\":{\"outlinewidth\":0,\"ticks\":\"\"}},\"type\":\"parcoords\"}],\"pie\":[{\"automargin\":true,\"type\":\"pie\"}],\"scatter\":[{\"marker\":{\"colorbar\":{\"outlinewidth\":0,\"ticks\":\"\"}},\"type\":\"scatter\"}],\"scatter3d\":[{\"line\":{\"colorbar\":{\"outlinewidth\":0,\"ticks\":\"\"}},\"marker\":{\"colorbar\":{\"outlinewidth\":0,\"ticks\":\"\"}},\"type\":\"scatter3d\"}],\"scattercarpet\":[{\"marker\":{\"colorbar\":{\"outlinewidth\":0,\"ticks\":\"\"}},\"type\":\"scattercarpet\"}],\"scattergeo\":[{\"marker\":{\"colorbar\":{\"outlinewidth\":0,\"ticks\":\"\"}},\"type\":\"scattergeo\"}],\"scattergl\":[{\"marker\":{\"colorbar\":{\"outlinewidth\":0,\"ticks\":\"\"}},\"type\":\"scattergl\"}],\"scattermapbox\":[{\"marker\":{\"colorbar\":{\"outlinewidth\":0,\"ticks\":\"\"}},\"type\":\"scattermapbox\"}],\"scatterpolar\":[{\"marker\":{\"colorbar\":{\"outlinewidth\":0,\"ticks\":\"\"}},\"type\":\"scatterpolar\"}],\"scatterpolargl\":[{\"marker\":{\"colorbar\":{\"outlinewidth\":0,\"ticks\":\"\"}},\"type\":\"scatterpolargl\"}],\"scatterternary\":[{\"marker\":{\"colorbar\":{\"outlinewidth\":0,\"ticks\":\"\"}},\"type\":\"scatterternary\"}],\"surface\":[{\"colorbar\":{\"outlinewidth\":0,\"ticks\":\"\"},\"colorscale\":[[0.0,\"#0d0887\"],[0.1111111111111111,\"#46039f\"],[0.2222222222222222,\"#7201a8\"],[0.3333333333333333,\"#9c179e\"],[0.4444444444444444,\"#bd3786\"],[0.5555555555555556,\"#d8576b\"],[0.6666666666666666,\"#ed7953\"],[0.7777777777777778,\"#fb9f3a\"],[0.8888888888888888,\"#fdca26\"],[1.0,\"#f0f921\"]],\"type\":\"surface\"}],\"table\":[{\"cells\":{\"fill\":{\"color\":\"#EBF0F8\"},\"line\":{\"color\":\"white\"}},\"header\":{\"fill\":{\"color\":\"#C8D4E3\"},\"line\":{\"color\":\"white\"}},\"type\":\"table\"}]},\"layout\":{\"annotationdefaults\":{\"arrowcolor\":\"#2a3f5f\",\"arrowhead\":0,\"arrowwidth\":1},\"autotypenumbers\":\"strict\",\"coloraxis\":{\"colorbar\":{\"outlinewidth\":0,\"ticks\":\"\"}},\"colorscale\":{\"diverging\":[[0,\"#8e0152\"],[0.1,\"#c51b7d\"],[0.2,\"#de77ae\"],[0.3,\"#f1b6da\"],[0.4,\"#fde0ef\"],[0.5,\"#f7f7f7\"],[0.6,\"#e6f5d0\"],[0.7,\"#b8e186\"],[0.8,\"#7fbc41\"],[0.9,\"#4d9221\"],[1,\"#276419\"]],\"sequential\":[[0.0,\"#0d0887\"],[0.1111111111111111,\"#46039f\"],[0.2222222222222222,\"#7201a8\"],[0.3333333333333333,\"#9c179e\"],[0.4444444444444444,\"#bd3786\"],[0.5555555555555556,\"#d8576b\"],[0.6666666666666666,\"#ed7953\"],[0.7777777777777778,\"#fb9f3a\"],[0.8888888888888888,\"#fdca26\"],[1.0,\"#f0f921\"]],\"sequentialminus\":[[0.0,\"#0d0887\"],[0.1111111111111111,\"#46039f\"],[0.2222222222222222,\"#7201a8\"],[0.3333333333333333,\"#9c179e\"],[0.4444444444444444,\"#bd3786\"],[0.5555555555555556,\"#d8576b\"],[0.6666666666666666,\"#ed7953\"],[0.7777777777777778,\"#fb9f3a\"],[0.8888888888888888,\"#fdca26\"],[1.0,\"#f0f921\"]]},\"colorway\":[\"#636efa\",\"#EF553B\",\"#00cc96\",\"#ab63fa\",\"#FFA15A\",\"#19d3f3\",\"#FF6692\",\"#B6E880\",\"#FF97FF\",\"#FECB52\"],\"font\":{\"color\":\"#2a3f5f\"},\"geo\":{\"bgcolor\":\"white\",\"lakecolor\":\"white\",\"landcolor\":\"#E5ECF6\",\"showlakes\":true,\"showland\":true,\"subunitcolor\":\"white\"},\"hoverlabel\":{\"align\":\"left\"},\"hovermode\":\"closest\",\"mapbox\":{\"style\":\"light\"},\"paper_bgcolor\":\"white\",\"plot_bgcolor\":\"#E5ECF6\",\"polar\":{\"angularaxis\":{\"gridcolor\":\"white\",\"linecolor\":\"white\",\"ticks\":\"\"},\"bgcolor\":\"#E5ECF6\",\"radialaxis\":{\"gridcolor\":\"white\",\"linecolor\":\"white\",\"ticks\":\"\"}},\"scene\":{\"xaxis\":{\"backgroundcolor\":\"#E5ECF6\",\"gridcolor\":\"white\",\"gridwidth\":2,\"linecolor\":\"white\",\"showbackground\":true,\"ticks\":\"\",\"zerolinecolor\":\"white\"},\"yaxis\":{\"backgroundcolor\":\"#E5ECF6\",\"gridcolor\":\"white\",\"gridwidth\":2,\"linecolor\":\"white\",\"showbackground\":true,\"ticks\":\"\",\"zerolinecolor\":\"white\"},\"zaxis\":{\"backgroundcolor\":\"#E5ECF6\",\"gridcolor\":\"white\",\"gridwidth\":2,\"linecolor\":\"white\",\"showbackground\":true,\"ticks\":\"\",\"zerolinecolor\":\"white\"}},\"shapedefaults\":{\"line\":{\"color\":\"#2a3f5f\"}},\"ternary\":{\"aaxis\":{\"gridcolor\":\"white\",\"linecolor\":\"white\",\"ticks\":\"\"},\"baxis\":{\"gridcolor\":\"white\",\"linecolor\":\"white\",\"ticks\":\"\"},\"bgcolor\":\"#E5ECF6\",\"caxis\":{\"gridcolor\":\"white\",\"linecolor\":\"white\",\"ticks\":\"\"}},\"title\":{\"x\":0.05},\"xaxis\":{\"automargin\":true,\"gridcolor\":\"white\",\"linecolor\":\"white\",\"ticks\":\"\",\"title\":{\"standoff\":15},\"zerolinecolor\":\"white\",\"zerolinewidth\":2},\"yaxis\":{\"automargin\":true,\"gridcolor\":\"white\",\"linecolor\":\"white\",\"ticks\":\"\",\"title\":{\"standoff\":15},\"zerolinecolor\":\"white\",\"zerolinewidth\":2}}},\"geo\":{\"domain\":{\"x\":[0.0,1.0],\"y\":[0.0,1.0]},\"center\":{},\"scope\":\"usa\"},\"coloraxis\":{\"colorbar\":{\"title\":{\"text\":\"2021 deployement rate\"}},\"colorscale\":[[0.0,\"#fde725\"],[0.1111111111111111,\"#b5de2b\"],[0.2222222222222222,\"#6ece58\"],[0.3333333333333333,\"#35b779\"],[0.4444444444444444,\"#1f9e89\"],[0.5555555555555556,\"#26828e\"],[0.6666666666666666,\"#31688e\"],[0.7777777777777778,\"#3e4989\"],[0.8888888888888888,\"#482878\"],[1.0,\"#440154\"]]},\"legend\":{\"tracegroupgap\":0},\"margin\":{\"t\":60}},                        {\"responsive\": true}                    ).then(function(){\n",
       "                            \n",
       "var gd = document.getElementById('1fcad7a8-f020-4f7b-835f-9e81f3546c23');\n",
       "var x = new MutationObserver(function (mutations, observer) {{\n",
       "        var display = window.getComputedStyle(gd).display;\n",
       "        if (!display || display === 'none') {{\n",
       "            console.log([gd, 'removed!']);\n",
       "            Plotly.purge(gd);\n",
       "            observer.disconnect();\n",
       "        }}\n",
       "}});\n",
       "\n",
       "// Listen for the removal of the full notebook cells\n",
       "var notebookContainer = gd.closest('#notebook-container');\n",
       "if (notebookContainer) {{\n",
       "    x.observe(notebookContainer, {childList: true});\n",
       "}}\n",
       "\n",
       "// Listen for the clearing of the current output cell\n",
       "var outputEl = gd.closest('.output');\n",
       "if (outputEl) {{\n",
       "    x.observe(outputEl, {childList: true});\n",
       "}}\n",
       "\n",
       "                        })                };                });            </script>        </div>"
      ]
     },
     "metadata": {},
     "output_type": "display_data"
    }
   ],
   "source": [
    "#2021\n",
    "fig = px.choropleth(df,\n",
    "                    locations='StateAbbr', \n",
    "                    locationmode=\"USA-states\", \n",
    "                    scope=\"usa\",\n",
    "                    color='2021 deployement rate',\n",
    "                    color_continuous_scale=\"Viridis_r\", \n",
    "                    \n",
    "                    )\n",
    "fig.show()"
   ]
  },
  {
   "cell_type": "markdown",
   "id": "62612435",
   "metadata": {},
   "source": [
    "### Satet with the Highest and Lowest Deployment Rate in 2021"
   ]
  },
  {
   "cell_type": "code",
   "execution_count": 106,
   "id": "00425942",
   "metadata": {},
   "outputs": [
    {
     "data": {
      "text/plain": [
       "State_Abbr                            RI\n",
       "Number_of_2010_Census_Blocks       25181\n",
       "StateAbbr                             RI\n",
       "num_2018_state                     19274\n",
       "num_2019_state                     19658\n",
       "num_2020_state                     19696\n",
       "num_2021_state                     23984\n",
       "2018 deployement rate           0.765418\n",
       "2019 deployement rate           0.780668\n",
       "2020 deployement rate           0.782177\n",
       "2021 deployement rate           0.952464\n",
       "Name: 23, dtype: object"
      ]
     },
     "execution_count": 106,
     "metadata": {},
     "output_type": "execute_result"
    }
   ],
   "source": [
    "df.loc[df['2021 deployement rate'].idxmax()]"
   ]
  },
  {
   "cell_type": "code",
   "execution_count": 107,
   "id": "db197468",
   "metadata": {},
   "outputs": [
    {
     "data": {
      "text/plain": [
       "State_Abbr                            NM\n",
       "Number_of_2010_Census_Blocks      168609\n",
       "StateAbbr                             NM\n",
       "num_2018_state                     55609\n",
       "num_2019_state                     56389\n",
       "num_2020_state                     67790\n",
       "num_2021_state                     82824\n",
       "2018 deployement rate            0.32981\n",
       "2019 deployement rate           0.334436\n",
       "2020 deployement rate           0.402054\n",
       "2021 deployement rate           0.491219\n",
       "Name: 11, dtype: object"
      ]
     },
     "execution_count": 107,
     "metadata": {},
     "output_type": "execute_result"
    }
   ],
   "source": [
    "df.loc[df['2021 deployement rate'].idxmin()]"
   ]
  },
  {
   "cell_type": "code",
   "execution_count": 120,
   "id": "da571ce1",
   "metadata": {},
   "outputs": [
    {
     "name": "stderr",
     "output_type": "stream",
     "text": [
      "/var/folders/f6/cw8ncfy124b8_ngrxb3g5bw40000gn/T/ipykernel_34606/3642516701.py:2: SettingWithCopyWarning:\n",
      "\n",
      "\n",
      "A value is trying to be set on a copy of a slice from a DataFrame\n",
      "\n",
      "See the caveats in the documentation: https://pandas.pydata.org/pandas-docs/stable/user_guide/indexing.html#returning-a-view-versus-a-copy\n",
      "\n"
     ]
    }
   ],
   "source": [
    "df3=df[['StateAbbr',\"2018 deployement rate\",\"2019 deployement rate\",\"2020 deployement rate\",\"2021 deployement rate\"]]\n",
    "df3.rename(columns={'2018 deployement rate': '2018', '2019 deployement rate': '2019',\n",
    "                   '2020 deployement rate':'2020','2021 deployement rate':'2021'}, inplace=True)"
   ]
  },
  {
   "cell_type": "code",
   "execution_count": 122,
   "id": "1c33a7e8",
   "metadata": {},
   "outputs": [],
   "source": [
    "df_RI = df3.loc[df3['2021'].idxmax()]\n"
   ]
  },
  {
   "cell_type": "code",
   "execution_count": 123,
   "id": "5b384300",
   "metadata": {},
   "outputs": [],
   "source": [
    "new_header = df_RI.iloc[0] \n",
    "df_RI = df_RI[1:] \n",
    "df_RI.columns = new_header"
   ]
  },
  {
   "cell_type": "code",
   "execution_count": 124,
   "id": "05bbf290",
   "metadata": {},
   "outputs": [
    {
     "data": {
      "text/html": [
       "<div>\n",
       "<style scoped>\n",
       "    .dataframe tbody tr th:only-of-type {\n",
       "        vertical-align: middle;\n",
       "    }\n",
       "\n",
       "    .dataframe tbody tr th {\n",
       "        vertical-align: top;\n",
       "    }\n",
       "\n",
       "    .dataframe thead th {\n",
       "        text-align: right;\n",
       "    }\n",
       "</style>\n",
       "<table border=\"1\" class=\"dataframe\">\n",
       "  <thead>\n",
       "    <tr style=\"text-align: right;\">\n",
       "      <th></th>\n",
       "      <th>23</th>\n",
       "    </tr>\n",
       "  </thead>\n",
       "  <tbody>\n",
       "    <tr>\n",
       "      <th>2018</th>\n",
       "      <td>0.765418</td>\n",
       "    </tr>\n",
       "    <tr>\n",
       "      <th>2019</th>\n",
       "      <td>0.780668</td>\n",
       "    </tr>\n",
       "    <tr>\n",
       "      <th>2020</th>\n",
       "      <td>0.782177</td>\n",
       "    </tr>\n",
       "    <tr>\n",
       "      <th>2021</th>\n",
       "      <td>0.952464</td>\n",
       "    </tr>\n",
       "  </tbody>\n",
       "</table>\n",
       "</div>"
      ],
      "text/plain": [
       "            23\n",
       "2018  0.765418\n",
       "2019  0.780668\n",
       "2020  0.782177\n",
       "2021  0.952464"
      ]
     },
     "execution_count": 124,
     "metadata": {},
     "output_type": "execute_result"
    }
   ],
   "source": [
    "df_RI=df_RI.to_frame()\n",
    "df_RI"
   ]
  },
  {
   "cell_type": "code",
   "execution_count": 125,
   "id": "04a341b3",
   "metadata": {},
   "outputs": [
    {
     "data": {
      "image/png": "[encoded data removed]",
      "text/plain": [
       "<Figure size 432x288 with 1 Axes>"
      ]
     },
     "metadata": {
      "needs_background": "light"
     },
     "output_type": "display_data"
    }
   ],
   "source": [
    "plt.plot(df_RI, color='red')\n",
    "plt.xlabel('Year')\n",
    "plt.ylabel('Deployment Rate') \n",
    "  \n",
    "plt.title(\"Highest Deployment Rate in 2021: RI\")\n",
    "  \n",
    "plt.show() "
   ]
  },
  {
   "cell_type": "code",
   "execution_count": 127,
   "id": "4ff50ae2",
   "metadata": {},
   "outputs": [
    {
     "data": {
      "image/png": "[encoded data removed]",
      "text/plain": [
       "<Figure size 432x288 with 1 Axes>"
      ]
     },
     "metadata": {
      "needs_background": "light"
     },
     "output_type": "display_data"
    }
   ],
   "source": [
    "df_NM = df3.loc[df3['2021'].idxmin()]\n",
    "new_header = df_NM.iloc[0] \n",
    "df_NM = df_NM[1:] \n",
    "df_NM.columns = new_header\n",
    "df_NM=df_NM.to_frame()\n",
    "plt.plot(df_NM, color='green')\n",
    "plt.xlabel('Year')\n",
    "plt.ylabel('Deployment Rate') \n",
    "  \n",
    "plt.title(\"Lowest Deployment Rate in 2021: NM\")\n",
    "  \n",
    "plt.show() "
   ]
  },
  {
   "cell_type": "code",
   "execution_count": null,
   "id": "6d8c6388",
   "metadata": {},
   "outputs": [],
   "source": []
  }
 ],
 "metadata": {
  "kernelspec": {
   "display_name": "Python 3 (ipykernel)",
   "language": "python",
   "name": "python3"
  },
  "language_info": {
   "codemirror_mode": {
    "name": "ipython",
    "version": 3
   },
   "file_extension": ".py",
   "mimetype": "text/x-python",
   "name": "python",
   "nbconvert_exporter": "python",
   "pygments_lexer": "ipython3",
   "version": "3.9.12"
  }
 },
 "nbformat": 4,
 "nbformat_minor": 5
}
