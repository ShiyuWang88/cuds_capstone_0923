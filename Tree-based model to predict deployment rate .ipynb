{
 "cells": [
  {
   "cell_type": "code",
   "execution_count": 1,
   "id": "4f8cf48c",
   "metadata": {},
   "outputs": [
    {
     "name": "stdout",
     "output_type": "stream",
     "text": [
      "Done!\n"
     ]
    }
   ],
   "source": [
    "import os\n",
    "from google.cloud import bigquery\n",
    "import pandas as pd\n",
    "\n",
    "os.environ['GOOGLE_APPLICATION_CREDENTIALS'] = \"/Users/caoshengyuan/.config/gcloud/application_default_credentials.json\"\n",
    "%load_ext google.cloud.bigquery\n",
    "client = bigquery.Client()\n",
    "\n",
    "print('Done!')"
   ]
  },
  {
   "cell_type": "code",
   "execution_count": 2,
   "id": "5b94f3a9",
   "metadata": {},
   "outputs": [
    {
     "name": "stdout",
     "output_type": "stream",
     "text": [
      "Requirement already satisfied: seaborn in /Users/caoshengyuan/opt/anaconda3/lib/python3.8/site-packages (0.12.1)\n",
      "Requirement already satisfied: numpy>=1.17 in /Users/caoshengyuan/opt/anaconda3/lib/python3.8/site-packages (from seaborn) (1.23.4)\n",
      "Requirement already satisfied: pandas>=0.25 in /Users/caoshengyuan/opt/anaconda3/lib/python3.8/site-packages (from seaborn) (1.5.1)\n",
      "Requirement already satisfied: matplotlib!=3.6.1,>=3.1 in /Users/caoshengyuan/opt/anaconda3/lib/python3.8/site-packages (from seaborn) (3.6.2)\n",
      "Requirement already satisfied: contourpy>=1.0.1 in /Users/caoshengyuan/opt/anaconda3/lib/python3.8/site-packages (from matplotlib!=3.6.1,>=3.1->seaborn) (1.0.6)\n",
      "Requirement already satisfied: packaging>=20.0 in /Users/caoshengyuan/opt/anaconda3/lib/python3.8/site-packages (from matplotlib!=3.6.1,>=3.1->seaborn) (21.3)\n",
      "Requirement already satisfied: fonttools>=4.22.0 in /Users/caoshengyuan/opt/anaconda3/lib/python3.8/site-packages (from matplotlib!=3.6.1,>=3.1->seaborn) (4.38.0)\n",
      "Requirement already satisfied: cycler>=0.10 in /Users/caoshengyuan/opt/anaconda3/lib/python3.8/site-packages (from matplotlib!=3.6.1,>=3.1->seaborn) (0.11.0)\n",
      "Requirement already satisfied: kiwisolver>=1.0.1 in /Users/caoshengyuan/opt/anaconda3/lib/python3.8/site-packages (from matplotlib!=3.6.1,>=3.1->seaborn) (1.4.4)\n",
      "Requirement already satisfied: python-dateutil>=2.7 in /Users/caoshengyuan/opt/anaconda3/lib/python3.8/site-packages (from matplotlib!=3.6.1,>=3.1->seaborn) (2.8.2)\n",
      "Requirement already satisfied: pyparsing>=2.2.1 in /Users/caoshengyuan/opt/anaconda3/lib/python3.8/site-packages (from matplotlib!=3.6.1,>=3.1->seaborn) (3.0.9)\n",
      "Requirement already satisfied: pillow>=6.2.0 in /Users/caoshengyuan/opt/anaconda3/lib/python3.8/site-packages (from matplotlib!=3.6.1,>=3.1->seaborn) (9.2.0)\n",
      "Requirement already satisfied: pytz>=2020.1 in /Users/caoshengyuan/opt/anaconda3/lib/python3.8/site-packages (from pandas>=0.25->seaborn) (2022.1)\n",
      "Requirement already satisfied: six>=1.5 in /Users/caoshengyuan/opt/anaconda3/lib/python3.8/site-packages (from python-dateutil>=2.7->matplotlib!=3.6.1,>=3.1->seaborn) (1.16.0)\n"
     ]
    }
   ],
   "source": [
    "# !pip install seaborn"
   ]
  },
  {
   "cell_type": "code",
   "execution_count": 3,
   "id": "f1f8ba84",
   "metadata": {},
   "outputs": [],
   "source": [
    "import matplotlib.pyplot as plt\n",
    "import numpy as np\n",
    "import scipy\n",
    "from scipy.stats import norm\n",
    "import pandas as pd\n",
    "import seaborn as sns"
   ]
  },
  {
   "cell_type": "code",
   "execution_count": 4,
   "id": "ce2e21ec",
   "metadata": {},
   "outputs": [],
   "source": [
    "# %%bigquery data\n",
    "# SELECT * \n",
    "# FROM `broadband-data.capstone.blockgroup_2020`"
   ]
  },
  {
   "cell_type": "markdown",
   "id": "65c0b460",
   "metadata": {},
   "source": [
    "data = \"\"\"\n",
    "SELECT BlockGroupCode,\n",
    "       deploymentRate,\n",
    "       pop / NULLIF(landArea, 0) AS popDensity,\n",
    "       unemploymentRate,\n",
    "       houseOwnerRate,\n",
    "       maleRate,\n",
    "       ageUnder17Rate,\n",
    "       ageBetween18and24Rate,\n",
    "       ageAbove65Rate,\n",
    "       income AS medianIncome,\n",
    "       aboveHighSchoolRate,\n",
    "       aboveBachelorRate,\n",
    "       whiteRate,\n",
    "       MovedIn1yearRate,\n",
    "       newlyMovedRate,\n",
    "       Latitute,\n",
    "       Longitude\n",
    "FROM `broadband-data.capstone.blockgroup_2020`\n",
    "WHERE SUBSTR(BlockGroupCode, 1, 2) != \"02\" and SUBSTR(BlockGroupCode, 1, 2) != \"15\"\n",
    "\"\"\"\n",
    "\n",
    "data = client.query(data).to_dataframe()"
   ]
  },
  {
   "cell_type": "code",
   "execution_count": 8,
   "id": "22100abd",
   "metadata": {},
   "outputs": [],
   "source": [
    "# data.shape"
   ]
  },
  {
   "cell_type": "markdown",
   "id": "5a09956f",
   "metadata": {},
   "source": [
    "data.BlockGroupCode.nunique()"
   ]
  },
  {
   "cell_type": "raw",
   "id": "1fcc5396",
   "metadata": {},
   "source": [
    "# data = data.drop(['BlockGroupCode'],axis=1)\n",
    "data"
   ]
  },
  {
   "cell_type": "code",
   "execution_count": null,
   "id": "c364313d",
   "metadata": {},
   "outputs": [],
   "source": [
    "fund_binary = \"\"\"\n",
    "select Census_Block_Group_Code, Binary_Fund_Block_Group_Code from\n",
    "`broadband-data.usac_high_cost.Fund_Block_Group_Binary`\n",
    "\"\"\""
   ]
  },
  {
   "cell_type": "code",
   "execution_count": null,
   "id": "1cbc11c4",
   "metadata": {},
   "outputs": [],
   "source": [
    "%%bigquery fund_binary\n",
    "SELECT Census_Block_Group_Code, Binary_Fund_Block_Group_Code \n",
    "FROM `broadband-data.usac_high_cost.Fund_Block_Group_Binary`"
   ]
  },
  {
   "cell_type": "code",
   "execution_count": null,
   "id": "500b7414",
   "metadata": {},
   "outputs": [],
   "source": [
    "fund_binary"
   ]
  },
  {
   "cell_type": "code",
   "execution_count": null,
   "id": "d0b635e0",
   "metadata": {},
   "outputs": [],
   "source": [
    "fund_binary.describe()"
   ]
  },
  {
   "cell_type": "code",
   "execution_count": null,
   "id": "6d8313aa",
   "metadata": {},
   "outputs": [],
   "source": [
    "%%bigquery fund_num\n",
    "SELECT Census_Block_Group_Code, Fund_Num_Block_Group \n",
    "FROM `broadband-data.usac_high_cost.Fund_Block_Group_Num`"
   ]
  },
  {
   "cell_type": "code",
   "execution_count": null,
   "id": "91d6a8fe",
   "metadata": {},
   "outputs": [],
   "source": [
    "fund_num"
   ]
  },
  {
   "cell_type": "code",
   "execution_count": null,
   "id": "6f754c95",
   "metadata": {},
   "outputs": [],
   "source": [
    "fund_num.describe()"
   ]
  },
  {
   "cell_type": "code",
   "execution_count": null,
   "id": "f9134f14",
   "metadata": {},
   "outputs": [],
   "source": [
    "%%bigquery vote_and_householdPerMile\n",
    "SELECT Blockgroup_Geoig as block_group_code, \n",
    "VOTING_REP, VOTING_DEM, VOTING_LIB, VOTING_OTH, householdPerMile\n",
    "FROM broadband-data.capstone.HouseUnits_Voting_BG_2"
   ]
  },
  {
   "cell_type": "code",
   "execution_count": null,
   "id": "43b0595b",
   "metadata": {},
   "outputs": [],
   "source": [
    "vote_and_householdPerMile.block_group_code.nunique()"
   ]
  },
  {
   "cell_type": "code",
   "execution_count": null,
   "id": "bc1cc460",
   "metadata": {},
   "outputs": [],
   "source": [
    "vote_and_householdPerMile.info()"
   ]
  },
  {
   "cell_type": "code",
   "execution_count": 99,
   "id": "adc6cf2e",
   "metadata": {},
   "outputs": [
    {
     "name": "stderr",
     "output_type": "stream",
     "text": [
      "Query complete after 0.02s: 100%|█████████████| 4/4 [00:00<00:00, 127.10query/s]\n",
      "Downloading: 100%|█████████████████| 208950/208950 [00:02<00:00, 72056.95rows/s]\n"
     ]
    }
   ],
   "source": [
    "%%bigquery data\n",
    "SELECT BlockGroupCode, \n",
    "       deploymentRate,\n",
    "       popDensity,\n",
    "       houseRoadDensity,\n",
    "       unemploymentRate,\n",
    "       houseOwnerRate,\n",
    "       maleRate,\n",
    "       ageUnder17Rate,\n",
    "       ageBetween18and24Rate,\n",
    "       ageAbove65Rate,\n",
    "       medianIncome,\n",
    "       aboveHighSchoolRate,\n",
    "       aboveBachelorRate,\n",
    "       whiteRate,\n",
    "       MovedIn1yearRate,\n",
    "       newlyMovedRate,\n",
    "       demRatio, # democratic voting percentage \n",
    "       avgAnnualTemp,\n",
    "       snowResideTime, \n",
    "       Binary_Fund_Block_Group_Code as Binary_fund,\n",
    "       Fund_Num_Block_Group as Fund_Num                \n",
    "FROM\n",
    "\n",
    "(SELECT  \n",
    "       BlockGroupCode, \n",
    "       deploymentRate,\n",
    "       pop / NULLIF(landArea, 0) AS popDensity,\n",
    "       houseRoadDensity, # household per meter\n",
    "       unemploymentRate,\n",
    "       houseOwnerRate,\n",
    "       maleRate,\n",
    "       ageUnder17Rate,\n",
    "       ageBetween18and24Rate,\n",
    "       ageAbove65Rate,\n",
    "       income AS medianIncome,\n",
    "       aboveHighSchoolRate,\n",
    "       aboveBachelorRate,\n",
    "       whiteRate,\n",
    "       MovedIn1yearRate,\n",
    "       newlyMovedRate,\n",
    "       demRatio, \n",
    "       avgAnnualTemp,\n",
    "       snowResideTime\n",
    "  \n",
    "FROM `broadband-data.capstone.blockgroup_2020`\n",
    "WHERE SUBSTR(BlockGroupCode, 1, 2) != \"02\" and SUBSTR(BlockGroupCode, 1, 2) != \"15\"\n",
    ") as a\n",
    "left join (\n",
    "SELECT Census_Block_Group_Code, Binary_Fund_Block_Group_Code \n",
    "FROM `broadband-data.usac_high_cost.Fund_Block_Group_Binary`\n",
    ") as b on a.BlockGroupCode = b.Census_Block_Group_Code\n",
    "left join (\n",
    "SELECT Census_Block_Group_Code, Fund_Num_Block_Group \n",
    "FROM `broadband-data.usac_high_cost.Fund_Block_Group_Num`\n",
    ") as c on a.BlockGroupCode = c.Census_Block_Group_Code"
   ]
  },
  {
   "cell_type": "code",
   "execution_count": 100,
   "id": "0ed77d1f",
   "metadata": {},
   "outputs": [
    {
     "data": {
      "text/html": [
       "<div>\n",
       "<style scoped>\n",
       "    .dataframe tbody tr th:only-of-type {\n",
       "        vertical-align: middle;\n",
       "    }\n",
       "\n",
       "    .dataframe tbody tr th {\n",
       "        vertical-align: top;\n",
       "    }\n",
       "\n",
       "    .dataframe thead th {\n",
       "        text-align: right;\n",
       "    }\n",
       "</style>\n",
       "<table border=\"1\" class=\"dataframe\">\n",
       "  <thead>\n",
       "    <tr style=\"text-align: right;\">\n",
       "      <th></th>\n",
       "      <th>BlockGroupCode</th>\n",
       "      <th>deploymentRate</th>\n",
       "      <th>popDensity</th>\n",
       "      <th>houseRoadDensity</th>\n",
       "      <th>unemploymentRate</th>\n",
       "      <th>houseOwnerRate</th>\n",
       "      <th>maleRate</th>\n",
       "      <th>ageUnder17Rate</th>\n",
       "      <th>ageBetween18and24Rate</th>\n",
       "      <th>ageAbove65Rate</th>\n",
       "      <th>...</th>\n",
       "      <th>aboveHighSchoolRate</th>\n",
       "      <th>aboveBachelorRate</th>\n",
       "      <th>whiteRate</th>\n",
       "      <th>MovedIn1yearRate</th>\n",
       "      <th>newlyMovedRate</th>\n",
       "      <th>demRatio</th>\n",
       "      <th>avgAnnualTemp</th>\n",
       "      <th>snowResideTime</th>\n",
       "      <th>Binary_fund</th>\n",
       "      <th>Fund_Num</th>\n",
       "    </tr>\n",
       "  </thead>\n",
       "  <tbody>\n",
       "    <tr>\n",
       "      <th>0</th>\n",
       "      <td>240037401023</td>\n",
       "      <td>0.921751</td>\n",
       "      <td>530.631480</td>\n",
       "      <td>0.018007</td>\n",
       "      <td>0.000000</td>\n",
       "      <td>0.512433</td>\n",
       "      <td>0.519538</td>\n",
       "      <td>0.130551</td>\n",
       "      <td>0.163410</td>\n",
       "      <td>0.175844</td>\n",
       "      <td>...</td>\n",
       "      <td>0.831447</td>\n",
       "      <td>0.593711</td>\n",
       "      <td>0.833037</td>\n",
       "      <td>0.095915</td>\n",
       "      <td>0.034636</td>\n",
       "      <td>0.715198</td>\n",
       "      <td>13.405048</td>\n",
       "      <td>12.033084</td>\n",
       "      <td>&lt;NA&gt;</td>\n",
       "      <td>&lt;NA&gt;</td>\n",
       "    </tr>\n",
       "    <tr>\n",
       "      <th>1</th>\n",
       "      <td>310539644001</td>\n",
       "      <td>0.984882</td>\n",
       "      <td>315.650173</td>\n",
       "      <td>0.008037</td>\n",
       "      <td>0.090837</td>\n",
       "      <td>0.710682</td>\n",
       "      <td>0.519869</td>\n",
       "      <td>0.326650</td>\n",
       "      <td>0.079475</td>\n",
       "      <td>0.123952</td>\n",
       "      <td>...</td>\n",
       "      <td>0.765500</td>\n",
       "      <td>0.154696</td>\n",
       "      <td>0.935108</td>\n",
       "      <td>0.144349</td>\n",
       "      <td>0.079075</td>\n",
       "      <td>0.312402</td>\n",
       "      <td>10.682625</td>\n",
       "      <td>47.569304</td>\n",
       "      <td>1</td>\n",
       "      <td>1</td>\n",
       "    </tr>\n",
       "    <tr>\n",
       "      <th>2</th>\n",
       "      <td>040130405181</td>\n",
       "      <td>0.543803</td>\n",
       "      <td>13.435978</td>\n",
       "      <td>0.001997</td>\n",
       "      <td>0.078335</td>\n",
       "      <td>0.847551</td>\n",
       "      <td>0.376414</td>\n",
       "      <td>0.145396</td>\n",
       "      <td>0.011309</td>\n",
       "      <td>0.305331</td>\n",
       "      <td>...</td>\n",
       "      <td>0.939974</td>\n",
       "      <td>0.184547</td>\n",
       "      <td>0.949919</td>\n",
       "      <td>0.090860</td>\n",
       "      <td>0.055165</td>\n",
       "      <td>0.257031</td>\n",
       "      <td>20.335284</td>\n",
       "      <td>0.000000</td>\n",
       "      <td>1</td>\n",
       "      <td>1</td>\n",
       "    </tr>\n",
       "    <tr>\n",
       "      <th>3</th>\n",
       "      <td>010770115023</td>\n",
       "      <td>0.332420</td>\n",
       "      <td>115.973072</td>\n",
       "      <td>0.003960</td>\n",
       "      <td>0.023769</td>\n",
       "      <td>0.970097</td>\n",
       "      <td>0.503078</td>\n",
       "      <td>0.239226</td>\n",
       "      <td>0.076517</td>\n",
       "      <td>0.188215</td>\n",
       "      <td>...</td>\n",
       "      <td>0.991003</td>\n",
       "      <td>0.390746</td>\n",
       "      <td>0.963940</td>\n",
       "      <td>0.080252</td>\n",
       "      <td>0.023445</td>\n",
       "      <td>0.181746</td>\n",
       "      <td>15.998424</td>\n",
       "      <td>0.000000</td>\n",
       "      <td>1</td>\n",
       "      <td>1</td>\n",
       "    </tr>\n",
       "    <tr>\n",
       "      <th>4</th>\n",
       "      <td>270054509001</td>\n",
       "      <td>0.410920</td>\n",
       "      <td>5.868356</td>\n",
       "      <td>0.000651</td>\n",
       "      <td>0.024324</td>\n",
       "      <td>0.906849</td>\n",
       "      <td>0.495890</td>\n",
       "      <td>0.267123</td>\n",
       "      <td>0.060274</td>\n",
       "      <td>0.169863</td>\n",
       "      <td>...</td>\n",
       "      <td>0.932790</td>\n",
       "      <td>0.266802</td>\n",
       "      <td>0.954795</td>\n",
       "      <td>0.048143</td>\n",
       "      <td>0.048143</td>\n",
       "      <td>0.327561</td>\n",
       "      <td>5.280309</td>\n",
       "      <td>78.768621</td>\n",
       "      <td>1</td>\n",
       "      <td>1</td>\n",
       "    </tr>\n",
       "    <tr>\n",
       "      <th>...</th>\n",
       "      <td>...</td>\n",
       "      <td>...</td>\n",
       "      <td>...</td>\n",
       "      <td>...</td>\n",
       "      <td>...</td>\n",
       "      <td>...</td>\n",
       "      <td>...</td>\n",
       "      <td>...</td>\n",
       "      <td>...</td>\n",
       "      <td>...</td>\n",
       "      <td>...</td>\n",
       "      <td>...</td>\n",
       "      <td>...</td>\n",
       "      <td>...</td>\n",
       "      <td>...</td>\n",
       "      <td>...</td>\n",
       "      <td>...</td>\n",
       "      <td>...</td>\n",
       "      <td>...</td>\n",
       "      <td>...</td>\n",
       "      <td>...</td>\n",
       "    </tr>\n",
       "    <tr>\n",
       "      <th>208945</th>\n",
       "      <td>060710104212</td>\n",
       "      <td>1.000000</td>\n",
       "      <td>2417.777778</td>\n",
       "      <td>0.043897</td>\n",
       "      <td>0.153607</td>\n",
       "      <td>0.129902</td>\n",
       "      <td>0.490809</td>\n",
       "      <td>0.304126</td>\n",
       "      <td>0.277574</td>\n",
       "      <td>0.048407</td>\n",
       "      <td>...</td>\n",
       "      <td>0.924805</td>\n",
       "      <td>0.127441</td>\n",
       "      <td>0.732435</td>\n",
       "      <td>0.370249</td>\n",
       "      <td>0.164482</td>\n",
       "      <td>0.473796</td>\n",
       "      <td>20.674316</td>\n",
       "      <td>0.000000</td>\n",
       "      <td>&lt;NA&gt;</td>\n",
       "      <td>&lt;NA&gt;</td>\n",
       "    </tr>\n",
       "    <tr>\n",
       "      <th>208946</th>\n",
       "      <td>517100011001</td>\n",
       "      <td>1.000000</td>\n",
       "      <td>10757.352941</td>\n",
       "      <td>0.203268</td>\n",
       "      <td>0.183077</td>\n",
       "      <td>0.038961</td>\n",
       "      <td>0.529050</td>\n",
       "      <td>0.214627</td>\n",
       "      <td>0.269310</td>\n",
       "      <td>0.025290</td>\n",
       "      <td>...</td>\n",
       "      <td>0.841060</td>\n",
       "      <td>0.193377</td>\n",
       "      <td>0.438824</td>\n",
       "      <td>0.654225</td>\n",
       "      <td>0.135915</td>\n",
       "      <td>0.689837</td>\n",
       "      <td>16.184836</td>\n",
       "      <td>0.000000</td>\n",
       "      <td>&lt;NA&gt;</td>\n",
       "      <td>&lt;NA&gt;</td>\n",
       "    </tr>\n",
       "    <tr>\n",
       "      <th>208947</th>\n",
       "      <td>291019800001</td>\n",
       "      <td>1.000000</td>\n",
       "      <td>1326.258843</td>\n",
       "      <td>0.011089</td>\n",
       "      <td>0.044643</td>\n",
       "      <td>0.033881</td>\n",
       "      <td>0.641983</td>\n",
       "      <td>0.221525</td>\n",
       "      <td>0.443364</td>\n",
       "      <td>0.000000</td>\n",
       "      <td>...</td>\n",
       "      <td>0.962547</td>\n",
       "      <td>0.348315</td>\n",
       "      <td>0.842485</td>\n",
       "      <td>0.522291</td>\n",
       "      <td>0.390823</td>\n",
       "      <td>0.289344</td>\n",
       "      <td>13.099399</td>\n",
       "      <td>25.035203</td>\n",
       "      <td>&lt;NA&gt;</td>\n",
       "      <td>&lt;NA&gt;</td>\n",
       "    </tr>\n",
       "    <tr>\n",
       "      <th>208948</th>\n",
       "      <td>360450606004</td>\n",
       "      <td>1.000000</td>\n",
       "      <td>297.437182</td>\n",
       "      <td>0.015636</td>\n",
       "      <td>0.026882</td>\n",
       "      <td>0.219498</td>\n",
       "      <td>0.564693</td>\n",
       "      <td>0.230704</td>\n",
       "      <td>0.193938</td>\n",
       "      <td>0.021050</td>\n",
       "      <td>...</td>\n",
       "      <td>0.964878</td>\n",
       "      <td>0.292195</td>\n",
       "      <td>0.603424</td>\n",
       "      <td>0.505539</td>\n",
       "      <td>0.304082</td>\n",
       "      <td>0.390278</td>\n",
       "      <td>7.677019</td>\n",
       "      <td>79.634860</td>\n",
       "      <td>&lt;NA&gt;</td>\n",
       "      <td>&lt;NA&gt;</td>\n",
       "    </tr>\n",
       "    <tr>\n",
       "      <th>208949</th>\n",
       "      <td>480270225023</td>\n",
       "      <td>1.000000</td>\n",
       "      <td>3729.000000</td>\n",
       "      <td>0.104592</td>\n",
       "      <td>0.068225</td>\n",
       "      <td>0.216144</td>\n",
       "      <td>0.471976</td>\n",
       "      <td>0.241888</td>\n",
       "      <td>0.133816</td>\n",
       "      <td>0.075623</td>\n",
       "      <td>...</td>\n",
       "      <td>0.900773</td>\n",
       "      <td>0.230241</td>\n",
       "      <td>0.374095</td>\n",
       "      <td>0.475459</td>\n",
       "      <td>0.110502</td>\n",
       "      <td>0.630387</td>\n",
       "      <td>19.402830</td>\n",
       "      <td>0.000000</td>\n",
       "      <td>&lt;NA&gt;</td>\n",
       "      <td>&lt;NA&gt;</td>\n",
       "    </tr>\n",
       "  </tbody>\n",
       "</table>\n",
       "<p>208950 rows × 21 columns</p>\n",
       "</div>"
      ],
      "text/plain": [
       "       BlockGroupCode  deploymentRate    popDensity  houseRoadDensity  \\\n",
       "0        240037401023        0.921751    530.631480          0.018007   \n",
       "1        310539644001        0.984882    315.650173          0.008037   \n",
       "2        040130405181        0.543803     13.435978          0.001997   \n",
       "3        010770115023        0.332420    115.973072          0.003960   \n",
       "4        270054509001        0.410920      5.868356          0.000651   \n",
       "...               ...             ...           ...               ...   \n",
       "208945   060710104212        1.000000   2417.777778          0.043897   \n",
       "208946   517100011001        1.000000  10757.352941          0.203268   \n",
       "208947   291019800001        1.000000   1326.258843          0.011089   \n",
       "208948   360450606004        1.000000    297.437182          0.015636   \n",
       "208949   480270225023        1.000000   3729.000000          0.104592   \n",
       "\n",
       "        unemploymentRate  houseOwnerRate  maleRate  ageUnder17Rate  \\\n",
       "0               0.000000        0.512433  0.519538        0.130551   \n",
       "1               0.090837        0.710682  0.519869        0.326650   \n",
       "2               0.078335        0.847551  0.376414        0.145396   \n",
       "3               0.023769        0.970097  0.503078        0.239226   \n",
       "4               0.024324        0.906849  0.495890        0.267123   \n",
       "...                  ...             ...       ...             ...   \n",
       "208945          0.153607        0.129902  0.490809        0.304126   \n",
       "208946          0.183077        0.038961  0.529050        0.214627   \n",
       "208947          0.044643        0.033881  0.641983        0.221525   \n",
       "208948          0.026882        0.219498  0.564693        0.230704   \n",
       "208949          0.068225        0.216144  0.471976        0.241888   \n",
       "\n",
       "        ageBetween18and24Rate  ageAbove65Rate  ...  aboveHighSchoolRate  \\\n",
       "0                    0.163410        0.175844  ...             0.831447   \n",
       "1                    0.079475        0.123952  ...             0.765500   \n",
       "2                    0.011309        0.305331  ...             0.939974   \n",
       "3                    0.076517        0.188215  ...             0.991003   \n",
       "4                    0.060274        0.169863  ...             0.932790   \n",
       "...                       ...             ...  ...                  ...   \n",
       "208945               0.277574        0.048407  ...             0.924805   \n",
       "208946               0.269310        0.025290  ...             0.841060   \n",
       "208947               0.443364        0.000000  ...             0.962547   \n",
       "208948               0.193938        0.021050  ...             0.964878   \n",
       "208949               0.133816        0.075623  ...             0.900773   \n",
       "\n",
       "        aboveBachelorRate  whiteRate  MovedIn1yearRate  newlyMovedRate  \\\n",
       "0                0.593711   0.833037          0.095915        0.034636   \n",
       "1                0.154696   0.935108          0.144349        0.079075   \n",
       "2                0.184547   0.949919          0.090860        0.055165   \n",
       "3                0.390746   0.963940          0.080252        0.023445   \n",
       "4                0.266802   0.954795          0.048143        0.048143   \n",
       "...                   ...        ...               ...             ...   \n",
       "208945           0.127441   0.732435          0.370249        0.164482   \n",
       "208946           0.193377   0.438824          0.654225        0.135915   \n",
       "208947           0.348315   0.842485          0.522291        0.390823   \n",
       "208948           0.292195   0.603424          0.505539        0.304082   \n",
       "208949           0.230241   0.374095          0.475459        0.110502   \n",
       "\n",
       "        demRatio  avgAnnualTemp  snowResideTime  Binary_fund  Fund_Num  \n",
       "0       0.715198      13.405048       12.033084         <NA>      <NA>  \n",
       "1       0.312402      10.682625       47.569304            1         1  \n",
       "2       0.257031      20.335284        0.000000            1         1  \n",
       "3       0.181746      15.998424        0.000000            1         1  \n",
       "4       0.327561       5.280309       78.768621            1         1  \n",
       "...          ...            ...             ...          ...       ...  \n",
       "208945  0.473796      20.674316        0.000000         <NA>      <NA>  \n",
       "208946  0.689837      16.184836        0.000000         <NA>      <NA>  \n",
       "208947  0.289344      13.099399       25.035203         <NA>      <NA>  \n",
       "208948  0.390278       7.677019       79.634860         <NA>      <NA>  \n",
       "208949  0.630387      19.402830        0.000000         <NA>      <NA>  \n",
       "\n",
       "[208950 rows x 21 columns]"
      ]
     },
     "execution_count": 100,
     "metadata": {},
     "output_type": "execute_result"
    }
   ],
   "source": [
    "data"
   ]
  },
  {
   "cell_type": "code",
   "execution_count": 101,
   "id": "34797698",
   "metadata": {},
   "outputs": [
    {
     "name": "stdout",
     "output_type": "stream",
     "text": [
      "<class 'pandas.core.frame.DataFrame'>\n",
      "RangeIndex: 208950 entries, 0 to 208949\n",
      "Data columns (total 21 columns):\n",
      " #   Column                 Non-Null Count   Dtype  \n",
      "---  ------                 --------------   -----  \n",
      " 0   BlockGroupCode         208950 non-null  object \n",
      " 1   deploymentRate         208743 non-null  float64\n",
      " 2   popDensity             208760 non-null  float64\n",
      " 3   houseRoadDensity       208902 non-null  float64\n",
      " 4   unemploymentRate       208066 non-null  float64\n",
      " 5   houseOwnerRate         207887 non-null  float64\n",
      " 6   maleRate               208324 non-null  float64\n",
      " 7   ageUnder17Rate         208324 non-null  float64\n",
      " 8   ageBetween18and24Rate  208324 non-null  float64\n",
      " 9   ageAbove65Rate         208324 non-null  float64\n",
      " 10  medianIncome           201658 non-null  Int64  \n",
      " 11  aboveHighSchoolRate    208265 non-null  float64\n",
      " 12  aboveBachelorRate      208265 non-null  float64\n",
      " 13  whiteRate              208324 non-null  float64\n",
      " 14  MovedIn1yearRate       208324 non-null  float64\n",
      " 15  newlyMovedRate         208324 non-null  float64\n",
      " 16  demRatio               208924 non-null  float64\n",
      " 17  avgAnnualTemp          208890 non-null  float64\n",
      " 18  snowResideTime         208890 non-null  float64\n",
      " 19  Binary_fund            39578 non-null   Int64  \n",
      " 20  Fund_Num               39578 non-null   Int64  \n",
      "dtypes: Int64(3), float64(17), object(1)\n",
      "memory usage: 34.1+ MB\n"
     ]
    }
   ],
   "source": [
    "data.info()"
   ]
  },
  {
   "cell_type": "code",
   "execution_count": 98,
   "id": "074a3366",
   "metadata": {},
   "outputs": [],
   "source": [
    "# data.dropna(inplace=True)"
   ]
  },
  {
   "cell_type": "code",
   "execution_count": 102,
   "id": "41b4dadb",
   "metadata": {},
   "outputs": [],
   "source": [
    "data.Binary_fund.fillna(0,inplace=True) # impute with 0, no fund received "
   ]
  },
  {
   "cell_type": "code",
   "execution_count": 103,
   "id": "b038dd4c",
   "metadata": {},
   "outputs": [],
   "source": [
    "data.Fund_Num.fillna(0,inplace=True)"
   ]
  },
  {
   "cell_type": "code",
   "execution_count": 104,
   "id": "69ebdd5d",
   "metadata": {},
   "outputs": [
    {
     "name": "stdout",
     "output_type": "stream",
     "text": [
      "<class 'pandas.core.frame.DataFrame'>\n",
      "RangeIndex: 208950 entries, 0 to 208949\n",
      "Data columns (total 21 columns):\n",
      " #   Column                 Non-Null Count   Dtype  \n",
      "---  ------                 --------------   -----  \n",
      " 0   BlockGroupCode         208950 non-null  object \n",
      " 1   deploymentRate         208743 non-null  float64\n",
      " 2   popDensity             208760 non-null  float64\n",
      " 3   houseRoadDensity       208902 non-null  float64\n",
      " 4   unemploymentRate       208066 non-null  float64\n",
      " 5   houseOwnerRate         207887 non-null  float64\n",
      " 6   maleRate               208324 non-null  float64\n",
      " 7   ageUnder17Rate         208324 non-null  float64\n",
      " 8   ageBetween18and24Rate  208324 non-null  float64\n",
      " 9   ageAbove65Rate         208324 non-null  float64\n",
      " 10  medianIncome           201658 non-null  Int64  \n",
      " 11  aboveHighSchoolRate    208265 non-null  float64\n",
      " 12  aboveBachelorRate      208265 non-null  float64\n",
      " 13  whiteRate              208324 non-null  float64\n",
      " 14  MovedIn1yearRate       208324 non-null  float64\n",
      " 15  newlyMovedRate         208324 non-null  float64\n",
      " 16  demRatio               208924 non-null  float64\n",
      " 17  avgAnnualTemp          208890 non-null  float64\n",
      " 18  snowResideTime         208890 non-null  float64\n",
      " 19  Binary_fund            208950 non-null  Int64  \n",
      " 20  Fund_Num               208950 non-null  Int64  \n",
      "dtypes: Int64(3), float64(17), object(1)\n",
      "memory usage: 34.1+ MB\n"
     ]
    }
   ],
   "source": [
    "# check fund\n",
    "data.info()"
   ]
  },
  {
   "cell_type": "code",
   "execution_count": 106,
   "id": "c689b8cd",
   "metadata": {},
   "outputs": [],
   "source": [
    "# drop only rows with nan in deploymentRate using subset\n",
    "data = data.dropna() "
   ]
  },
  {
   "cell_type": "code",
   "execution_count": 108,
   "id": "380832b9",
   "metadata": {},
   "outputs": [
    {
     "data": {
      "text/plain": [
       "201559"
      ]
     },
     "execution_count": 108,
     "metadata": {},
     "output_type": "execute_result"
    }
   ],
   "source": [
    "len(data)"
   ]
  },
  {
   "cell_type": "code",
   "execution_count": 109,
   "id": "767fcc73",
   "metadata": {},
   "outputs": [],
   "source": [
    "data = data.drop('BlockGroupCode',axis=1)"
   ]
  },
  {
   "cell_type": "code",
   "execution_count": 110,
   "id": "cffe5158",
   "metadata": {},
   "outputs": [],
   "source": [
    "y = data[\"deploymentRate\"]\n",
    "X = data.drop([\"deploymentRate\"],axis=1)"
   ]
  },
  {
   "cell_type": "code",
   "execution_count": 111,
   "id": "118e7646",
   "metadata": {},
   "outputs": [],
   "source": [
    "cols_to_norm = X.columns\n",
    "data[cols_to_norm] = data[cols_to_norm].apply(lambda x: (x - x.mean()) / (x.std()))"
   ]
  },
  {
   "cell_type": "code",
   "execution_count": 112,
   "id": "69c20ef2",
   "metadata": {},
   "outputs": [
    {
     "data": {
      "text/plain": [
       "((201559, 19), (201559,))"
      ]
     },
     "execution_count": 112,
     "metadata": {},
     "output_type": "execute_result"
    }
   ],
   "source": [
    "X.shape,y.shape"
   ]
  },
  {
   "cell_type": "code",
   "execution_count": 113,
   "id": "79b04bf2",
   "metadata": {},
   "outputs": [
    {
     "data": {
      "text/plain": [
       "Index(['popDensity', 'houseRoadDensity', 'unemploymentRate', 'houseOwnerRate',\n",
       "       'maleRate', 'ageUnder17Rate', 'ageBetween18and24Rate', 'ageAbove65Rate',\n",
       "       'medianIncome', 'aboveHighSchoolRate', 'aboveBachelorRate', 'whiteRate',\n",
       "       'MovedIn1yearRate', 'newlyMovedRate', 'demRatio', 'avgAnnualTemp',\n",
       "       'snowResideTime', 'Binary_fund', 'Fund_Num'],\n",
       "      dtype='object')"
      ]
     },
     "execution_count": 113,
     "metadata": {},
     "output_type": "execute_result"
    }
   ],
   "source": [
    "X.columns"
   ]
  },
  {
   "cell_type": "code",
   "execution_count": 16,
   "id": "2691fb33",
   "metadata": {},
   "outputs": [
    {
     "name": "stdout",
     "output_type": "stream",
     "text": [
      "Requirement already satisfied: sklearn in /Users/caoshengyuan/opt/anaconda3/lib/python3.8/site-packages (0.0.post1)\r\n"
     ]
    }
   ],
   "source": [
    "# !pip install sklearn"
   ]
  },
  {
   "cell_type": "code",
   "execution_count": 23,
   "id": "2816d850",
   "metadata": {},
   "outputs": [],
   "source": [
    "# !pip install scipy"
   ]
  },
  {
   "cell_type": "code",
   "execution_count": 114,
   "id": "69d7b50d",
   "metadata": {},
   "outputs": [],
   "source": [
    "from sklearn.model_selection import train_test_split"
   ]
  },
  {
   "cell_type": "code",
   "execution_count": 115,
   "id": "5516adf9",
   "metadata": {},
   "outputs": [],
   "source": [
    "X_dev, X_test, y_dev, y_test = train_test_split(X, y, test_size=0.2, random_state=42)"
   ]
  },
  {
   "cell_type": "code",
   "execution_count": 116,
   "id": "31f3356e",
   "metadata": {},
   "outputs": [],
   "source": [
    "from sklearn.preprocessing import StandardScaler\n",
    "from sklearn.compose import make_column_transformer\n",
    "from sklearn.pipeline import make_pipeline\n",
    "from sklearn.tree import DecisionTreeRegressor"
   ]
  },
  {
   "cell_type": "code",
   "execution_count": 117,
   "id": "a4b62ba0",
   "metadata": {},
   "outputs": [
    {
     "name": "stdout",
     "output_type": "stream",
     "text": [
      "performance on development data\n",
      "0.45572813510445676\n",
      "performance on test data\n",
      "0.4340545044224011\n"
     ]
    }
   ],
   "source": [
    "model = DecisionTreeRegressor(min_samples_split=2000)\n",
    "model.fit(X_dev,y_dev)\n",
    "\n",
    "y_dev_pred_prune = model.predict(X_dev)\n",
    "y_test_pred_prune = model.predict(X_test)\n",
    "\n",
    "print(\"performance on development data\")\n",
    "print(model.score(X_dev,y_dev))\n",
    "\n",
    "print(\"performance on test data\")\n",
    "print(model.score(X_test, y_test))"
   ]
  },
  {
   "cell_type": "code",
   "execution_count": 118,
   "id": "8a06e01d",
   "metadata": {},
   "outputs": [],
   "source": [
    "from sklearn.ensemble import HistGradientBoostingRegressor\n",
    "from sklearn.ensemble import GradientBoostingRegressor"
   ]
  },
  {
   "cell_type": "code",
   "execution_count": 119,
   "id": "240ca0d7",
   "metadata": {},
   "outputs": [
    {
     "name": "stdout",
     "output_type": "stream",
     "text": [
      "performance on development data\n",
      "0.519790047194151\n",
      "performance on test data\n",
      "0.479813433405859\n"
     ]
    }
   ],
   "source": [
    "model = HistGradientBoostingRegressor() # No feature importance, min_samples_split=2000\n",
    "model.fit(X_dev,y_dev)\n",
    "\n",
    "y_dev_pred_prune = model.predict(X_dev)\n",
    "y_test_pred_prune = model.predict(X_test)\n",
    "\n",
    "print(\"performance on development data\")\n",
    "print(model.score(X_dev,y_dev))\n",
    "\n",
    "print(\"performance on test data\")\n",
    "print(model.score(X_test, y_test))"
   ]
  },
  {
   "cell_type": "code",
   "execution_count": 127,
   "id": "a48ed6d0",
   "metadata": {},
   "outputs": [],
   "source": [
    "# rand_impor = pd.DataFrame(index=X.columns,data=model.feature_importances_,columns=['Decision Tree Feature Importance'])\n",
    "# rand_impor.sort_values(by=['Decision Tree Feature Importance'],ascending = False)"
   ]
  },
  {
   "cell_type": "code",
   "execution_count": 128,
   "id": "cd228d9e",
   "metadata": {},
   "outputs": [
    {
     "name": "stdout",
     "output_type": "stream",
     "text": [
      "performance on development data\n",
      "0.4743130524880955\n",
      "performance on test data\n",
      "0.45388434895317764\n"
     ]
    }
   ],
   "source": [
    "from sklearn.ensemble import RandomForestRegressor\n",
    "\n",
    "model = RandomForestRegressor(min_samples_split=1000)\n",
    "model.fit(X_dev,y_dev)\n",
    "\n",
    "y_dev_pred_prune = model.predict(X_dev)\n",
    "y_test_pred_prune = model.predict(X_test)\n",
    "\n",
    "print(\"performance on development data\")\n",
    "print(model.score(X_dev,y_dev))\n",
    "\n",
    "print(\"performance on test data\")\n",
    "print(model.score(X_test, y_test))"
   ]
  },
  {
   "cell_type": "code",
   "execution_count": 129,
   "id": "f7a0acd2",
   "metadata": {},
   "outputs": [
    {
     "data": {
      "text/html": [
       "<div>\n",
       "<style scoped>\n",
       "    .dataframe tbody tr th:only-of-type {\n",
       "        vertical-align: middle;\n",
       "    }\n",
       "\n",
       "    .dataframe tbody tr th {\n",
       "        vertical-align: top;\n",
       "    }\n",
       "\n",
       "    .dataframe thead th {\n",
       "        text-align: right;\n",
       "    }\n",
       "</style>\n",
       "<table border=\"1\" class=\"dataframe\">\n",
       "  <thead>\n",
       "    <tr style=\"text-align: right;\">\n",
       "      <th></th>\n",
       "      <th>Random Forest Feature Importance</th>\n",
       "    </tr>\n",
       "  </thead>\n",
       "  <tbody>\n",
       "    <tr>\n",
       "      <th>popDensity</th>\n",
       "      <td>0.788129</td>\n",
       "    </tr>\n",
       "    <tr>\n",
       "      <th>houseRoadDensity</th>\n",
       "      <td>0.069823</td>\n",
       "    </tr>\n",
       "    <tr>\n",
       "      <th>avgAnnualTemp</th>\n",
       "      <td>0.042859</td>\n",
       "    </tr>\n",
       "    <tr>\n",
       "      <th>snowResideTime</th>\n",
       "      <td>0.030802</td>\n",
       "    </tr>\n",
       "    <tr>\n",
       "      <th>Binary_fund</th>\n",
       "      <td>0.017235</td>\n",
       "    </tr>\n",
       "    <tr>\n",
       "      <th>whiteRate</th>\n",
       "      <td>0.010576</td>\n",
       "    </tr>\n",
       "    <tr>\n",
       "      <th>demRatio</th>\n",
       "      <td>0.007716</td>\n",
       "    </tr>\n",
       "    <tr>\n",
       "      <th>Fund_Num</th>\n",
       "      <td>0.007311</td>\n",
       "    </tr>\n",
       "    <tr>\n",
       "      <th>medianIncome</th>\n",
       "      <td>0.005744</td>\n",
       "    </tr>\n",
       "    <tr>\n",
       "      <th>aboveBachelorRate</th>\n",
       "      <td>0.005457</td>\n",
       "    </tr>\n",
       "    <tr>\n",
       "      <th>aboveHighSchoolRate</th>\n",
       "      <td>0.003197</td>\n",
       "    </tr>\n",
       "    <tr>\n",
       "      <th>newlyMovedRate</th>\n",
       "      <td>0.002411</td>\n",
       "    </tr>\n",
       "    <tr>\n",
       "      <th>ageAbove65Rate</th>\n",
       "      <td>0.001891</td>\n",
       "    </tr>\n",
       "    <tr>\n",
       "      <th>ageUnder17Rate</th>\n",
       "      <td>0.001752</td>\n",
       "    </tr>\n",
       "    <tr>\n",
       "      <th>houseOwnerRate</th>\n",
       "      <td>0.001306</td>\n",
       "    </tr>\n",
       "    <tr>\n",
       "      <th>maleRate</th>\n",
       "      <td>0.001180</td>\n",
       "    </tr>\n",
       "    <tr>\n",
       "      <th>ageBetween18and24Rate</th>\n",
       "      <td>0.000877</td>\n",
       "    </tr>\n",
       "    <tr>\n",
       "      <th>unemploymentRate</th>\n",
       "      <td>0.000869</td>\n",
       "    </tr>\n",
       "    <tr>\n",
       "      <th>MovedIn1yearRate</th>\n",
       "      <td>0.000866</td>\n",
       "    </tr>\n",
       "  </tbody>\n",
       "</table>\n",
       "</div>"
      ],
      "text/plain": [
       "                       Random Forest Feature Importance\n",
       "popDensity                                     0.788129\n",
       "houseRoadDensity                               0.069823\n",
       "avgAnnualTemp                                  0.042859\n",
       "snowResideTime                                 0.030802\n",
       "Binary_fund                                    0.017235\n",
       "whiteRate                                      0.010576\n",
       "demRatio                                       0.007716\n",
       "Fund_Num                                       0.007311\n",
       "medianIncome                                   0.005744\n",
       "aboveBachelorRate                              0.005457\n",
       "aboveHighSchoolRate                            0.003197\n",
       "newlyMovedRate                                 0.002411\n",
       "ageAbove65Rate                                 0.001891\n",
       "ageUnder17Rate                                 0.001752\n",
       "houseOwnerRate                                 0.001306\n",
       "maleRate                                       0.001180\n",
       "ageBetween18and24Rate                          0.000877\n",
       "unemploymentRate                               0.000869\n",
       "MovedIn1yearRate                               0.000866"
      ]
     },
     "execution_count": 129,
     "metadata": {},
     "output_type": "execute_result"
    }
   ],
   "source": [
    "rand_impor = pd.DataFrame(index=X.columns,data = model.feature_importances_,columns=['Random Forest Feature Importance'])\n",
    "rand_impor.sort_values(by=['Random Forest Feature Importance'], ascending = False)"
   ]
  },
  {
   "cell_type": "code",
   "execution_count": null,
   "id": "e543b119",
   "metadata": {},
   "outputs": [],
   "source": [
    "# choose 4 features to re-run the model "
   ]
  },
  {
   "cell_type": "code",
   "execution_count": 130,
   "id": "dd36a1d5",
   "metadata": {},
   "outputs": [
    {
     "data": {
      "image/png": "[encoded data removed]",
      "text/plain": [
       "<Figure size 1500x1000 with 1 Axes>"
      ]
     },
     "metadata": {},
     "output_type": "display_data"
    }
   ],
   "source": [
    "plt.figure(figsize=(15,10))\n",
    "labels = X.columns.to_list()\n",
    "\n",
    "p = sns.barplot(x=labels, y= model.feature_importances_.flatten());  # flatten() returns a copy of an array collapsed into one dimension.\n",
    "p.set(xlabel = \"Features\", ylabel = \"Feature importance\");\n",
    "p.tick_params(axis='x',rotation =90)"
   ]
  },
  {
   "cell_type": "code",
   "execution_count": 131,
   "id": "33bd9c88",
   "metadata": {},
   "outputs": [],
   "source": [
    "y_new = data[\"deploymentRate\"]\n",
    "X_new = data[['popDensity','houseRoadDensity','avgAnnualTemp','Binary_fund']]"
   ]
  },
  {
   "cell_type": "code",
   "execution_count": 132,
   "id": "320a911c",
   "metadata": {},
   "outputs": [],
   "source": [
    "cols_to_norm = X_new.columns\n",
    "data[cols_to_norm] = data[cols_to_norm].apply(lambda x: (x - x.mean()) / (x.std()))"
   ]
  },
  {
   "cell_type": "code",
   "execution_count": 136,
   "id": "ebe3209d",
   "metadata": {},
   "outputs": [],
   "source": [
    "X_dev_new, X_test_new, y_dev_new, y_test_new = train_test_split(X_new, y_new, test_size=0.2, random_state=42)"
   ]
  },
  {
   "cell_type": "code",
   "execution_count": 137,
   "id": "76a51655",
   "metadata": {},
   "outputs": [
    {
     "name": "stdout",
     "output_type": "stream",
     "text": [
      "performance on development data\n",
      "0.4559923072615315\n",
      "performance on test data\n",
      "0.44097701002595413\n"
     ]
    }
   ],
   "source": [
    "from sklearn.ensemble import RandomForestRegressor\n",
    "\n",
    "model = RandomForestRegressor(min_samples_split=1000)\n",
    "model.fit(X_dev_new,y_dev_new)\n",
    "\n",
    "y_dev_pred_prune_new = model.predict(X_dev_new)\n",
    "y_test_pred_prune_new = model.predict(X_test_new)\n",
    "\n",
    "print(\"performance on development data\")\n",
    "print(model.score(X_dev_new,y_dev_new))\n",
    "\n",
    "print(\"performance on test data\")\n",
    "print(model.score(X_test_new, y_test_new))"
   ]
  }
 ],
 "metadata": {
  "kernelspec": {
   "display_name": "Python 3 (ipykernel)",
   "language": "python",
   "name": "python3"
  },
  "language_info": {
   "codemirror_mode": {
    "name": "ipython",
    "version": 3
   },
   "file_extension": ".py",
   "mimetype": "text/x-python",
   "name": "python",
   "nbconvert_exporter": "python",
   "pygments_lexer": "ipython3",
   "version": "3.8.8"
  }
 },
 "nbformat": 4,
 "nbformat_minor": 5
}
